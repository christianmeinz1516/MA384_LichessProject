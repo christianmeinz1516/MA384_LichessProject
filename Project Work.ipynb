{
 "cells": [
  {
   "cell_type": "code",
   "execution_count": 1,
   "id": "21273182",
   "metadata": {},
   "outputs": [],
   "source": [
    "import numpy as np\n",
    "import pandas as pd"
   ]
  },
  {
   "cell_type": "markdown",
   "id": "73704629",
   "metadata": {},
   "source": [
    "# Cleaning"
   ]
  },
  {
   "cell_type": "code",
   "execution_count": 2,
   "id": "20d5fa50",
   "metadata": {
    "scrolled": true
   },
   "outputs": [
    {
     "data": {
      "text/html": [
       "<div>\n",
       "<style scoped>\n",
       "    .dataframe tbody tr th:only-of-type {\n",
       "        vertical-align: middle;\n",
       "    }\n",
       "\n",
       "    .dataframe tbody tr th {\n",
       "        vertical-align: top;\n",
       "    }\n",
       "\n",
       "    .dataframe thead th {\n",
       "        text-align: right;\n",
       "    }\n",
       "</style>\n",
       "<table border=\"1\" class=\"dataframe\">\n",
       "  <thead>\n",
       "    <tr style=\"text-align: right;\">\n",
       "      <th></th>\n",
       "      <th>Event</th>\n",
       "      <th>Site</th>\n",
       "      <th>White</th>\n",
       "      <th>Black</th>\n",
       "      <th>Result</th>\n",
       "      <th>WhiteElo</th>\n",
       "      <th>BlackElo</th>\n",
       "      <th>WhiteRatingDiff</th>\n",
       "      <th>BlackRatingDiff</th>\n",
       "      <th>ECO</th>\n",
       "      <th>TimeControl</th>\n",
       "      <th>Termination</th>\n",
       "      <th>Moves</th>\n",
       "      <th>WhiteTitle</th>\n",
       "      <th>BlackTitle</th>\n",
       "      <th>LichessId</th>\n",
       "      <th>Date</th>\n",
       "    </tr>\n",
       "  </thead>\n",
       "  <tbody>\n",
       "    <tr>\n",
       "      <th>0</th>\n",
       "      <td>Classical</td>\n",
       "      <td>https://lichess.org/a9tcp02g</td>\n",
       "      <td>Desmond_Wilson</td>\n",
       "      <td>savinka59</td>\n",
       "      <td>White</td>\n",
       "      <td>1654.0</td>\n",
       "      <td>1919.0</td>\n",
       "      <td>19.0</td>\n",
       "      <td>-22.0</td>\n",
       "      <td>D04</td>\n",
       "      <td>480+2</td>\n",
       "      <td>Normal</td>\n",
       "      <td>1. d4 d5 2. Nf3 Nf6 3. e3 Bf5 4. Nh4 Bg6 5. Nx...</td>\n",
       "      <td>NaN</td>\n",
       "      <td>NaN</td>\n",
       "      <td>&lt;NA&gt;</td>\n",
       "      <td>2012-12-31 23:04:12</td>\n",
       "    </tr>\n",
       "    <tr>\n",
       "      <th>1</th>\n",
       "      <td>Classical</td>\n",
       "      <td>https://lichess.org/iclkx584</td>\n",
       "      <td>Voltvolf</td>\n",
       "      <td>Marzinkus</td>\n",
       "      <td>White</td>\n",
       "      <td>1824.0</td>\n",
       "      <td>1811.0</td>\n",
       "      <td>11.0</td>\n",
       "      <td>-11.0</td>\n",
       "      <td>C02</td>\n",
       "      <td>360+6</td>\n",
       "      <td>Normal</td>\n",
       "      <td>1. e4 e6 2. d4 d5 3. e5 c5 4. c3 Ne7 5. f4 cxd...</td>\n",
       "      <td>NaN</td>\n",
       "      <td>NaN</td>\n",
       "      <td>&lt;NA&gt;</td>\n",
       "      <td>2012-12-31 23:10:00</td>\n",
       "    </tr>\n",
       "    <tr>\n",
       "      <th>2</th>\n",
       "      <td>Classical</td>\n",
       "      <td>https://lichess.org/ufcqmfxx</td>\n",
       "      <td>6WX</td>\n",
       "      <td>adamsrj</td>\n",
       "      <td>White</td>\n",
       "      <td>1463.0</td>\n",
       "      <td>1504.0</td>\n",
       "      <td>62.0</td>\n",
       "      <td>-12.0</td>\n",
       "      <td>C44</td>\n",
       "      <td>1560+30</td>\n",
       "      <td>Normal</td>\n",
       "      <td>1. e4 e5 2. Nf3 Nc6 3. Bc4 Be7 4. d4 exd4 5. N...</td>\n",
       "      <td>NaN</td>\n",
       "      <td>NaN</td>\n",
       "      <td>&lt;NA&gt;</td>\n",
       "      <td>2012-12-31 23:16:04</td>\n",
       "    </tr>\n",
       "    <tr>\n",
       "      <th>3</th>\n",
       "      <td>Classical</td>\n",
       "      <td>https://lichess.org/qwuudn2s</td>\n",
       "      <td>sebastian44</td>\n",
       "      <td>jtkjtkful</td>\n",
       "      <td>Black</td>\n",
       "      <td>1347.0</td>\n",
       "      <td>1519.0</td>\n",
       "      <td>-6.0</td>\n",
       "      <td>23.0</td>\n",
       "      <td>B01</td>\n",
       "      <td>300+5</td>\n",
       "      <td>Time forfeit</td>\n",
       "      <td>1. e4 d5 2. e5 d4 3. Nf3 Nc6 4. c3 d3 5. Na3 f...</td>\n",
       "      <td>NaN</td>\n",
       "      <td>NaN</td>\n",
       "      <td>&lt;NA&gt;</td>\n",
       "      <td>2012-12-31 23:24:11</td>\n",
       "    </tr>\n",
       "    <tr>\n",
       "      <th>4</th>\n",
       "      <td>Classical</td>\n",
       "      <td>https://lichess.org/c9qfp8es</td>\n",
       "      <td>peter2</td>\n",
       "      <td>Killi</td>\n",
       "      <td>Black</td>\n",
       "      <td>1519.0</td>\n",
       "      <td>1572.0</td>\n",
       "      <td>-9.0</td>\n",
       "      <td>9.0</td>\n",
       "      <td>C28</td>\n",
       "      <td>480+0</td>\n",
       "      <td>Normal</td>\n",
       "      <td>1. e4 Nc6 2. Nc3 e5 3. Bc4 Nf6 4. d3 h6 5. f3 ...</td>\n",
       "      <td>NaN</td>\n",
       "      <td>NaN</td>\n",
       "      <td>&lt;NA&gt;</td>\n",
       "      <td>2013-01-01 00:51:20</td>\n",
       "    </tr>\n",
       "  </tbody>\n",
       "</table>\n",
       "</div>"
      ],
      "text/plain": [
       "       Event                          Site           White      Black Result  \\\n",
       "0  Classical  https://lichess.org/a9tcp02g  Desmond_Wilson  savinka59  White   \n",
       "1  Classical  https://lichess.org/iclkx584        Voltvolf  Marzinkus  White   \n",
       "2  Classical  https://lichess.org/ufcqmfxx             6WX    adamsrj  White   \n",
       "3  Classical  https://lichess.org/qwuudn2s     sebastian44  jtkjtkful  Black   \n",
       "4  Classical  https://lichess.org/c9qfp8es          peter2      Killi  Black   \n",
       "\n",
       "   WhiteElo  BlackElo  WhiteRatingDiff  BlackRatingDiff  ECO TimeControl  \\\n",
       "0    1654.0    1919.0             19.0            -22.0  D04       480+2   \n",
       "1    1824.0    1811.0             11.0            -11.0  C02       360+6   \n",
       "2    1463.0    1504.0             62.0            -12.0  C44     1560+30   \n",
       "3    1347.0    1519.0             -6.0             23.0  B01       300+5   \n",
       "4    1519.0    1572.0             -9.0              9.0  C28       480+0   \n",
       "\n",
       "    Termination                                              Moves WhiteTitle  \\\n",
       "0        Normal  1. d4 d5 2. Nf3 Nf6 3. e3 Bf5 4. Nh4 Bg6 5. Nx...        NaN   \n",
       "1        Normal  1. e4 e6 2. d4 d5 3. e5 c5 4. c3 Ne7 5. f4 cxd...        NaN   \n",
       "2        Normal  1. e4 e5 2. Nf3 Nc6 3. Bc4 Be7 4. d4 exd4 5. N...        NaN   \n",
       "3  Time forfeit  1. e4 d5 2. e5 d4 3. Nf3 Nc6 4. c3 d3 5. Na3 f...        NaN   \n",
       "4        Normal  1. e4 Nc6 2. Nc3 e5 3. Bc4 Nf6 4. d3 h6 5. f3 ...        NaN   \n",
       "\n",
       "  BlackTitle LichessId                Date  \n",
       "0        NaN      <NA> 2012-12-31 23:04:12  \n",
       "1        NaN      <NA> 2012-12-31 23:10:00  \n",
       "2        NaN      <NA> 2012-12-31 23:16:04  \n",
       "3        NaN      <NA> 2012-12-31 23:24:11  \n",
       "4        NaN      <NA> 2013-01-01 00:51:20  "
      ]
     },
     "execution_count": 2,
     "metadata": {},
     "output_type": "execute_result"
    }
   ],
   "source": [
    "df = pd.read_parquet('../../Data/lichess-sampled.parquet')\n",
    "df.head()"
   ]
  },
  {
   "cell_type": "code",
   "execution_count": 3,
   "id": "8d8eb565",
   "metadata": {},
   "outputs": [
    {
     "data": {
      "text/plain": [
       "(4286409, 17)"
      ]
     },
     "execution_count": 3,
     "metadata": {},
     "output_type": "execute_result"
    }
   ],
   "source": [
    "df.shape"
   ]
  },
  {
   "cell_type": "code",
   "execution_count": 4,
   "id": "40521706",
   "metadata": {},
   "outputs": [
    {
     "data": {
      "text/plain": [
       "Index(['Event', 'Site', 'White', 'Black', 'Result', 'WhiteElo', 'BlackElo',\n",
       "       'WhiteRatingDiff', 'BlackRatingDiff', 'ECO', 'TimeControl',\n",
       "       'Termination', 'Moves', 'WhiteTitle', 'BlackTitle', 'LichessId',\n",
       "       'Date'],\n",
       "      dtype='object')"
      ]
     },
     "execution_count": 4,
     "metadata": {},
     "output_type": "execute_result"
    }
   ],
   "source": [
    "df.columns"
   ]
  },
  {
   "cell_type": "code",
   "execution_count": 5,
   "id": "780ebba0",
   "metadata": {},
   "outputs": [
    {
     "data": {
      "text/plain": [
       "Event                      string\n",
       "Site                       string\n",
       "White                      string\n",
       "Black                      string\n",
       "Result                   category\n",
       "WhiteElo                  float64\n",
       "BlackElo                  float64\n",
       "WhiteRatingDiff           float64\n",
       "BlackRatingDiff           float64\n",
       "ECO                      category\n",
       "TimeControl                string\n",
       "Termination              category\n",
       "Moves                      string\n",
       "WhiteTitle               category\n",
       "BlackTitle               category\n",
       "LichessId                  string\n",
       "Date               datetime64[ns]\n",
       "dtype: object"
      ]
     },
     "execution_count": 5,
     "metadata": {},
     "output_type": "execute_result"
    }
   ],
   "source": [
    "df.dtypes"
   ]
  },
  {
   "cell_type": "code",
   "execution_count": 6,
   "id": "ed39119c",
   "metadata": {},
   "outputs": [],
   "source": [
    "time_lim = []\n",
    "time_inc = []\n",
    "for tc in df['TimeControl']:\n",
    "    tc_split = tc.split('+')\n",
    "    time_lim.append(tc_split[0])\n",
    "    time_inc.append(tc_split[1])\n",
    "    \n",
    "df['TimeLim'] = time_lim\n",
    "df['TimeInc'] = time_inc\n",
    "df['TimeLim'] = df['TimeLim'].astype('int32')\n",
    "df['TimeInc'] = df['TimeInc'].astype('int32')"
   ]
  },
  {
   "cell_type": "code",
   "execution_count": 7,
   "id": "7885423d",
   "metadata": {},
   "outputs": [
    {
     "data": {
      "text/html": [
       "<div>\n",
       "<style scoped>\n",
       "    .dataframe tbody tr th:only-of-type {\n",
       "        vertical-align: middle;\n",
       "    }\n",
       "\n",
       "    .dataframe tbody tr th {\n",
       "        vertical-align: top;\n",
       "    }\n",
       "\n",
       "    .dataframe thead th {\n",
       "        text-align: right;\n",
       "    }\n",
       "</style>\n",
       "<table border=\"1\" class=\"dataframe\">\n",
       "  <thead>\n",
       "    <tr style=\"text-align: right;\">\n",
       "      <th></th>\n",
       "      <th>Event</th>\n",
       "      <th>Site</th>\n",
       "      <th>White</th>\n",
       "      <th>Black</th>\n",
       "      <th>Result</th>\n",
       "      <th>WhiteElo</th>\n",
       "      <th>BlackElo</th>\n",
       "      <th>WhiteRatingDiff</th>\n",
       "      <th>BlackRatingDiff</th>\n",
       "      <th>ECO</th>\n",
       "      <th>Termination</th>\n",
       "      <th>Moves</th>\n",
       "      <th>WhiteTitle</th>\n",
       "      <th>BlackTitle</th>\n",
       "      <th>LichessId</th>\n",
       "      <th>Date</th>\n",
       "      <th>TimeLim</th>\n",
       "      <th>TimeInc</th>\n",
       "    </tr>\n",
       "  </thead>\n",
       "  <tbody>\n",
       "    <tr>\n",
       "      <th>0</th>\n",
       "      <td>Classical</td>\n",
       "      <td>https://lichess.org/a9tcp02g</td>\n",
       "      <td>Desmond_Wilson</td>\n",
       "      <td>savinka59</td>\n",
       "      <td>White</td>\n",
       "      <td>1654.0</td>\n",
       "      <td>1919.0</td>\n",
       "      <td>19.0</td>\n",
       "      <td>-22.0</td>\n",
       "      <td>D04</td>\n",
       "      <td>Normal</td>\n",
       "      <td>1. d4 d5 2. Nf3 Nf6 3. e3 Bf5 4. Nh4 Bg6 5. Nx...</td>\n",
       "      <td>NaN</td>\n",
       "      <td>NaN</td>\n",
       "      <td>&lt;NA&gt;</td>\n",
       "      <td>2012-12-31 23:04:12</td>\n",
       "      <td>480</td>\n",
       "      <td>2</td>\n",
       "    </tr>\n",
       "    <tr>\n",
       "      <th>1</th>\n",
       "      <td>Classical</td>\n",
       "      <td>https://lichess.org/iclkx584</td>\n",
       "      <td>Voltvolf</td>\n",
       "      <td>Marzinkus</td>\n",
       "      <td>White</td>\n",
       "      <td>1824.0</td>\n",
       "      <td>1811.0</td>\n",
       "      <td>11.0</td>\n",
       "      <td>-11.0</td>\n",
       "      <td>C02</td>\n",
       "      <td>Normal</td>\n",
       "      <td>1. e4 e6 2. d4 d5 3. e5 c5 4. c3 Ne7 5. f4 cxd...</td>\n",
       "      <td>NaN</td>\n",
       "      <td>NaN</td>\n",
       "      <td>&lt;NA&gt;</td>\n",
       "      <td>2012-12-31 23:10:00</td>\n",
       "      <td>360</td>\n",
       "      <td>6</td>\n",
       "    </tr>\n",
       "    <tr>\n",
       "      <th>2</th>\n",
       "      <td>Classical</td>\n",
       "      <td>https://lichess.org/ufcqmfxx</td>\n",
       "      <td>6WX</td>\n",
       "      <td>adamsrj</td>\n",
       "      <td>White</td>\n",
       "      <td>1463.0</td>\n",
       "      <td>1504.0</td>\n",
       "      <td>62.0</td>\n",
       "      <td>-12.0</td>\n",
       "      <td>C44</td>\n",
       "      <td>Normal</td>\n",
       "      <td>1. e4 e5 2. Nf3 Nc6 3. Bc4 Be7 4. d4 exd4 5. N...</td>\n",
       "      <td>NaN</td>\n",
       "      <td>NaN</td>\n",
       "      <td>&lt;NA&gt;</td>\n",
       "      <td>2012-12-31 23:16:04</td>\n",
       "      <td>1560</td>\n",
       "      <td>30</td>\n",
       "    </tr>\n",
       "    <tr>\n",
       "      <th>3</th>\n",
       "      <td>Classical</td>\n",
       "      <td>https://lichess.org/qwuudn2s</td>\n",
       "      <td>sebastian44</td>\n",
       "      <td>jtkjtkful</td>\n",
       "      <td>Black</td>\n",
       "      <td>1347.0</td>\n",
       "      <td>1519.0</td>\n",
       "      <td>-6.0</td>\n",
       "      <td>23.0</td>\n",
       "      <td>B01</td>\n",
       "      <td>Time forfeit</td>\n",
       "      <td>1. e4 d5 2. e5 d4 3. Nf3 Nc6 4. c3 d3 5. Na3 f...</td>\n",
       "      <td>NaN</td>\n",
       "      <td>NaN</td>\n",
       "      <td>&lt;NA&gt;</td>\n",
       "      <td>2012-12-31 23:24:11</td>\n",
       "      <td>300</td>\n",
       "      <td>5</td>\n",
       "    </tr>\n",
       "    <tr>\n",
       "      <th>4</th>\n",
       "      <td>Classical</td>\n",
       "      <td>https://lichess.org/c9qfp8es</td>\n",
       "      <td>peter2</td>\n",
       "      <td>Killi</td>\n",
       "      <td>Black</td>\n",
       "      <td>1519.0</td>\n",
       "      <td>1572.0</td>\n",
       "      <td>-9.0</td>\n",
       "      <td>9.0</td>\n",
       "      <td>C28</td>\n",
       "      <td>Normal</td>\n",
       "      <td>1. e4 Nc6 2. Nc3 e5 3. Bc4 Nf6 4. d3 h6 5. f3 ...</td>\n",
       "      <td>NaN</td>\n",
       "      <td>NaN</td>\n",
       "      <td>&lt;NA&gt;</td>\n",
       "      <td>2013-01-01 00:51:20</td>\n",
       "      <td>480</td>\n",
       "      <td>0</td>\n",
       "    </tr>\n",
       "  </tbody>\n",
       "</table>\n",
       "</div>"
      ],
      "text/plain": [
       "       Event                          Site           White      Black Result  \\\n",
       "0  Classical  https://lichess.org/a9tcp02g  Desmond_Wilson  savinka59  White   \n",
       "1  Classical  https://lichess.org/iclkx584        Voltvolf  Marzinkus  White   \n",
       "2  Classical  https://lichess.org/ufcqmfxx             6WX    adamsrj  White   \n",
       "3  Classical  https://lichess.org/qwuudn2s     sebastian44  jtkjtkful  Black   \n",
       "4  Classical  https://lichess.org/c9qfp8es          peter2      Killi  Black   \n",
       "\n",
       "   WhiteElo  BlackElo  WhiteRatingDiff  BlackRatingDiff  ECO   Termination  \\\n",
       "0    1654.0    1919.0             19.0            -22.0  D04        Normal   \n",
       "1    1824.0    1811.0             11.0            -11.0  C02        Normal   \n",
       "2    1463.0    1504.0             62.0            -12.0  C44        Normal   \n",
       "3    1347.0    1519.0             -6.0             23.0  B01  Time forfeit   \n",
       "4    1519.0    1572.0             -9.0              9.0  C28        Normal   \n",
       "\n",
       "                                               Moves WhiteTitle BlackTitle  \\\n",
       "0  1. d4 d5 2. Nf3 Nf6 3. e3 Bf5 4. Nh4 Bg6 5. Nx...        NaN        NaN   \n",
       "1  1. e4 e6 2. d4 d5 3. e5 c5 4. c3 Ne7 5. f4 cxd...        NaN        NaN   \n",
       "2  1. e4 e5 2. Nf3 Nc6 3. Bc4 Be7 4. d4 exd4 5. N...        NaN        NaN   \n",
       "3  1. e4 d5 2. e5 d4 3. Nf3 Nc6 4. c3 d3 5. Na3 f...        NaN        NaN   \n",
       "4  1. e4 Nc6 2. Nc3 e5 3. Bc4 Nf6 4. d3 h6 5. f3 ...        NaN        NaN   \n",
       "\n",
       "  LichessId                Date  TimeLim  TimeInc  \n",
       "0      <NA> 2012-12-31 23:04:12      480        2  \n",
       "1      <NA> 2012-12-31 23:10:00      360        6  \n",
       "2      <NA> 2012-12-31 23:16:04     1560       30  \n",
       "3      <NA> 2012-12-31 23:24:11      300        5  \n",
       "4      <NA> 2013-01-01 00:51:20      480        0  "
      ]
     },
     "execution_count": 7,
     "metadata": {},
     "output_type": "execute_result"
    }
   ],
   "source": [
    "df = df.drop('TimeControl',axis=1)\n",
    "df.head()"
   ]
  },
  {
   "cell_type": "code",
   "execution_count": 8,
   "id": "5a9823f3",
   "metadata": {},
   "outputs": [
    {
     "data": {
      "text/plain": [
       "Snowden          961\n",
       "drums            741\n",
       "v_clava38        733\n",
       "cleoplatre       662\n",
       "billooji         648\n",
       "                ... \n",
       "veiqrc             1\n",
       "JvstMaxiii         1\n",
       "cocletor           1\n",
       "B7374865EDGAR      1\n",
       "BulaSabalero       1\n",
       "Name: White, Length: 860273, dtype: Int64"
      ]
     },
     "execution_count": 8,
     "metadata": {},
     "output_type": "execute_result"
    }
   ],
   "source": [
    "df.White.value_counts()"
   ]
  },
  {
   "cell_type": "code",
   "execution_count": 9,
   "id": "3fe7ec91",
   "metadata": {},
   "outputs": [
    {
     "data": {
      "text/plain": [
       "Snowden       917\n",
       "v_clava38     706\n",
       "jaybird       685\n",
       "cleoplatre    662\n",
       "capobruno     639\n",
       "             ... \n",
       "medgrea         1\n",
       "DiscoJoe        1\n",
       "lspitfirel      1\n",
       "mohsen5382      1\n",
       "ANTEY098        1\n",
       "Name: Black, Length: 874663, dtype: Int64"
      ]
     },
     "execution_count": 9,
     "metadata": {},
     "output_type": "execute_result"
    }
   ],
   "source": [
    "df.Black.value_counts()"
   ]
  },
  {
   "cell_type": "code",
   "execution_count": 10,
   "id": "c3ca0b40",
   "metadata": {},
   "outputs": [
    {
     "data": {
      "text/html": [
       "<div>\n",
       "<style scoped>\n",
       "    .dataframe tbody tr th:only-of-type {\n",
       "        vertical-align: middle;\n",
       "    }\n",
       "\n",
       "    .dataframe tbody tr th {\n",
       "        vertical-align: top;\n",
       "    }\n",
       "\n",
       "    .dataframe thead th {\n",
       "        text-align: right;\n",
       "    }\n",
       "</style>\n",
       "<table border=\"1\" class=\"dataframe\">\n",
       "  <thead>\n",
       "    <tr style=\"text-align: right;\">\n",
       "      <th>Termination</th>\n",
       "      <th>Abandoned</th>\n",
       "      <th>Normal</th>\n",
       "      <th>Rules infraction</th>\n",
       "      <th>Time forfeit</th>\n",
       "      <th>Unterminated</th>\n",
       "    </tr>\n",
       "    <tr>\n",
       "      <th>ECO</th>\n",
       "      <th></th>\n",
       "      <th></th>\n",
       "      <th></th>\n",
       "      <th></th>\n",
       "      <th></th>\n",
       "    </tr>\n",
       "  </thead>\n",
       "  <tbody>\n",
       "    <tr>\n",
       "      <th>?</th>\n",
       "      <td>7255</td>\n",
       "      <td>1148</td>\n",
       "      <td>0</td>\n",
       "      <td>1815</td>\n",
       "      <td>1</td>\n",
       "    </tr>\n",
       "    <tr>\n",
       "      <th>A00</th>\n",
       "      <td>312</td>\n",
       "      <td>186023</td>\n",
       "      <td>45</td>\n",
       "      <td>35168</td>\n",
       "      <td>0</td>\n",
       "    </tr>\n",
       "    <tr>\n",
       "      <th>A01</th>\n",
       "      <td>49</td>\n",
       "      <td>25732</td>\n",
       "      <td>5</td>\n",
       "      <td>4393</td>\n",
       "      <td>0</td>\n",
       "    </tr>\n",
       "    <tr>\n",
       "      <th>A02</th>\n",
       "      <td>57</td>\n",
       "      <td>11420</td>\n",
       "      <td>1</td>\n",
       "      <td>1981</td>\n",
       "      <td>0</td>\n",
       "    </tr>\n",
       "    <tr>\n",
       "      <th>A03</th>\n",
       "      <td>3</td>\n",
       "      <td>10972</td>\n",
       "      <td>8</td>\n",
       "      <td>1945</td>\n",
       "      <td>0</td>\n",
       "    </tr>\n",
       "    <tr>\n",
       "      <th>...</th>\n",
       "      <td>...</td>\n",
       "      <td>...</td>\n",
       "      <td>...</td>\n",
       "      <td>...</td>\n",
       "      <td>...</td>\n",
       "    </tr>\n",
       "    <tr>\n",
       "      <th>E94</th>\n",
       "      <td>0</td>\n",
       "      <td>454</td>\n",
       "      <td>1</td>\n",
       "      <td>49</td>\n",
       "      <td>0</td>\n",
       "    </tr>\n",
       "    <tr>\n",
       "      <th>E95</th>\n",
       "      <td>0</td>\n",
       "      <td>25</td>\n",
       "      <td>0</td>\n",
       "      <td>3</td>\n",
       "      <td>0</td>\n",
       "    </tr>\n",
       "    <tr>\n",
       "      <th>E97</th>\n",
       "      <td>0</td>\n",
       "      <td>261</td>\n",
       "      <td>0</td>\n",
       "      <td>36</td>\n",
       "      <td>0</td>\n",
       "    </tr>\n",
       "    <tr>\n",
       "      <th>E98</th>\n",
       "      <td>0</td>\n",
       "      <td>68</td>\n",
       "      <td>0</td>\n",
       "      <td>5</td>\n",
       "      <td>0</td>\n",
       "    </tr>\n",
       "    <tr>\n",
       "      <th>E99</th>\n",
       "      <td>0</td>\n",
       "      <td>35</td>\n",
       "      <td>0</td>\n",
       "      <td>6</td>\n",
       "      <td>0</td>\n",
       "    </tr>\n",
       "  </tbody>\n",
       "</table>\n",
       "<p>498 rows × 5 columns</p>\n",
       "</div>"
      ],
      "text/plain": [
       "Termination  Abandoned  Normal  Rules infraction  Time forfeit  Unterminated\n",
       "ECO                                                                         \n",
       "?                 7255    1148                 0          1815             1\n",
       "A00                312  186023                45         35168             0\n",
       "A01                 49   25732                 5          4393             0\n",
       "A02                 57   11420                 1          1981             0\n",
       "A03                  3   10972                 8          1945             0\n",
       "..                 ...     ...               ...           ...           ...\n",
       "E94                  0     454                 1            49             0\n",
       "E95                  0      25                 0             3             0\n",
       "E97                  0     261                 0            36             0\n",
       "E98                  0      68                 0             5             0\n",
       "E99                  0      35                 0             6             0\n",
       "\n",
       "[498 rows x 5 columns]"
      ]
     },
     "execution_count": 10,
     "metadata": {},
     "output_type": "execute_result"
    }
   ],
   "source": [
    "cross = pd.crosstab(df.ECO,df.Termination)\n",
    "cross"
   ]
  },
  {
   "cell_type": "code",
   "execution_count": 11,
   "id": "af9055d9",
   "metadata": {},
   "outputs": [
    {
     "data": {
      "text/html": [
       "<div>\n",
       "<style scoped>\n",
       "    .dataframe tbody tr th:only-of-type {\n",
       "        vertical-align: middle;\n",
       "    }\n",
       "\n",
       "    .dataframe tbody tr th {\n",
       "        vertical-align: top;\n",
       "    }\n",
       "\n",
       "    .dataframe thead th {\n",
       "        text-align: right;\n",
       "    }\n",
       "</style>\n",
       "<table border=\"1\" class=\"dataframe\">\n",
       "  <thead>\n",
       "    <tr style=\"text-align: right;\">\n",
       "      <th>Termination</th>\n",
       "      <th>Abandoned</th>\n",
       "      <th>Normal</th>\n",
       "      <th>Rules infraction</th>\n",
       "      <th>Time forfeit</th>\n",
       "      <th>Unterminated</th>\n",
       "    </tr>\n",
       "    <tr>\n",
       "      <th>ECO</th>\n",
       "      <th></th>\n",
       "      <th></th>\n",
       "      <th></th>\n",
       "      <th></th>\n",
       "      <th></th>\n",
       "    </tr>\n",
       "  </thead>\n",
       "  <tbody>\n",
       "    <tr>\n",
       "      <th>A00</th>\n",
       "      <td>312</td>\n",
       "      <td>186023</td>\n",
       "      <td>45</td>\n",
       "      <td>35168</td>\n",
       "      <td>0</td>\n",
       "    </tr>\n",
       "    <tr>\n",
       "      <th>C20</th>\n",
       "      <td>17</td>\n",
       "      <td>184213</td>\n",
       "      <td>37</td>\n",
       "      <td>35791</td>\n",
       "      <td>0</td>\n",
       "    </tr>\n",
       "    <tr>\n",
       "      <th>D00</th>\n",
       "      <td>19</td>\n",
       "      <td>173366</td>\n",
       "      <td>40</td>\n",
       "      <td>29812</td>\n",
       "      <td>0</td>\n",
       "    </tr>\n",
       "    <tr>\n",
       "      <th>B01</th>\n",
       "      <td>13</td>\n",
       "      <td>159107</td>\n",
       "      <td>43</td>\n",
       "      <td>26977</td>\n",
       "      <td>0</td>\n",
       "    </tr>\n",
       "    <tr>\n",
       "      <th>C41</th>\n",
       "      <td>21</td>\n",
       "      <td>155837</td>\n",
       "      <td>26</td>\n",
       "      <td>25295</td>\n",
       "      <td>0</td>\n",
       "    </tr>\n",
       "    <tr>\n",
       "      <th>...</th>\n",
       "      <td>...</td>\n",
       "      <td>...</td>\n",
       "      <td>...</td>\n",
       "      <td>...</td>\n",
       "      <td>...</td>\n",
       "    </tr>\n",
       "    <tr>\n",
       "      <th>A99</th>\n",
       "      <td>0</td>\n",
       "      <td>1</td>\n",
       "      <td>0</td>\n",
       "      <td>1</td>\n",
       "      <td>0</td>\n",
       "    </tr>\n",
       "    <tr>\n",
       "      <th>B69</th>\n",
       "      <td>0</td>\n",
       "      <td>1</td>\n",
       "      <td>0</td>\n",
       "      <td>0</td>\n",
       "      <td>0</td>\n",
       "    </tr>\n",
       "    <tr>\n",
       "      <th>A79</th>\n",
       "      <td>0</td>\n",
       "      <td>1</td>\n",
       "      <td>0</td>\n",
       "      <td>0</td>\n",
       "      <td>0</td>\n",
       "    </tr>\n",
       "    <tr>\n",
       "      <th>D72</th>\n",
       "      <td>0</td>\n",
       "      <td>0</td>\n",
       "      <td>0</td>\n",
       "      <td>1</td>\n",
       "      <td>0</td>\n",
       "    </tr>\n",
       "    <tr>\n",
       "      <th>E78</th>\n",
       "      <td>0</td>\n",
       "      <td>0</td>\n",
       "      <td>0</td>\n",
       "      <td>1</td>\n",
       "      <td>0</td>\n",
       "    </tr>\n",
       "  </tbody>\n",
       "</table>\n",
       "<p>498 rows × 5 columns</p>\n",
       "</div>"
      ],
      "text/plain": [
       "Termination  Abandoned  Normal  Rules infraction  Time forfeit  Unterminated\n",
       "ECO                                                                         \n",
       "A00                312  186023                45         35168             0\n",
       "C20                 17  184213                37         35791             0\n",
       "D00                 19  173366                40         29812             0\n",
       "B01                 13  159107                43         26977             0\n",
       "C41                 21  155837                26         25295             0\n",
       "..                 ...     ...               ...           ...           ...\n",
       "A99                  0       1                 0             1             0\n",
       "B69                  0       1                 0             0             0\n",
       "A79                  0       1                 0             0             0\n",
       "D72                  0       0                 0             1             0\n",
       "E78                  0       0                 0             1             0\n",
       "\n",
       "[498 rows x 5 columns]"
      ]
     },
     "execution_count": 11,
     "metadata": {},
     "output_type": "execute_result"
    }
   ],
   "source": [
    "# opening to how game ends\n",
    "cross.sort_values(by='Normal',ascending=False)"
   ]
  },
  {
   "cell_type": "code",
   "execution_count": 12,
   "id": "98f44ee9",
   "metadata": {},
   "outputs": [],
   "source": [
    "cross = pd.crosstab(df.ECO,df.Result)"
   ]
  },
  {
   "cell_type": "code",
   "execution_count": 13,
   "id": "cb4b7185",
   "metadata": {},
   "outputs": [
    {
     "data": {
      "text/html": [
       "<div>\n",
       "<style scoped>\n",
       "    .dataframe tbody tr th:only-of-type {\n",
       "        vertical-align: middle;\n",
       "    }\n",
       "\n",
       "    .dataframe tbody tr th {\n",
       "        vertical-align: top;\n",
       "    }\n",
       "\n",
       "    .dataframe thead th {\n",
       "        text-align: right;\n",
       "    }\n",
       "</style>\n",
       "<table border=\"1\" class=\"dataframe\">\n",
       "  <thead>\n",
       "    <tr style=\"text-align: right;\">\n",
       "      <th>Result</th>\n",
       "      <th>Black</th>\n",
       "      <th>Draw</th>\n",
       "      <th>Unknown</th>\n",
       "      <th>White</th>\n",
       "    </tr>\n",
       "    <tr>\n",
       "      <th>ECO</th>\n",
       "      <th></th>\n",
       "      <th></th>\n",
       "      <th></th>\n",
       "      <th></th>\n",
       "    </tr>\n",
       "  </thead>\n",
       "  <tbody>\n",
       "    <tr>\n",
       "      <th>?</th>\n",
       "      <td>0.91</td>\n",
       "      <td>0.00</td>\n",
       "      <td>0.05</td>\n",
       "      <td>0.04</td>\n",
       "    </tr>\n",
       "    <tr>\n",
       "      <th>A00</th>\n",
       "      <td>0.52</td>\n",
       "      <td>0.04</td>\n",
       "      <td>0.00</td>\n",
       "      <td>0.43</td>\n",
       "    </tr>\n",
       "    <tr>\n",
       "      <th>A01</th>\n",
       "      <td>0.48</td>\n",
       "      <td>0.04</td>\n",
       "      <td>0.00</td>\n",
       "      <td>0.47</td>\n",
       "    </tr>\n",
       "    <tr>\n",
       "      <th>A02</th>\n",
       "      <td>0.46</td>\n",
       "      <td>0.05</td>\n",
       "      <td>0.00</td>\n",
       "      <td>0.49</td>\n",
       "    </tr>\n",
       "    <tr>\n",
       "      <th>A03</th>\n",
       "      <td>0.49</td>\n",
       "      <td>0.05</td>\n",
       "      <td>0.00</td>\n",
       "      <td>0.46</td>\n",
       "    </tr>\n",
       "    <tr>\n",
       "      <th>...</th>\n",
       "      <td>...</td>\n",
       "      <td>...</td>\n",
       "      <td>...</td>\n",
       "      <td>...</td>\n",
       "    </tr>\n",
       "    <tr>\n",
       "      <th>E94</th>\n",
       "      <td>0.48</td>\n",
       "      <td>0.05</td>\n",
       "      <td>0.00</td>\n",
       "      <td>0.47</td>\n",
       "    </tr>\n",
       "    <tr>\n",
       "      <th>E95</th>\n",
       "      <td>0.21</td>\n",
       "      <td>0.04</td>\n",
       "      <td>0.00</td>\n",
       "      <td>0.75</td>\n",
       "    </tr>\n",
       "    <tr>\n",
       "      <th>E97</th>\n",
       "      <td>0.46</td>\n",
       "      <td>0.08</td>\n",
       "      <td>0.00</td>\n",
       "      <td>0.46</td>\n",
       "    </tr>\n",
       "    <tr>\n",
       "      <th>E98</th>\n",
       "      <td>0.47</td>\n",
       "      <td>0.03</td>\n",
       "      <td>0.00</td>\n",
       "      <td>0.51</td>\n",
       "    </tr>\n",
       "    <tr>\n",
       "      <th>E99</th>\n",
       "      <td>0.46</td>\n",
       "      <td>0.05</td>\n",
       "      <td>0.00</td>\n",
       "      <td>0.49</td>\n",
       "    </tr>\n",
       "  </tbody>\n",
       "</table>\n",
       "<p>498 rows × 4 columns</p>\n",
       "</div>"
      ],
      "text/plain": [
       "Result  Black  Draw  Unknown  White\n",
       "ECO                                \n",
       "?        0.91  0.00     0.05   0.04\n",
       "A00      0.52  0.04     0.00   0.43\n",
       "A01      0.48  0.04     0.00   0.47\n",
       "A02      0.46  0.05     0.00   0.49\n",
       "A03      0.49  0.05     0.00   0.46\n",
       "..        ...   ...      ...    ...\n",
       "E94      0.48  0.05     0.00   0.47\n",
       "E95      0.21  0.04     0.00   0.75\n",
       "E97      0.46  0.08     0.00   0.46\n",
       "E98      0.47  0.03     0.00   0.51\n",
       "E99      0.46  0.05     0.00   0.49\n",
       "\n",
       "[498 rows x 4 columns]"
      ]
     },
     "execution_count": 13,
     "metadata": {},
     "output_type": "execute_result"
    }
   ],
   "source": [
    "cross = cross.div(cross.sum(axis=1), axis=0).round(2)\n",
    "cross"
   ]
  },
  {
   "cell_type": "markdown",
   "id": "062e5596",
   "metadata": {},
   "source": [
    "# Ply and More Complicated Statistics"
   ]
  },
  {
   "cell_type": "code",
   "execution_count": 14,
   "id": "4a12b492",
   "metadata": {},
   "outputs": [],
   "source": [
    "titled1 = df[df.WhiteTitle.isnull() == False]"
   ]
  },
  {
   "cell_type": "code",
   "execution_count": 15,
   "id": "293c1c78",
   "metadata": {},
   "outputs": [],
   "source": [
    "titled2 = df[df.BlackTitle.isnull() == False]"
   ]
  },
  {
   "cell_type": "code",
   "execution_count": 16,
   "id": "1867a800",
   "metadata": {},
   "outputs": [],
   "source": [
    "titled = pd.concat([titled1,titled2],join='outer')"
   ]
  },
  {
   "cell_type": "code",
   "execution_count": 17,
   "id": "6d481e52",
   "metadata": {},
   "outputs": [],
   "source": [
    "bot1 = df[df.BlackTitle == 'BOT']\n",
    "bot2 = df[df.WhiteTitle == 'BOT']"
   ]
  },
  {
   "cell_type": "code",
   "execution_count": 18,
   "id": "6ed25f73",
   "metadata": {},
   "outputs": [
    {
     "data": {
      "text/plain": [
       "0.0007729080449392487"
      ]
     },
     "execution_count": 18,
     "metadata": {},
     "output_type": "execute_result"
    }
   ],
   "source": [
    "# 0.07% of games are played in part by a bot\n",
    "pd.concat([bot1,bot2],join='outer').shape[0]/df.shape[0]"
   ]
  },
  {
   "cell_type": "code",
   "execution_count": 19,
   "id": "6044c25e",
   "metadata": {},
   "outputs": [
    {
     "data": {
      "text/plain": [
       "0.0016911591964275923"
      ]
     },
     "execution_count": 19,
     "metadata": {},
     "output_type": "execute_result"
    }
   ],
   "source": [
    "# 0.16% games are played with titled players\n",
    "titled.shape[0]/df.shape[0]"
   ]
  },
  {
   "cell_type": "code",
   "execution_count": 20,
   "id": "44680a53",
   "metadata": {},
   "outputs": [
    {
     "data": {
      "text/plain": [
       "A00    221548\n",
       "C20    220058\n",
       "D00    203237\n",
       "B01    186140\n",
       "C41    181179\n",
       "        ...  \n",
       "E58         2\n",
       "E78         1\n",
       "D72         1\n",
       "A79         1\n",
       "B69         1\n",
       "Name: ECO, Length: 498, dtype: int64"
      ]
     },
     "execution_count": 20,
     "metadata": {},
     "output_type": "execute_result"
    }
   ],
   "source": [
    "# A00 is unknown, C20 is kings pawn games makes sense\n",
    "df.ECO.value_counts()"
   ]
  },
  {
   "cell_type": "code",
   "execution_count": 21,
   "id": "57c5017d",
   "metadata": {},
   "outputs": [
    {
     "data": {
      "text/plain": [
       "0.05133854468857265"
      ]
     },
     "execution_count": 21,
     "metadata": {},
     "output_type": "execute_result"
    }
   ],
   "source": [
    "# 5% of games are kings pawn games\n",
    "df[df.ECO == 'C20'].shape[0]/df.shape[0]"
   ]
  },
  {
   "cell_type": "code",
   "execution_count": 22,
   "id": "8eedda79",
   "metadata": {},
   "outputs": [],
   "source": [
    "kings_pawn = df[df.ECO == 'C20']"
   ]
  },
  {
   "cell_type": "markdown",
   "id": "1b0a0202",
   "metadata": {},
   "source": [
    "# Extracting Analysis"
   ]
  },
  {
   "cell_type": "code",
   "execution_count": 23,
   "id": "c3c4cdb0",
   "metadata": {},
   "outputs": [],
   "source": [
    "games_with_analysis = df[df.Moves.str.contains(\"{\")]"
   ]
  },
  {
   "cell_type": "code",
   "execution_count": 24,
   "id": "efb088e1",
   "metadata": {},
   "outputs": [
    {
     "data": {
      "text/plain": [
       "(2897664, 18)"
      ]
     },
     "execution_count": 24,
     "metadata": {},
     "output_type": "execute_result"
    }
   ],
   "source": [
    "games_with_analysis.shape"
   ]
  },
  {
   "cell_type": "code",
   "execution_count": 25,
   "id": "b35f2406",
   "metadata": {},
   "outputs": [
    {
     "data": {
      "text/plain": [
       "0.6760120184518089"
      ]
     },
     "execution_count": 25,
     "metadata": {},
     "output_type": "execute_result"
    }
   ],
   "source": [
    "games_with_analysis.shape[0]/df.shape[0]"
   ]
  },
  {
   "cell_type": "markdown",
   "id": "df1bac40",
   "metadata": {},
   "source": [
    "around 67.6% of games actually have analysis"
   ]
  },
  {
   "cell_type": "code",
   "execution_count": 26,
   "id": "49482c90",
   "metadata": {},
   "outputs": [],
   "source": [
    "moves = games_with_analysis.Moves.reset_index().drop('index',axis=1)"
   ]
  },
  {
   "cell_type": "markdown",
   "id": "65826d6b",
   "metadata": {},
   "source": [
    "### Standard move notation for good/bad/etc moves\n",
    "? mistake\n",
    "\n",
    "?? blunder\n",
    "\n",
    "?! dubious\n",
    "\n",
    "!? interesting\n",
    "\n",
    "!! brilliant\n",
    "\n",
    "! good"
   ]
  },
  {
   "cell_type": "code",
   "execution_count": null,
   "id": "fc60eeed",
   "metadata": {},
   "outputs": [],
   "source": [
    "# get kind of move for each move\n",
    "mistake_arr_white = []\n",
    "blunder_arr_white = []\n",
    "dubious_arr_white = []\n",
    "interesting_arr_white = []\n",
    "brilliant_arr_white = []\n",
    "good_arr_white = []\n",
    "\n",
    "mistake_arr_black = []\n",
    "blunder_arr_black = []\n",
    "dubious_arr_black = []\n",
    "interesting_arr_black = []\n",
    "brilliant_arr_black = []\n",
    "good_arr_black = []\n",
    "\n",
    "isWhite = True\n",
    "for value in moves.values:\n",
    "    value = str(value)\n",
    "    split_up = value.split(\" {\")[1:-1]\n",
    "    mistake = 0\n",
    "    blunder = 0\n",
    "    dubious = 0\n",
    "    interesting = 0\n",
    "    brilliant = 0\n",
    "    good = 0\n",
    "    for m in split_up:\n",
    "        ply_string = m.split(\" }\")[1]\n",
    "        if(ply_string[-2:] == \"?!\"):\n",
    "            dubious+=1\n",
    "        elif(ply_string[-2:] == \"!!\"):\n",
    "            brilliant+=1\n",
    "        elif(ply_string[-2:] == \"??\"): \n",
    "            blunder+=1\n",
    "        elif(ply_string[-2:] == \"!?\"): \n",
    "            interesting+=1\n",
    "        elif(ply_string[-1:] == \"?\"): \n",
    "            mistake+=1\n",
    "        elif(ply_string[-1:] == \"!\"): \n",
    "            good+=1\n",
    "    if (isWhite):\n",
    "        mistake_arr_white.append(mistake)\n",
    "        blunder_arr_white.append(blunder)\n",
    "        dubious_arr_white.append(dubious)\n",
    "        interesting_arr_white.append(interesting)\n",
    "        brilliant_arr_white.append(brilliant)\n",
    "        good_arr_white.append(good)\n",
    "    else:\n",
    "        mistake_arr_black.append(mistake)\n",
    "        blunder_arr_black.append(blunder)\n",
    "        dubious_arr_black.append(dubious)\n",
    "        interesting_arr_black.append(interesting)\n",
    "        brilliant_arr_black.append(brilliant)\n",
    "        good_arr_black.append(good)\n",
    "    isWhite = !isWhite"
   ]
  },
  {
   "cell_type": "code",
   "execution_count": 30,
   "id": "6a7a1cbf",
   "metadata": {},
   "outputs": [
    {
     "ename": "ValueError",
     "evalue": "Length of values (1) does not match length of index (2897664)",
     "output_type": "error",
     "traceback": [
      "\u001b[1;31m---------------------------------------------------------------------------\u001b[0m",
      "\u001b[1;31mValueError\u001b[0m                                Traceback (most recent call last)",
      "\u001b[1;32m<ipython-input-30-5db5d63f1751>\u001b[0m in \u001b[0;36m<module>\u001b[1;34m\u001b[0m\n\u001b[0;32m      1\u001b[0m \u001b[0mmove_analysis_df\u001b[0m \u001b[1;33m=\u001b[0m \u001b[0mpd\u001b[0m\u001b[1;33m.\u001b[0m\u001b[0mDataFrame\u001b[0m\u001b[1;33m(\u001b[0m\u001b[1;33m)\u001b[0m\u001b[1;33m\u001b[0m\u001b[1;33m\u001b[0m\u001b[0m\n\u001b[0;32m      2\u001b[0m \u001b[0mmove_analysis_df\u001b[0m\u001b[1;33m[\u001b[0m\u001b[1;34m'site'\u001b[0m\u001b[1;33m]\u001b[0m \u001b[1;33m=\u001b[0m \u001b[0mgames_with_analysis\u001b[0m\u001b[1;33m.\u001b[0m\u001b[0mreset_index\u001b[0m\u001b[1;33m(\u001b[0m\u001b[1;33m)\u001b[0m\u001b[1;33m.\u001b[0m\u001b[0mSite\u001b[0m\u001b[1;33m\u001b[0m\u001b[1;33m\u001b[0m\u001b[0m\n\u001b[1;32m----> 3\u001b[1;33m \u001b[0mmove_analysis_df\u001b[0m\u001b[1;33m[\u001b[0m\u001b[1;34m'white_brilliant'\u001b[0m\u001b[1;33m]\u001b[0m \u001b[1;33m=\u001b[0m \u001b[0mbrilliant_arr_white\u001b[0m\u001b[1;33m\u001b[0m\u001b[1;33m\u001b[0m\u001b[0m\n\u001b[0m\u001b[0;32m      4\u001b[0m \u001b[0mmove_analysis_df\u001b[0m\u001b[1;33m[\u001b[0m\u001b[1;34m'white_good'\u001b[0m\u001b[1;33m]\u001b[0m \u001b[1;33m=\u001b[0m \u001b[0mgood_arr_white\u001b[0m\u001b[1;33m\u001b[0m\u001b[1;33m\u001b[0m\u001b[0m\n\u001b[0;32m      5\u001b[0m \u001b[0mmove_analysis_df\u001b[0m\u001b[1;33m[\u001b[0m\u001b[1;34m'white_interesting'\u001b[0m\u001b[1;33m]\u001b[0m \u001b[1;33m=\u001b[0m \u001b[0minteresting_arr_white\u001b[0m\u001b[1;33m\u001b[0m\u001b[1;33m\u001b[0m\u001b[0m\n",
      "\u001b[1;32m~\\anaconda3\\lib\\site-packages\\pandas\\core\\frame.py\u001b[0m in \u001b[0;36m__setitem__\u001b[1;34m(self, key, value)\u001b[0m\n\u001b[0;32m   3161\u001b[0m         \u001b[1;32melse\u001b[0m\u001b[1;33m:\u001b[0m\u001b[1;33m\u001b[0m\u001b[1;33m\u001b[0m\u001b[0m\n\u001b[0;32m   3162\u001b[0m             \u001b[1;31m# set column\u001b[0m\u001b[1;33m\u001b[0m\u001b[1;33m\u001b[0m\u001b[1;33m\u001b[0m\u001b[0m\n\u001b[1;32m-> 3163\u001b[1;33m             \u001b[0mself\u001b[0m\u001b[1;33m.\u001b[0m\u001b[0m_set_item\u001b[0m\u001b[1;33m(\u001b[0m\u001b[0mkey\u001b[0m\u001b[1;33m,\u001b[0m \u001b[0mvalue\u001b[0m\u001b[1;33m)\u001b[0m\u001b[1;33m\u001b[0m\u001b[1;33m\u001b[0m\u001b[0m\n\u001b[0m\u001b[0;32m   3164\u001b[0m \u001b[1;33m\u001b[0m\u001b[0m\n\u001b[0;32m   3165\u001b[0m     \u001b[1;32mdef\u001b[0m \u001b[0m_setitem_slice\u001b[0m\u001b[1;33m(\u001b[0m\u001b[0mself\u001b[0m\u001b[1;33m,\u001b[0m \u001b[0mkey\u001b[0m\u001b[1;33m:\u001b[0m \u001b[0mslice\u001b[0m\u001b[1;33m,\u001b[0m \u001b[0mvalue\u001b[0m\u001b[1;33m)\u001b[0m\u001b[1;33m:\u001b[0m\u001b[1;33m\u001b[0m\u001b[1;33m\u001b[0m\u001b[0m\n",
      "\u001b[1;32m~\\anaconda3\\lib\\site-packages\\pandas\\core\\frame.py\u001b[0m in \u001b[0;36m_set_item\u001b[1;34m(self, key, value)\u001b[0m\n\u001b[0;32m   3240\u001b[0m         \"\"\"\n\u001b[0;32m   3241\u001b[0m         \u001b[0mself\u001b[0m\u001b[1;33m.\u001b[0m\u001b[0m_ensure_valid_index\u001b[0m\u001b[1;33m(\u001b[0m\u001b[0mvalue\u001b[0m\u001b[1;33m)\u001b[0m\u001b[1;33m\u001b[0m\u001b[1;33m\u001b[0m\u001b[0m\n\u001b[1;32m-> 3242\u001b[1;33m         \u001b[0mvalue\u001b[0m \u001b[1;33m=\u001b[0m \u001b[0mself\u001b[0m\u001b[1;33m.\u001b[0m\u001b[0m_sanitize_column\u001b[0m\u001b[1;33m(\u001b[0m\u001b[0mkey\u001b[0m\u001b[1;33m,\u001b[0m \u001b[0mvalue\u001b[0m\u001b[1;33m)\u001b[0m\u001b[1;33m\u001b[0m\u001b[1;33m\u001b[0m\u001b[0m\n\u001b[0m\u001b[0;32m   3243\u001b[0m         \u001b[0mNDFrame\u001b[0m\u001b[1;33m.\u001b[0m\u001b[0m_set_item\u001b[0m\u001b[1;33m(\u001b[0m\u001b[0mself\u001b[0m\u001b[1;33m,\u001b[0m \u001b[0mkey\u001b[0m\u001b[1;33m,\u001b[0m \u001b[0mvalue\u001b[0m\u001b[1;33m)\u001b[0m\u001b[1;33m\u001b[0m\u001b[1;33m\u001b[0m\u001b[0m\n\u001b[0;32m   3244\u001b[0m \u001b[1;33m\u001b[0m\u001b[0m\n",
      "\u001b[1;32m~\\anaconda3\\lib\\site-packages\\pandas\\core\\frame.py\u001b[0m in \u001b[0;36m_sanitize_column\u001b[1;34m(self, key, value, broadcast)\u001b[0m\n\u001b[0;32m   3897\u001b[0m \u001b[1;33m\u001b[0m\u001b[0m\n\u001b[0;32m   3898\u001b[0m             \u001b[1;31m# turn me into an ndarray\u001b[0m\u001b[1;33m\u001b[0m\u001b[1;33m\u001b[0m\u001b[1;33m\u001b[0m\u001b[0m\n\u001b[1;32m-> 3899\u001b[1;33m             \u001b[0mvalue\u001b[0m \u001b[1;33m=\u001b[0m \u001b[0msanitize_index\u001b[0m\u001b[1;33m(\u001b[0m\u001b[0mvalue\u001b[0m\u001b[1;33m,\u001b[0m \u001b[0mself\u001b[0m\u001b[1;33m.\u001b[0m\u001b[0mindex\u001b[0m\u001b[1;33m)\u001b[0m\u001b[1;33m\u001b[0m\u001b[1;33m\u001b[0m\u001b[0m\n\u001b[0m\u001b[0;32m   3900\u001b[0m             \u001b[1;32mif\u001b[0m \u001b[1;32mnot\u001b[0m \u001b[0misinstance\u001b[0m\u001b[1;33m(\u001b[0m\u001b[0mvalue\u001b[0m\u001b[1;33m,\u001b[0m \u001b[1;33m(\u001b[0m\u001b[0mnp\u001b[0m\u001b[1;33m.\u001b[0m\u001b[0mndarray\u001b[0m\u001b[1;33m,\u001b[0m \u001b[0mIndex\u001b[0m\u001b[1;33m)\u001b[0m\u001b[1;33m)\u001b[0m\u001b[1;33m:\u001b[0m\u001b[1;33m\u001b[0m\u001b[1;33m\u001b[0m\u001b[0m\n\u001b[0;32m   3901\u001b[0m                 \u001b[1;32mif\u001b[0m \u001b[0misinstance\u001b[0m\u001b[1;33m(\u001b[0m\u001b[0mvalue\u001b[0m\u001b[1;33m,\u001b[0m \u001b[0mlist\u001b[0m\u001b[1;33m)\u001b[0m \u001b[1;32mand\u001b[0m \u001b[0mlen\u001b[0m\u001b[1;33m(\u001b[0m\u001b[0mvalue\u001b[0m\u001b[1;33m)\u001b[0m \u001b[1;33m>\u001b[0m \u001b[1;36m0\u001b[0m\u001b[1;33m:\u001b[0m\u001b[1;33m\u001b[0m\u001b[1;33m\u001b[0m\u001b[0m\n",
      "\u001b[1;32m~\\anaconda3\\lib\\site-packages\\pandas\\core\\internals\\construction.py\u001b[0m in \u001b[0;36msanitize_index\u001b[1;34m(data, index)\u001b[0m\n\u001b[0;32m    749\u001b[0m     \"\"\"\n\u001b[0;32m    750\u001b[0m     \u001b[1;32mif\u001b[0m \u001b[0mlen\u001b[0m\u001b[1;33m(\u001b[0m\u001b[0mdata\u001b[0m\u001b[1;33m)\u001b[0m \u001b[1;33m!=\u001b[0m \u001b[0mlen\u001b[0m\u001b[1;33m(\u001b[0m\u001b[0mindex\u001b[0m\u001b[1;33m)\u001b[0m\u001b[1;33m:\u001b[0m\u001b[1;33m\u001b[0m\u001b[1;33m\u001b[0m\u001b[0m\n\u001b[1;32m--> 751\u001b[1;33m         raise ValueError(\n\u001b[0m\u001b[0;32m    752\u001b[0m             \u001b[1;34m\"Length of values \"\u001b[0m\u001b[1;33m\u001b[0m\u001b[1;33m\u001b[0m\u001b[0m\n\u001b[0;32m    753\u001b[0m             \u001b[1;34mf\"({len(data)}) \"\u001b[0m\u001b[1;33m\u001b[0m\u001b[1;33m\u001b[0m\u001b[0m\n",
      "\u001b[1;31mValueError\u001b[0m: Length of values (1) does not match length of index (2897664)"
     ]
    }
   ],
   "source": [
    "move_analysis_df = pd.DataFrame()\n",
    "move_analysis_df['site'] = games_with_analysis.reset_index().Site\n",
    "move_analysis_df['white_brilliant'] = brilliant_arr_white\n",
    "move_analysis_df['white_good'] = good_arr_white\n",
    "move_analysis_df['white_interesting'] = interesting_arr_white\n",
    "move_analysis_df['white_dubious'] = dubious_arr_white\n",
    "move_analysis_df['white_mistake'] = mistake_arr_white\n",
    "move_analysis_df['white_blunder'] = blunder_arr_white\n",
    "move_analysis_df['black_brilliant'] = brilliant_arr_black\n",
    "move_analysis_df['black_good'] = good_arr_black\n",
    "move_analysis_df['black_interesting'] = interesting_arr_black\n",
    "move_analysis_df['black_dubious'] = dubious_arr_black\n",
    "move_analysis_df['black_mistake'] = mistake_arr_black\n",
    "move_analysis_df['black_blunder'] = blunder_arr_black"
   ]
  },
  {
   "cell_type": "code",
   "execution_count": null,
   "id": "ca8d507a",
   "metadata": {},
   "outputs": [],
   "source": [
    "move_analysis_df"
   ]
  },
  {
   "cell_type": "code",
   "execution_count": null,
   "id": "e0ac1c3a",
   "metadata": {},
   "outputs": [],
   "source": [
    "# get evaluation for each move\n",
    "for value in moves.values[0]:\n",
    "    split_up = value.split(\" {\")[1:]\n",
    "    for m in split_up:\n",
    "        print(m.split(\" }\")[0])"
   ]
  },
  {
   "cell_type": "code",
   "execution_count": null,
   "id": "d8421eb2",
   "metadata": {},
   "outputs": [],
   "source": [
    "# average evaluation\n",
    "# % of game in favor of each color\n",
    "# move with largest swing in evaluation, the swing in evaluation\n",
    "# explosivity: difference in highest and lowest values"
   ]
  }
 ],
 "metadata": {
  "kernelspec": {
   "display_name": "Python 3",
   "language": "python",
   "name": "python3"
  }
 },
 "nbformat": 4,
 "nbformat_minor": 5
}
