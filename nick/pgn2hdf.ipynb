{
 "cells": [
  {
   "cell_type": "code",
   "execution_count": 1,
   "metadata": {},
   "outputs": [],
   "source": [
    "from pgn import PGNParser\n",
    "import pandas as pd\n",
    "import numpy as np\n",
    "from datetime import datetime\n",
    "import os\n",
    "import glob\n",
    "from tqdm.notebook import tqdm\n",
    "from joblib import Parallel, delayed"
   ]
  },
  {
   "cell_type": "code",
   "execution_count": 2,
   "metadata": {},
   "outputs": [],
   "source": [
    "def parse_pgn(filename):\n",
    "    file = open(filename, 'r', encoding='utf-8')\n",
    "    fsize = os.fstat(file.fileno()).st_size\n",
    "    parser = PGNParser(file)\n",
    "    games = []\n",
    "\n",
    "    while parser.has_next():\n",
    "        headers, moves, data = parser.next()\n",
    "        if headers is None:\n",
    "            break\n",
    "        headers['Moves'] = moves\n",
    "        games.append(headers)\n",
    "        location = file.tell()\n",
    "    \n",
    "    file.close()\n",
    "    return pd.DataFrame(games)"
   ]
  },
  {
   "cell_type": "code",
   "execution_count": 3,
   "metadata": {},
   "outputs": [],
   "source": [
    "def preprocess(df):\n",
    "    # extract second word\n",
    "    df['Event'] = df['Event'].str.split(' ').str[1].astype('string')\n",
    "    df['Site'] = df['Site'].astype('string')\n",
    "    df['White'] = df['White'].astype('string')\n",
    "    df['Black'] = df['Black'].astype('string')\n",
    "\n",
    "    # Convert result to categorical data\n",
    "    resultMappings = { '1-0': 'White', '0-1': 'Black', '1/2-1/2': 'Draw', '*': 'Unknown' }\n",
    "    df['Result'] = df['Result'].map(resultMappings).astype('category')\n",
    "\n",
    "    # concat UTCDate and UTCTime\n",
    "    df['Date'] = (df['UTCDate'] + ' ' + df['UTCTime']).astype('datetime64[s]')\n",
    "    df.drop(['UTCDate', 'UTCTime'], axis=1, inplace=True)\n",
    "\n",
    "    df['WhiteElo'] = pd.to_numeric(df['WhiteElo'], errors='coerce')\n",
    "    df['BlackElo'] = pd.to_numeric(df['BlackElo'], errors='coerce')\n",
    "    df['WhiteRatingDiff'] = pd.to_numeric(df['WhiteRatingDiff'], errors='coerce')\n",
    "    df['BlackRatingDiff'] = pd.to_numeric(df['BlackRatingDiff'], errors='coerce')\n",
    "    df.drop('Opening', axis=1, inplace=True)\n",
    "\n",
    "    df['ECO'] = df['ECO'].astype('category')\n",
    "\n",
    "    df['Termination'] = df['Termination'].astype('category')\n",
    "    # Time Control is a weird one\n",
    "    df['TimeControl'] = df['TimeControl'].astype('string')\n",
    "    df['Moves'] = df['Moves'].astype('string')\n",
    "\n",
    "    if 'BlackTitle' in df.columns:\n",
    "        df['BlackTitle'] = df['BlackTitle'].astype('category')\n",
    "    if 'WhiteTitle' in df.columns:\n",
    "        df['WhiteTitle'] = df['WhiteTitle'].astype('category')\n",
    "    \n",
    "    if 'LichessId' in df.columns:\n",
    "        df['LichessId'] = df['LichessId'].astype('string')\n",
    "    \n",
    "    if 'Round' in df.columns:\n",
    "        df.drop('Round', axis=1, inplace=True)\n",
    "    return df"
   ]
  },
  {
   "cell_type": "code",
   "execution_count": 4,
   "metadata": {},
   "outputs": [
    {
     "data": {
      "application/vnd.jupyter.widget-view+json": {
       "model_id": "74f35af281724041b7ce83bc56e351ec",
       "version_major": 2,
       "version_minor": 0
      },
      "text/plain": [
       "  0%|          | 0/107 [00:00<?, ?it/s]"
      ]
     },
     "metadata": {},
     "output_type": "display_data"
    }
   ],
   "source": [
    "files = glob.glob('datasets/lichess-sampled/**/*.pgn')\n",
    "\n",
    "dfs = Parallel(n_jobs=16)(delayed(parse_pgn)(f) for f in tqdm(files))"
   ]
  },
  {
   "cell_type": "code",
   "execution_count": 5,
   "metadata": {},
   "outputs": [
    {
     "data": {
      "application/vnd.jupyter.widget-view+json": {
       "model_id": "5aed88350f0f4155a104b87f1e03418e",
       "version_major": 2,
       "version_minor": 0
      },
      "text/plain": [
       "  0%|          | 0/107 [00:00<?, ?it/s]"
      ]
     },
     "metadata": {},
     "output_type": "display_data"
    }
   ],
   "source": [
    "dfs = Parallel(n_jobs=16)(delayed(preprocess)(df) for df in tqdm(dfs))"
   ]
  },
  {
   "cell_type": "code",
   "execution_count": 6,
   "metadata": {},
   "outputs": [
    {
     "name": "stdout",
     "output_type": "stream",
     "text": [
      "<class 'pandas.core.frame.DataFrame'>\n",
      "Int64Index: 4286409 entries, 0 to 26973\n",
      "Data columns (total 17 columns):\n",
      " #   Column           Dtype         \n",
      "---  ------           -----         \n",
      " 0   Event            string        \n",
      " 1   Site             string        \n",
      " 2   White            string        \n",
      " 3   Black            string        \n",
      " 4   Result           object        \n",
      " 5   WhiteElo         float64       \n",
      " 6   BlackElo         float64       \n",
      " 7   WhiteRatingDiff  float64       \n",
      " 8   BlackRatingDiff  float64       \n",
      " 9   ECO              object        \n",
      " 10  TimeControl      string        \n",
      " 11  Termination      object        \n",
      " 12  Moves            string        \n",
      " 13  Date             datetime64[ns]\n",
      " 14  WhiteTitle       object        \n",
      " 15  BlackTitle       object        \n",
      " 16  LichessId        string        \n",
      "dtypes: datetime64[ns](1), float64(4), object(5), string(7)\n",
      "memory usage: 588.6+ MB\n"
     ]
    }
   ],
   "source": [
    "df = pd.concat(dfs)\n",
    "# df = preprocess(df)\n",
    "df.info()"
   ]
  },
  {
   "cell_type": "code",
   "execution_count": 7,
   "metadata": {},
   "outputs": [],
   "source": [
    "# df.to_hdf('lichess-test.h5', key='lichess', mode='w')\n",
    "df.to_parquet('datasets/lichess-sampled.parquet', engine='pyarrow')"
   ]
  },
  {
   "cell_type": "code",
   "execution_count": 8,
   "metadata": {},
   "outputs": [],
   "source": [
    "df = pd.read_parquet('datasets/lichess-sampled.parquet')"
   ]
  },
  {
   "cell_type": "code",
   "execution_count": 9,
   "metadata": {},
   "outputs": [
    {
     "data": {
      "text/html": [
       "<div>\n",
       "<style scoped>\n",
       "    .dataframe tbody tr th:only-of-type {\n",
       "        vertical-align: middle;\n",
       "    }\n",
       "\n",
       "    .dataframe tbody tr th {\n",
       "        vertical-align: top;\n",
       "    }\n",
       "\n",
       "    .dataframe thead th {\n",
       "        text-align: right;\n",
       "    }\n",
       "</style>\n",
       "<table border=\"1\" class=\"dataframe\">\n",
       "  <thead>\n",
       "    <tr style=\"text-align: right;\">\n",
       "      <th></th>\n",
       "      <th>Event</th>\n",
       "      <th>Site</th>\n",
       "      <th>White</th>\n",
       "      <th>Black</th>\n",
       "      <th>Result</th>\n",
       "      <th>WhiteElo</th>\n",
       "      <th>BlackElo</th>\n",
       "      <th>WhiteRatingDiff</th>\n",
       "      <th>BlackRatingDiff</th>\n",
       "      <th>ECO</th>\n",
       "      <th>TimeControl</th>\n",
       "      <th>Termination</th>\n",
       "      <th>Moves</th>\n",
       "      <th>Date</th>\n",
       "      <th>WhiteTitle</th>\n",
       "      <th>BlackTitle</th>\n",
       "      <th>LichessId</th>\n",
       "    </tr>\n",
       "  </thead>\n",
       "  <tbody>\n",
       "    <tr>\n",
       "      <th>0</th>\n",
       "      <td>Classical</td>\n",
       "      <td>https://lichess.org/a9tcp02g</td>\n",
       "      <td>Desmond_Wilson</td>\n",
       "      <td>savinka59</td>\n",
       "      <td>White</td>\n",
       "      <td>1654.0</td>\n",
       "      <td>1919.0</td>\n",
       "      <td>19.0</td>\n",
       "      <td>-22.0</td>\n",
       "      <td>D04</td>\n",
       "      <td>480+2</td>\n",
       "      <td>Normal</td>\n",
       "      <td>1. d4 d5 2. Nf3 Nf6 3. e3 Bf5 4. Nh4 Bg6 5. Nx...</td>\n",
       "      <td>2012-12-31 23:04:12</td>\n",
       "      <td>None</td>\n",
       "      <td>None</td>\n",
       "      <td>&lt;NA&gt;</td>\n",
       "    </tr>\n",
       "    <tr>\n",
       "      <th>1</th>\n",
       "      <td>Classical</td>\n",
       "      <td>https://lichess.org/iclkx584</td>\n",
       "      <td>Voltvolf</td>\n",
       "      <td>Marzinkus</td>\n",
       "      <td>White</td>\n",
       "      <td>1824.0</td>\n",
       "      <td>1811.0</td>\n",
       "      <td>11.0</td>\n",
       "      <td>-11.0</td>\n",
       "      <td>C02</td>\n",
       "      <td>360+6</td>\n",
       "      <td>Normal</td>\n",
       "      <td>1. e4 e6 2. d4 d5 3. e5 c5 4. c3 Ne7 5. f4 cxd...</td>\n",
       "      <td>2012-12-31 23:10:00</td>\n",
       "      <td>None</td>\n",
       "      <td>None</td>\n",
       "      <td>&lt;NA&gt;</td>\n",
       "    </tr>\n",
       "    <tr>\n",
       "      <th>2</th>\n",
       "      <td>Classical</td>\n",
       "      <td>https://lichess.org/ufcqmfxx</td>\n",
       "      <td>6WX</td>\n",
       "      <td>adamsrj</td>\n",
       "      <td>White</td>\n",
       "      <td>1463.0</td>\n",
       "      <td>1504.0</td>\n",
       "      <td>62.0</td>\n",
       "      <td>-12.0</td>\n",
       "      <td>C44</td>\n",
       "      <td>1560+30</td>\n",
       "      <td>Normal</td>\n",
       "      <td>1. e4 e5 2. Nf3 Nc6 3. Bc4 Be7 4. d4 exd4 5. N...</td>\n",
       "      <td>2012-12-31 23:16:04</td>\n",
       "      <td>None</td>\n",
       "      <td>None</td>\n",
       "      <td>&lt;NA&gt;</td>\n",
       "    </tr>\n",
       "    <tr>\n",
       "      <th>3</th>\n",
       "      <td>Classical</td>\n",
       "      <td>https://lichess.org/qwuudn2s</td>\n",
       "      <td>sebastian44</td>\n",
       "      <td>jtkjtkful</td>\n",
       "      <td>Black</td>\n",
       "      <td>1347.0</td>\n",
       "      <td>1519.0</td>\n",
       "      <td>-6.0</td>\n",
       "      <td>23.0</td>\n",
       "      <td>B01</td>\n",
       "      <td>300+5</td>\n",
       "      <td>Time forfeit</td>\n",
       "      <td>1. e4 d5 2. e5 d4 3. Nf3 Nc6 4. c3 d3 5. Na3 f...</td>\n",
       "      <td>2012-12-31 23:24:11</td>\n",
       "      <td>None</td>\n",
       "      <td>None</td>\n",
       "      <td>&lt;NA&gt;</td>\n",
       "    </tr>\n",
       "    <tr>\n",
       "      <th>4</th>\n",
       "      <td>Classical</td>\n",
       "      <td>https://lichess.org/c9qfp8es</td>\n",
       "      <td>peter2</td>\n",
       "      <td>Killi</td>\n",
       "      <td>Black</td>\n",
       "      <td>1519.0</td>\n",
       "      <td>1572.0</td>\n",
       "      <td>-9.0</td>\n",
       "      <td>9.0</td>\n",
       "      <td>C28</td>\n",
       "      <td>480+0</td>\n",
       "      <td>Normal</td>\n",
       "      <td>1. e4 Nc6 2. Nc3 e5 3. Bc4 Nf6 4. d3 h6 5. f3 ...</td>\n",
       "      <td>2013-01-01 00:51:20</td>\n",
       "      <td>None</td>\n",
       "      <td>None</td>\n",
       "      <td>&lt;NA&gt;</td>\n",
       "    </tr>\n",
       "  </tbody>\n",
       "</table>\n",
       "</div>"
      ],
      "text/plain": [
       "       Event                          Site           White      Black Result  \\\n",
       "0  Classical  https://lichess.org/a9tcp02g  Desmond_Wilson  savinka59  White   \n",
       "1  Classical  https://lichess.org/iclkx584        Voltvolf  Marzinkus  White   \n",
       "2  Classical  https://lichess.org/ufcqmfxx             6WX    adamsrj  White   \n",
       "3  Classical  https://lichess.org/qwuudn2s     sebastian44  jtkjtkful  Black   \n",
       "4  Classical  https://lichess.org/c9qfp8es          peter2      Killi  Black   \n",
       "\n",
       "   WhiteElo  BlackElo  WhiteRatingDiff  BlackRatingDiff  ECO TimeControl  \\\n",
       "0    1654.0    1919.0             19.0            -22.0  D04       480+2   \n",
       "1    1824.0    1811.0             11.0            -11.0  C02       360+6   \n",
       "2    1463.0    1504.0             62.0            -12.0  C44     1560+30   \n",
       "3    1347.0    1519.0             -6.0             23.0  B01       300+5   \n",
       "4    1519.0    1572.0             -9.0              9.0  C28       480+0   \n",
       "\n",
       "    Termination                                              Moves  \\\n",
       "0        Normal  1. d4 d5 2. Nf3 Nf6 3. e3 Bf5 4. Nh4 Bg6 5. Nx...   \n",
       "1        Normal  1. e4 e6 2. d4 d5 3. e5 c5 4. c3 Ne7 5. f4 cxd...   \n",
       "2        Normal  1. e4 e5 2. Nf3 Nc6 3. Bc4 Be7 4. d4 exd4 5. N...   \n",
       "3  Time forfeit  1. e4 d5 2. e5 d4 3. Nf3 Nc6 4. c3 d3 5. Na3 f...   \n",
       "4        Normal  1. e4 Nc6 2. Nc3 e5 3. Bc4 Nf6 4. d3 h6 5. f3 ...   \n",
       "\n",
       "                 Date WhiteTitle BlackTitle LichessId  \n",
       "0 2012-12-31 23:04:12       None       None      <NA>  \n",
       "1 2012-12-31 23:10:00       None       None      <NA>  \n",
       "2 2012-12-31 23:16:04       None       None      <NA>  \n",
       "3 2012-12-31 23:24:11       None       None      <NA>  \n",
       "4 2013-01-01 00:51:20       None       None      <NA>  "
      ]
     },
     "execution_count": 9,
     "metadata": {},
     "output_type": "execute_result"
    }
   ],
   "source": [
    "df.head()"
   ]
  },
  {
   "cell_type": "code",
   "execution_count": 10,
   "metadata": {},
   "outputs": [
    {
     "name": "stdout",
     "output_type": "stream",
     "text": [
      "<class 'pandas.core.frame.DataFrame'>\n",
      "Int64Index: 4286409 entries, 0 to 26973\n",
      "Data columns (total 17 columns):\n",
      " #   Column           Dtype         \n",
      "---  ------           -----         \n",
      " 0   Event            string        \n",
      " 1   Site             string        \n",
      " 2   White            string        \n",
      " 3   Black            string        \n",
      " 4   Result           object        \n",
      " 5   WhiteElo         float64       \n",
      " 6   BlackElo         float64       \n",
      " 7   WhiteRatingDiff  float64       \n",
      " 8   BlackRatingDiff  float64       \n",
      " 9   ECO              object        \n",
      " 10  TimeControl      string        \n",
      " 11  Termination      object        \n",
      " 12  Moves            string        \n",
      " 13  Date             datetime64[ns]\n",
      " 14  WhiteTitle       object        \n",
      " 15  BlackTitle       object        \n",
      " 16  LichessId        string        \n",
      "dtypes: datetime64[ns](1), float64(4), object(5), string(7)\n",
      "memory usage: 588.6+ MB\n"
     ]
    }
   ],
   "source": [
    "df.info()"
   ]
  },
  {
   "cell_type": "code",
   "execution_count": null,
   "metadata": {},
   "outputs": [],
   "source": []
  }
 ],
 "metadata": {
  "interpreter": {
   "hash": "f4295f44fb961e488ac35fdf66ac2490c69933a9017e77fc21b82025be729671"
  },
  "kernelspec": {
   "display_name": "Python 3 (ipykernel)",
   "language": "python",
   "name": "python3"
  },
  "language_info": {
   "codemirror_mode": {
    "name": "ipython",
    "version": 3
   },
   "file_extension": ".py",
   "mimetype": "text/x-python",
   "name": "python",
   "nbconvert_exporter": "python",
   "pygments_lexer": "ipython3",
   "version": "3.8.12"
  }
 },
 "nbformat": 4,
 "nbformat_minor": 4
}
