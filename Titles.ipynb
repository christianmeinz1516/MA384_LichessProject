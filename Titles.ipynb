{
 "cells": [
  {
   "cell_type": "code",
   "execution_count": 1,
   "id": "a2d7c88d",
   "metadata": {},
   "outputs": [],
   "source": [
    "import pandas as pd"
   ]
  },
  {
   "cell_type": "code",
   "execution_count": 2,
   "id": "eac72908",
   "metadata": {},
   "outputs": [
    {
     "data": {
      "text/html": [
       "<div>\n",
       "<style scoped>\n",
       "    .dataframe tbody tr th:only-of-type {\n",
       "        vertical-align: middle;\n",
       "    }\n",
       "\n",
       "    .dataframe tbody tr th {\n",
       "        vertical-align: top;\n",
       "    }\n",
       "\n",
       "    .dataframe thead th {\n",
       "        text-align: right;\n",
       "    }\n",
       "</style>\n",
       "<table border=\"1\" class=\"dataframe\">\n",
       "  <thead>\n",
       "    <tr style=\"text-align: right;\">\n",
       "      <th></th>\n",
       "      <th>Event</th>\n",
       "      <th>Site</th>\n",
       "      <th>White</th>\n",
       "      <th>Black</th>\n",
       "      <th>Result</th>\n",
       "      <th>WhiteElo</th>\n",
       "      <th>BlackElo</th>\n",
       "      <th>WhiteRatingDiff</th>\n",
       "      <th>BlackRatingDiff</th>\n",
       "      <th>ECO</th>\n",
       "      <th>TimeControl</th>\n",
       "      <th>Termination</th>\n",
       "      <th>Moves</th>\n",
       "      <th>WhiteTitle</th>\n",
       "      <th>BlackTitle</th>\n",
       "      <th>LichessId</th>\n",
       "      <th>Date</th>\n",
       "    </tr>\n",
       "  </thead>\n",
       "  <tbody>\n",
       "    <tr>\n",
       "      <th>0</th>\n",
       "      <td>Classical</td>\n",
       "      <td>https://lichess.org/a9tcp02g</td>\n",
       "      <td>Desmond_Wilson</td>\n",
       "      <td>savinka59</td>\n",
       "      <td>White</td>\n",
       "      <td>1654.0</td>\n",
       "      <td>1919.0</td>\n",
       "      <td>19.0</td>\n",
       "      <td>-22.0</td>\n",
       "      <td>D04</td>\n",
       "      <td>480+2</td>\n",
       "      <td>Normal</td>\n",
       "      <td>1. d4 d5 2. Nf3 Nf6 3. e3 Bf5 4. Nh4 Bg6 5. Nx...</td>\n",
       "      <td>NaN</td>\n",
       "      <td>NaN</td>\n",
       "      <td>&lt;NA&gt;</td>\n",
       "      <td>2012-12-31 23:04:12</td>\n",
       "    </tr>\n",
       "    <tr>\n",
       "      <th>1</th>\n",
       "      <td>Classical</td>\n",
       "      <td>https://lichess.org/iclkx584</td>\n",
       "      <td>Voltvolf</td>\n",
       "      <td>Marzinkus</td>\n",
       "      <td>White</td>\n",
       "      <td>1824.0</td>\n",
       "      <td>1811.0</td>\n",
       "      <td>11.0</td>\n",
       "      <td>-11.0</td>\n",
       "      <td>C02</td>\n",
       "      <td>360+6</td>\n",
       "      <td>Normal</td>\n",
       "      <td>1. e4 e6 2. d4 d5 3. e5 c5 4. c3 Ne7 5. f4 cxd...</td>\n",
       "      <td>NaN</td>\n",
       "      <td>NaN</td>\n",
       "      <td>&lt;NA&gt;</td>\n",
       "      <td>2012-12-31 23:10:00</td>\n",
       "    </tr>\n",
       "    <tr>\n",
       "      <th>2</th>\n",
       "      <td>Classical</td>\n",
       "      <td>https://lichess.org/ufcqmfxx</td>\n",
       "      <td>6WX</td>\n",
       "      <td>adamsrj</td>\n",
       "      <td>White</td>\n",
       "      <td>1463.0</td>\n",
       "      <td>1504.0</td>\n",
       "      <td>62.0</td>\n",
       "      <td>-12.0</td>\n",
       "      <td>C44</td>\n",
       "      <td>1560+30</td>\n",
       "      <td>Normal</td>\n",
       "      <td>1. e4 e5 2. Nf3 Nc6 3. Bc4 Be7 4. d4 exd4 5. N...</td>\n",
       "      <td>NaN</td>\n",
       "      <td>NaN</td>\n",
       "      <td>&lt;NA&gt;</td>\n",
       "      <td>2012-12-31 23:16:04</td>\n",
       "    </tr>\n",
       "    <tr>\n",
       "      <th>3</th>\n",
       "      <td>Classical</td>\n",
       "      <td>https://lichess.org/qwuudn2s</td>\n",
       "      <td>sebastian44</td>\n",
       "      <td>jtkjtkful</td>\n",
       "      <td>Black</td>\n",
       "      <td>1347.0</td>\n",
       "      <td>1519.0</td>\n",
       "      <td>-6.0</td>\n",
       "      <td>23.0</td>\n",
       "      <td>B01</td>\n",
       "      <td>300+5</td>\n",
       "      <td>Time forfeit</td>\n",
       "      <td>1. e4 d5 2. e5 d4 3. Nf3 Nc6 4. c3 d3 5. Na3 f...</td>\n",
       "      <td>NaN</td>\n",
       "      <td>NaN</td>\n",
       "      <td>&lt;NA&gt;</td>\n",
       "      <td>2012-12-31 23:24:11</td>\n",
       "    </tr>\n",
       "    <tr>\n",
       "      <th>4</th>\n",
       "      <td>Classical</td>\n",
       "      <td>https://lichess.org/c9qfp8es</td>\n",
       "      <td>peter2</td>\n",
       "      <td>Killi</td>\n",
       "      <td>Black</td>\n",
       "      <td>1519.0</td>\n",
       "      <td>1572.0</td>\n",
       "      <td>-9.0</td>\n",
       "      <td>9.0</td>\n",
       "      <td>C28</td>\n",
       "      <td>480+0</td>\n",
       "      <td>Normal</td>\n",
       "      <td>1. e4 Nc6 2. Nc3 e5 3. Bc4 Nf6 4. d3 h6 5. f3 ...</td>\n",
       "      <td>NaN</td>\n",
       "      <td>NaN</td>\n",
       "      <td>&lt;NA&gt;</td>\n",
       "      <td>2013-01-01 00:51:20</td>\n",
       "    </tr>\n",
       "  </tbody>\n",
       "</table>\n",
       "</div>"
      ],
      "text/plain": [
       "       Event                          Site           White      Black Result  \\\n",
       "0  Classical  https://lichess.org/a9tcp02g  Desmond_Wilson  savinka59  White   \n",
       "1  Classical  https://lichess.org/iclkx584        Voltvolf  Marzinkus  White   \n",
       "2  Classical  https://lichess.org/ufcqmfxx             6WX    adamsrj  White   \n",
       "3  Classical  https://lichess.org/qwuudn2s     sebastian44  jtkjtkful  Black   \n",
       "4  Classical  https://lichess.org/c9qfp8es          peter2      Killi  Black   \n",
       "\n",
       "   WhiteElo  BlackElo  WhiteRatingDiff  BlackRatingDiff  ECO TimeControl  \\\n",
       "0    1654.0    1919.0             19.0            -22.0  D04       480+2   \n",
       "1    1824.0    1811.0             11.0            -11.0  C02       360+6   \n",
       "2    1463.0    1504.0             62.0            -12.0  C44     1560+30   \n",
       "3    1347.0    1519.0             -6.0             23.0  B01       300+5   \n",
       "4    1519.0    1572.0             -9.0              9.0  C28       480+0   \n",
       "\n",
       "    Termination                                              Moves WhiteTitle  \\\n",
       "0        Normal  1. d4 d5 2. Nf3 Nf6 3. e3 Bf5 4. Nh4 Bg6 5. Nx...        NaN   \n",
       "1        Normal  1. e4 e6 2. d4 d5 3. e5 c5 4. c3 Ne7 5. f4 cxd...        NaN   \n",
       "2        Normal  1. e4 e5 2. Nf3 Nc6 3. Bc4 Be7 4. d4 exd4 5. N...        NaN   \n",
       "3  Time forfeit  1. e4 d5 2. e5 d4 3. Nf3 Nc6 4. c3 d3 5. Na3 f...        NaN   \n",
       "4        Normal  1. e4 Nc6 2. Nc3 e5 3. Bc4 Nf6 4. d3 h6 5. f3 ...        NaN   \n",
       "\n",
       "  BlackTitle LichessId                Date  \n",
       "0        NaN      <NA> 2012-12-31 23:04:12  \n",
       "1        NaN      <NA> 2012-12-31 23:10:00  \n",
       "2        NaN      <NA> 2012-12-31 23:16:04  \n",
       "3        NaN      <NA> 2012-12-31 23:24:11  \n",
       "4        NaN      <NA> 2013-01-01 00:51:20  "
      ]
     },
     "execution_count": 2,
     "metadata": {},
     "output_type": "execute_result"
    }
   ],
   "source": [
    "df = pd.read_parquet(\"./lichess-sampled.parquet\")\n",
    "df.head()"
   ]
  },
  {
   "cell_type": "code",
   "execution_count": 19,
   "id": "93a75f08",
   "metadata": {},
   "outputs": [
    {
     "data": {
      "text/html": [
       "<div>\n",
       "<style scoped>\n",
       "    .dataframe tbody tr th:only-of-type {\n",
       "        vertical-align: middle;\n",
       "    }\n",
       "\n",
       "    .dataframe tbody tr th {\n",
       "        vertical-align: top;\n",
       "    }\n",
       "\n",
       "    .dataframe thead th {\n",
       "        text-align: right;\n",
       "    }\n",
       "</style>\n",
       "<table border=\"1\" class=\"dataframe\">\n",
       "  <thead>\n",
       "    <tr style=\"text-align: right;\">\n",
       "      <th></th>\n",
       "      <th>Event</th>\n",
       "      <th>Site</th>\n",
       "      <th>White</th>\n",
       "      <th>Black</th>\n",
       "      <th>Result</th>\n",
       "      <th>WhiteElo</th>\n",
       "      <th>BlackElo</th>\n",
       "      <th>WhiteRatingDiff</th>\n",
       "      <th>BlackRatingDiff</th>\n",
       "      <th>ECO</th>\n",
       "      <th>TimeControl</th>\n",
       "      <th>Termination</th>\n",
       "      <th>Moves</th>\n",
       "      <th>WhiteTitle</th>\n",
       "      <th>BlackTitle</th>\n",
       "      <th>LichessId</th>\n",
       "      <th>Date</th>\n",
       "      <th>Titled</th>\n",
       "    </tr>\n",
       "  </thead>\n",
       "  <tbody>\n",
       "    <tr>\n",
       "      <th>0</th>\n",
       "      <td>Classical</td>\n",
       "      <td>https://lichess.org/a9tcp02g</td>\n",
       "      <td>Desmond_Wilson</td>\n",
       "      <td>savinka59</td>\n",
       "      <td>White</td>\n",
       "      <td>1654.0</td>\n",
       "      <td>1919.0</td>\n",
       "      <td>19.0</td>\n",
       "      <td>-22.0</td>\n",
       "      <td>D04</td>\n",
       "      <td>480+2</td>\n",
       "      <td>Normal</td>\n",
       "      <td>1. d4 d5 2. Nf3 Nf6 3. e3 Bf5 4. Nh4 Bg6 5. Nx...</td>\n",
       "      <td>NaN</td>\n",
       "      <td>NaN</td>\n",
       "      <td>&lt;NA&gt;</td>\n",
       "      <td>2012-12-31 23:04:12</td>\n",
       "      <td>False</td>\n",
       "    </tr>\n",
       "    <tr>\n",
       "      <th>1</th>\n",
       "      <td>Classical</td>\n",
       "      <td>https://lichess.org/iclkx584</td>\n",
       "      <td>Voltvolf</td>\n",
       "      <td>Marzinkus</td>\n",
       "      <td>White</td>\n",
       "      <td>1824.0</td>\n",
       "      <td>1811.0</td>\n",
       "      <td>11.0</td>\n",
       "      <td>-11.0</td>\n",
       "      <td>C02</td>\n",
       "      <td>360+6</td>\n",
       "      <td>Normal</td>\n",
       "      <td>1. e4 e6 2. d4 d5 3. e5 c5 4. c3 Ne7 5. f4 cxd...</td>\n",
       "      <td>NaN</td>\n",
       "      <td>NaN</td>\n",
       "      <td>&lt;NA&gt;</td>\n",
       "      <td>2012-12-31 23:10:00</td>\n",
       "      <td>False</td>\n",
       "    </tr>\n",
       "    <tr>\n",
       "      <th>2</th>\n",
       "      <td>Classical</td>\n",
       "      <td>https://lichess.org/ufcqmfxx</td>\n",
       "      <td>6WX</td>\n",
       "      <td>adamsrj</td>\n",
       "      <td>White</td>\n",
       "      <td>1463.0</td>\n",
       "      <td>1504.0</td>\n",
       "      <td>62.0</td>\n",
       "      <td>-12.0</td>\n",
       "      <td>C44</td>\n",
       "      <td>1560+30</td>\n",
       "      <td>Normal</td>\n",
       "      <td>1. e4 e5 2. Nf3 Nc6 3. Bc4 Be7 4. d4 exd4 5. N...</td>\n",
       "      <td>NaN</td>\n",
       "      <td>NaN</td>\n",
       "      <td>&lt;NA&gt;</td>\n",
       "      <td>2012-12-31 23:16:04</td>\n",
       "      <td>False</td>\n",
       "    </tr>\n",
       "  </tbody>\n",
       "</table>\n",
       "</div>"
      ],
      "text/plain": [
       "       Event                          Site           White      Black Result  \\\n",
       "0  Classical  https://lichess.org/a9tcp02g  Desmond_Wilson  savinka59  White   \n",
       "1  Classical  https://lichess.org/iclkx584        Voltvolf  Marzinkus  White   \n",
       "2  Classical  https://lichess.org/ufcqmfxx             6WX    adamsrj  White   \n",
       "\n",
       "   WhiteElo  BlackElo  WhiteRatingDiff  BlackRatingDiff  ECO TimeControl  \\\n",
       "0    1654.0    1919.0             19.0            -22.0  D04       480+2   \n",
       "1    1824.0    1811.0             11.0            -11.0  C02       360+6   \n",
       "2    1463.0    1504.0             62.0            -12.0  C44     1560+30   \n",
       "\n",
       "  Termination                                              Moves WhiteTitle  \\\n",
       "0      Normal  1. d4 d5 2. Nf3 Nf6 3. e3 Bf5 4. Nh4 Bg6 5. Nx...        NaN   \n",
       "1      Normal  1. e4 e6 2. d4 d5 3. e5 c5 4. c3 Ne7 5. f4 cxd...        NaN   \n",
       "2      Normal  1. e4 e5 2. Nf3 Nc6 3. Bc4 Be7 4. d4 exd4 5. N...        NaN   \n",
       "\n",
       "  BlackTitle LichessId                Date  Titled  \n",
       "0        NaN      <NA> 2012-12-31 23:04:12   False  \n",
       "1        NaN      <NA> 2012-12-31 23:10:00   False  \n",
       "2        NaN      <NA> 2012-12-31 23:16:04   False  "
      ]
     },
     "execution_count": 19,
     "metadata": {},
     "output_type": "execute_result"
    }
   ],
   "source": [
    "df[\"Titled\"] = ~df[['WhiteTitle', 'BlackTitle']].isnull().all(axis=1)\n",
    "df.head(3)"
   ]
  },
  {
   "cell_type": "code",
   "execution_count": 36,
   "id": "4fa70825",
   "metadata": {},
   "outputs": [],
   "source": [
    "titled_v_non_titled = df[df[['WhiteTitle', 'BlackTitle']].isnull().any(axis=1)]"
   ]
  },
  {
   "cell_type": "markdown",
   "id": "f322b05d",
   "metadata": {},
   "source": [
    "# How the game ends when at least one person has a title\n",
    "More likely to draw, or \"Unknown\" (which is an abandonded game)"
   ]
  },
  {
   "cell_type": "code",
   "execution_count": 35,
   "id": "2bb2e636",
   "metadata": {},
   "outputs": [
    {
     "data": {
      "text/html": [
       "<div>\n",
       "<style scoped>\n",
       "    .dataframe tbody tr th:only-of-type {\n",
       "        vertical-align: middle;\n",
       "    }\n",
       "\n",
       "    .dataframe tbody tr th {\n",
       "        vertical-align: top;\n",
       "    }\n",
       "\n",
       "    .dataframe thead th {\n",
       "        text-align: right;\n",
       "    }\n",
       "</style>\n",
       "<table border=\"1\" class=\"dataframe\">\n",
       "  <thead>\n",
       "    <tr style=\"text-align: right;\">\n",
       "      <th>Titled</th>\n",
       "      <th>False</th>\n",
       "      <th>True</th>\n",
       "    </tr>\n",
       "    <tr>\n",
       "      <th>Result</th>\n",
       "      <th></th>\n",
       "      <th></th>\n",
       "    </tr>\n",
       "  </thead>\n",
       "  <tbody>\n",
       "    <tr>\n",
       "      <th>Black</th>\n",
       "      <td>0.458122</td>\n",
       "      <td>0.441625</td>\n",
       "    </tr>\n",
       "    <tr>\n",
       "      <th>Draw</th>\n",
       "      <td>0.043552</td>\n",
       "      <td>0.087122</td>\n",
       "    </tr>\n",
       "    <tr>\n",
       "      <th>Unknown</th>\n",
       "      <td>0.000301</td>\n",
       "      <td>0.001467</td>\n",
       "    </tr>\n",
       "    <tr>\n",
       "      <th>White</th>\n",
       "      <td>0.498026</td>\n",
       "      <td>0.469786</td>\n",
       "    </tr>\n",
       "  </tbody>\n",
       "</table>\n",
       "</div>"
      ],
      "text/plain": [
       "Titled      False      True\n",
       "Result                     \n",
       "Black    0.458122  0.441625\n",
       "Draw     0.043552  0.087122\n",
       "Unknown  0.000301  0.001467\n",
       "White    0.498026  0.469786"
      ]
     },
     "execution_count": 35,
     "metadata": {},
     "output_type": "execute_result"
    }
   ],
   "source": [
    "pd.crosstab(df.Result, df.Titled, normalize=\"columns\")"
   ]
  },
  {
   "cell_type": "code",
   "execution_count": 34,
   "id": "ef42a4ef",
   "metadata": {},
   "outputs": [
    {
     "data": {
      "text/plain": [
       "<AxesSubplot:xlabel='Result'>"
      ]
     },
     "execution_count": 34,
     "metadata": {},
     "output_type": "execute_result"
    },
    {
     "data": {
      "image/png": "[encoded data removed]",
      "text/plain": [
       "<Figure size 432x288 with 1 Axes>"
      ]
     },
     "metadata": {
      "needs_background": "light"
     },
     "output_type": "display_data"
    }
   ],
   "source": [
    "pd.crosstab(df.Result, df.Titled, normalize=\"columns\").plot.bar()"
   ]
  },
  {
   "cell_type": "code",
   "execution_count": 58,
   "id": "2b29586c",
   "metadata": {},
   "outputs": [
    {
     "data": {
      "text/plain": [
       "Abandoned           10\n",
       "Normal               0\n",
       "Rules infraction     0\n",
       "Time forfeit         0\n",
       "Unterminated         0\n",
       "Name: Termination, dtype: int64"
      ]
     },
     "execution_count": 58,
     "metadata": {},
     "output_type": "execute_result"
    }
   ],
   "source": [
    "df[(df.Titled == True) & (df.Result == \"Unknown\")].Termination.value_counts()"
   ]
  },
  {
   "cell_type": "markdown",
   "id": "770f0085",
   "metadata": {},
   "source": [
    "## Why the game ends up being terminated\n",
    "(more likely to abandon, but also more likely to finish \"normally\" as opposed to forfeiting by time)"
   ]
  },
  {
   "cell_type": "code",
   "execution_count": 68,
   "id": "a3627b7c",
   "metadata": {
    "scrolled": true
   },
   "outputs": [
    {
     "data": {
      "text/html": [
       "<div>\n",
       "<style scoped>\n",
       "    .dataframe tbody tr th:only-of-type {\n",
       "        vertical-align: middle;\n",
       "    }\n",
       "\n",
       "    .dataframe tbody tr th {\n",
       "        vertical-align: top;\n",
       "    }\n",
       "\n",
       "    .dataframe thead th {\n",
       "        text-align: right;\n",
       "    }\n",
       "</style>\n",
       "<table border=\"1\" class=\"dataframe\">\n",
       "  <thead>\n",
       "    <tr style=\"text-align: right;\">\n",
       "      <th>Titled</th>\n",
       "      <th>False</th>\n",
       "      <th>True</th>\n",
       "    </tr>\n",
       "    <tr>\n",
       "      <th>Termination</th>\n",
       "      <th></th>\n",
       "      <th></th>\n",
       "    </tr>\n",
       "  </thead>\n",
       "  <tbody>\n",
       "    <tr>\n",
       "      <th>Abandoned</th>\n",
       "      <td>0.003112</td>\n",
       "      <td>0.007334</td>\n",
       "    </tr>\n",
       "    <tr>\n",
       "      <th>Normal</th>\n",
       "      <td>0.858448</td>\n",
       "      <td>0.917424</td>\n",
       "    </tr>\n",
       "    <tr>\n",
       "      <th>Rules infraction</th>\n",
       "      <td>0.000314</td>\n",
       "      <td>0.001027</td>\n",
       "    </tr>\n",
       "    <tr>\n",
       "      <th>Time forfeit</th>\n",
       "      <td>0.138125</td>\n",
       "      <td>0.074215</td>\n",
       "    </tr>\n",
       "    <tr>\n",
       "      <th>Unterminated</th>\n",
       "      <td>0.000000</td>\n",
       "      <td>0.000000</td>\n",
       "    </tr>\n",
       "  </tbody>\n",
       "</table>\n",
       "</div>"
      ],
      "text/plain": [
       "Titled               False      True\n",
       "Termination                         \n",
       "Abandoned         0.003112  0.007334\n",
       "Normal            0.858448  0.917424\n",
       "Rules infraction  0.000314  0.001027\n",
       "Time forfeit      0.138125  0.074215\n",
       "Unterminated      0.000000  0.000000"
      ]
     },
     "execution_count": 68,
     "metadata": {},
     "output_type": "execute_result"
    }
   ],
   "source": [
    "pd.crosstab(df.Termination, df.Titled, normalize='columns').round(6)"
   ]
  },
  {
   "cell_type": "code",
   "execution_count": 59,
   "id": "d0eea79b",
   "metadata": {
    "scrolled": false
   },
   "outputs": [
    {
     "data": {
      "text/plain": [
       "<AxesSubplot:xlabel='Termination'>"
      ]
     },
     "execution_count": 59,
     "metadata": {},
     "output_type": "execute_result"
    },
    {
     "data": {
      "image/png": "[encoded data removed]",
      "text/plain": [
       "<Figure size 432x288 with 1 Axes>"
      ]
     },
     "metadata": {
      "needs_background": "light"
     },
     "output_type": "display_data"
    }
   ],
   "source": [
    "pd.crosstab(df.Termination, df.Titled, normalize=\"columns\").plot.bar()"
   ]
  },
  {
   "cell_type": "markdown",
   "id": "cb6f4e7d",
   "metadata": {},
   "source": [
    "# Comparing White Titled openings vs the whole community's openings"
   ]
  },
  {
   "cell_type": "code",
   "execution_count": 76,
   "id": "85d19bbb",
   "metadata": {},
   "outputs": [
    {
     "data": {
      "text/plain": [
       "<AxesSubplot:>"
      ]
     },
     "execution_count": 76,
     "metadata": {},
     "output_type": "execute_result"
    },
    {
     "data": {
      "image/png": "[encoded data removed]",
      "text/plain": [
       "<Figure size 432x288 with 1 Axes>"
      ]
     },
     "metadata": {
      "needs_background": "light"
     },
     "output_type": "display_data"
    }
   ],
   "source": [
    "df[~df[\"WhiteTitle\"].isnull()].ECO.value_counts(normalize=True).head(20).plot.bar()"
   ]
  },
  {
   "cell_type": "code",
   "execution_count": 77,
   "id": "f1a45a46",
   "metadata": {},
   "outputs": [
    {
     "data": {
      "text/plain": [
       "<AxesSubplot:>"
      ]
     },
     "execution_count": 77,
     "metadata": {},
     "output_type": "execute_result"
    },
    {
     "data": {
      "image/png": "[encoded data removed]",
      "text/plain": [
       "<Figure size 432x288 with 1 Axes>"
      ]
     },
     "metadata": {
      "needs_background": "light"
     },
     "output_type": "display_data"
    }
   ],
   "source": [
    "df.ECO.value_counts(normalize=True).head(20).plot.bar()"
   ]
  },
  {
   "cell_type": "markdown",
   "id": "af5096f2",
   "metadata": {},
   "source": [
    "# Early Resignation (how many moves, against whom, what openings more likely to cause it?)"
   ]
  },
  {
   "cell_type": "code",
   "execution_count": 79,
   "id": "03cb5476",
   "metadata": {},
   "outputs": [
    {
     "data": {
      "text/plain": [
       "Normal              3680063\n",
       "Time forfeit         591623\n",
       "Abandoned             13369\n",
       "Rules infraction       1352\n",
       "Unterminated              2\n",
       "Name: Termination, dtype: int64"
      ]
     },
     "execution_count": 79,
     "metadata": {},
     "output_type": "execute_result"
    }
   ],
   "source": [
    "df.Termination.value_counts()"
   ]
  },
  {
   "cell_type": "code",
   "execution_count": null,
   "id": "02137d37",
   "metadata": {},
   "outputs": [],
   "source": []
  }
 ],
 "metadata": {
  "kernelspec": {
   "display_name": "Python 3 (ipykernel)",
   "language": "python",
   "name": "python3"
  },
  "language_info": {
   "codemirror_mode": {
    "name": "ipython",
    "version": 3
   },
   "file_extension": ".py",
   "mimetype": "text/x-python",
   "name": "python",
   "nbconvert_exporter": "python",
   "pygments_lexer": "ipython3",
   "version": "3.9.7"
  }
 },
 "nbformat": 4,
 "nbformat_minor": 5
}
