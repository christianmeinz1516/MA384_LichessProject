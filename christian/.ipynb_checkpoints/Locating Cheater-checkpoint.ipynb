{
 "cells": [
  {
   "cell_type": "markdown",
   "id": "44be70b6",
   "metadata": {},
   "source": [
    "# Potential Cheater Analysis"
   ]
  },
  {
   "cell_type": "markdown",
   "id": "6377cb51",
   "metadata": {},
   "source": [
    "### Looking at another dataset for comparison, but potentially found a cheater."
   ]
  },
  {
   "cell_type": "code",
   "execution_count": 1,
   "id": "f4eaaa05",
   "metadata": {},
   "outputs": [],
   "source": [
    "import numpy as np\n",
    "import pandas as pd\n",
    "import matplotlib.pyplot as plt\n",
    "import seaborn as sns\n",
    "from stockfish import Stockfish\n",
    "import chess\n",
    "import chess.engine\n",
    "import math"
   ]
  },
  {
   "cell_type": "code",
   "execution_count": 2,
   "id": "c442d713",
   "metadata": {},
   "outputs": [],
   "source": [
    "engine = chess.engine.SimpleEngine.popen_uci(\"C:/Users/meinzecp/Downloads/stockfish_14.1_win_x64_avx2/stockfish_14.1_win_x64_avx2.exe\")\n",
    "stockfish = Stockfish('C:/Users/meinzecp/Downloads/stockfish_14.1_win_x64_avx2/stockfish_14.1_win_x64_avx2.exe')\n",
    "stockfish.set_elo_rating(2600)\n",
    "df = pd.read_csv('./chess_subsample.csv')"
   ]
  },
  {
   "cell_type": "code",
   "execution_count": 3,
   "id": "d7102f99",
   "metadata": {},
   "outputs": [
    {
     "name": "stdout",
     "output_type": "stream",
     "text": [
      "game_id               int64\n",
      "rated                  bool\n",
      "turns                 int64\n",
      "victory_status       object\n",
      "winner               object\n",
      "time_increment       object\n",
      "white_id             object\n",
      "white_rating          int64\n",
      "black_id             object\n",
      "black_rating          int64\n",
      "moves                object\n",
      "opening_code         object\n",
      "opening_moves         int64\n",
      "opening_fullname     object\n",
      "opening_shortname    object\n",
      "opening_response     object\n",
      "opening_variation    object\n",
      "dtype: object\n"
     ]
    },
    {
     "data": {
      "text/html": [
       "<div>\n",
       "<style scoped>\n",
       "    .dataframe tbody tr th:only-of-type {\n",
       "        vertical-align: middle;\n",
       "    }\n",
       "\n",
       "    .dataframe tbody tr th {\n",
       "        vertical-align: top;\n",
       "    }\n",
       "\n",
       "    .dataframe thead th {\n",
       "        text-align: right;\n",
       "    }\n",
       "</style>\n",
       "<table border=\"1\" class=\"dataframe\">\n",
       "  <thead>\n",
       "    <tr style=\"text-align: right;\">\n",
       "      <th></th>\n",
       "      <th>game_id</th>\n",
       "      <th>rated</th>\n",
       "      <th>turns</th>\n",
       "      <th>victory_status</th>\n",
       "      <th>winner</th>\n",
       "      <th>time_increment</th>\n",
       "      <th>white_id</th>\n",
       "      <th>white_rating</th>\n",
       "      <th>black_id</th>\n",
       "      <th>black_rating</th>\n",
       "      <th>moves</th>\n",
       "      <th>opening_code</th>\n",
       "      <th>opening_moves</th>\n",
       "      <th>opening_fullname</th>\n",
       "      <th>opening_shortname</th>\n",
       "      <th>opening_response</th>\n",
       "      <th>opening_variation</th>\n",
       "    </tr>\n",
       "  </thead>\n",
       "  <tbody>\n",
       "    <tr>\n",
       "      <th>0</th>\n",
       "      <td>1</td>\n",
       "      <td>False</td>\n",
       "      <td>13</td>\n",
       "      <td>Out of Time</td>\n",
       "      <td>White</td>\n",
       "      <td>15+2</td>\n",
       "      <td>bourgris</td>\n",
       "      <td>1500</td>\n",
       "      <td>a-00</td>\n",
       "      <td>1191</td>\n",
       "      <td>d4 d5 c4 c6 cxd5 e6 dxe6 fxe6 Nf3 Bb4+ Nc3 Ba5...</td>\n",
       "      <td>D10</td>\n",
       "      <td>5</td>\n",
       "      <td>Slav Defense: Exchange Variation</td>\n",
       "      <td>Slav Defense</td>\n",
       "      <td>NaN</td>\n",
       "      <td>Exchange Variation</td>\n",
       "    </tr>\n",
       "  </tbody>\n",
       "</table>\n",
       "</div>"
      ],
      "text/plain": [
       "   game_id  rated  turns victory_status winner time_increment  white_id  \\\n",
       "0        1  False     13    Out of Time  White           15+2  bourgris   \n",
       "\n",
       "   white_rating black_id  black_rating  \\\n",
       "0          1500     a-00          1191   \n",
       "\n",
       "                                               moves opening_code  \\\n",
       "0  d4 d5 c4 c6 cxd5 e6 dxe6 fxe6 Nf3 Bb4+ Nc3 Ba5...          D10   \n",
       "\n",
       "   opening_moves                  opening_fullname opening_shortname  \\\n",
       "0              5  Slav Defense: Exchange Variation      Slav Defense   \n",
       "\n",
       "  opening_response   opening_variation  \n",
       "0              NaN  Exchange Variation  "
      ]
     },
     "execution_count": 3,
     "metadata": {},
     "output_type": "execute_result"
    }
   ],
   "source": [
    "print(df.dtypes)\n",
    "df.head(1)"
   ]
  },
  {
   "cell_type": "code",
   "execution_count": 4,
   "id": "e64fc3cf",
   "metadata": {},
   "outputs": [
    {
     "data": {
      "image/png": "[encoded data removed]",
      "text/plain": [
       "<Figure size 432x288 with 1 Axes>"
      ]
     },
     "metadata": {},
     "output_type": "display_data"
    },
    {
     "data": {
      "text/plain": [
       "<Figure size 432x288 with 0 Axes>"
      ]
     },
     "metadata": {},
     "output_type": "display_data"
    }
   ],
   "source": [
    "# Remove any games that were cut short\n",
    "df = df[df.turns >= 3]\n",
    "df['moves_list'] = df.moves.apply(lambda x: x.split())\n",
    "\n",
    "# Add features for opening moves and response to the opening move\n",
    "df['opening_move'] = df.moves_list.apply(lambda x: x[0])\n",
    "df['response'] = df.moves_list.apply(lambda x: x[1])\n",
    "\n",
    "# Manually adding opening move names\n",
    "df['opening_name'] = df.moves_list.apply(lambda x: 'King\\'s Pawn' \n",
    "                                         if x[0] == 'e4' \n",
    "                                         else ('Queen\\'s Pawn' \n",
    "                                               if x[0] == 'd4' \n",
    "                                               else ('English' \n",
    "                                                     if x[0] == 'c4' \n",
    "                                                     else ('Reti' \n",
    "                                                           if x[0] == 'Nf3' \n",
    "                                                           else 'Other'))))\n",
    "df['rating_gap'] = abs(df['white_rating'] - df['black_rating'])\n",
    "\n",
    "# Feature for determining if higher-rated player won\n",
    "df['higher_rated_victory'] = np.where((df['winner'] == 'White') & (df['white_rating'] > df['black_rating']) | (df['winner'] == 'Black') & (df['black_rating'] > df['white_rating']), 1, 0)\n",
    "\n",
    "# Generate function for getting different rating gaps\n",
    "df['rating_gap_class'] = df.rating_gap.apply(lambda x: '0-50' \n",
    "                                             if (x <= 50) \n",
    "                                             else ('51-100' \n",
    "                                                   if (x > 50 and x <= 100) \n",
    "                                                   else ('101-150' \n",
    "                                                         if (x > 100 and x <= 150) \n",
    "                                                         else ('151-200' \n",
    "                                                               if (x > 150 and x <= 200) \n",
    "                                                               else ('201-250' \n",
    "                                                                     if (x > 200 and x <= 250) \n",
    "                                                                     else '>250')))))\n",
    "df['white_victory'] = np.where(df['winner'] == 'White', 1, 0)\n",
    "\n",
    "# Manually split into top 4 opening moves of white\n",
    "english = df[df.opening_move == 'c4']\n",
    "queens_pawn = df[df.opening_move == 'd4']\n",
    "kings_pawn = df[df.opening_move == 'e4']\n",
    "reti = df[df.opening_move == 'Nf3']\n",
    "\n",
    "# Visualize most used openings\n",
    "opening_data = df.groupby('opening_name')['game_id'].count()\n",
    "plt.pie(x=opening_data, \n",
    "        autopct='%.1f%%', \n",
    "        labels=opening_data.keys(), \n",
    "        pctdistance=0.5)\n",
    "plt.title('% of Opening Moves', fontsize=14)\n",
    "plt.axis('equal')\n",
    "plt.show()\n",
    "plt.clf()"
   ]
  },
  {
   "cell_type": "code",
   "execution_count": null,
   "id": "242e9cff",
   "metadata": {},
   "outputs": [],
   "source": [
    "# Create new df that contains the count of who won\n",
    "english_winner_data = english.groupby('winner')['game_id'].count()\n",
    "queen_winner_data = queens_pawn.groupby('winner')['game_id'].count()\n",
    "king_winner_data = kings_pawn.groupby('winner')['game_id'].count()\n",
    "reti_winner_data = reti.groupby('winner')['game_id'].count()"
   ]
  },
  {
   "cell_type": "code",
   "execution_count": 5,
   "id": "1a8af420",
   "metadata": {},
   "outputs": [
    {
     "data": {
      "image/png": "[encoded data removed]",
      "text/plain": [
       "<Figure size 720x720 with 4 Axes>"
      ]
     },
     "metadata": {},
     "output_type": "display_data"
    }
   ],
   "source": [
    "# Visualize wining results\n",
    "pie, axs = plt.subplots(2,2, figsize=[10,10])\n",
    "\n",
    "plt.subplot(2,2,1)\n",
    "plt.pie(x=english_winner_data, \n",
    "        autopct=\"%.1f%%\", \n",
    "        labels=english_winner_data.keys(), \n",
    "        pctdistance=0.5)\n",
    "plt.title(\"Winners After Using C4 Opening\", fontsize=14)\n",
    "plt.axis('equal')\n",
    "\n",
    "plt.subplot(2,2,2)\n",
    "plt.pie(x=queen_winner_data, \n",
    "        autopct=\"%.1f%%\", \n",
    "        labels=queen_winner_data.keys(), \n",
    "        pctdistance=0.5)\n",
    "plt.title(\"Winners After Using D4 Opening\", fontsize=14)\n",
    "plt.axis('equal')\n",
    "\n",
    "plt.subplot(2,2,3)\n",
    "plt.pie(x=king_winner_data, \n",
    "        autopct=\"%.1f%%\", \n",
    "        labels=king_winner_data.keys(), \n",
    "        pctdistance=0.5)\n",
    "plt.title(\"Winners After Using E4 Opening\", fontsize=14)\n",
    "plt.axis('equal')\n",
    "\n",
    "plt.subplot(2,2,4)\n",
    "plt.pie(x=reti_winner_data, \n",
    "        autopct=\"%.1f%%\", \n",
    "        labels=reti_winner_data.keys(), \n",
    "        pctdistance=0.5)\n",
    "plt.title(\"Winners After Using NF3 Opening\", fontsize=14)\n",
    "plt.axis('equal')\n",
    "plt.show()"
   ]
  },
  {
   "cell_type": "code",
   "execution_count": 6,
   "id": "c1f1948a",
   "metadata": {},
   "outputs": [
    {
     "name": "stdout",
     "output_type": "stream",
     "text": [
      "              higher_rated_victory  totals  losses_or_draws\n",
      "opening_name                                               \n",
      "English                        426     714              288\n",
      "King's Pawn                   7626   12499             4873\n",
      "Other                          915    1434              519\n",
      "Queen's Pawn                  2798    4486             1688\n",
      "Reti                           424     722              298\n"
     ]
    }
   ],
   "source": [
    "# Create df with the total # of wins by the white pieces using top 4 common openings\n",
    "df_grouped_ratings = df.groupby('opening_name')['higher_rated_victory'].sum()\n",
    "df_grouped_ratings = df_grouped_ratings.to_frame()\n",
    "\n",
    "# Add feature for the total # of games\n",
    "df_grouped_ratings['totals'] = df.groupby('opening_name')['higher_rated_victory'].count()\n",
    "\n",
    "# Add feature for draws/losses\n",
    "df_grouped_ratings['losses_or_draws'] = df_grouped_ratings['totals'] - df_grouped_ratings['higher_rated_victory']\n",
    "print(df_grouped_ratings.head(10))"
   ]
  },
  {
   "cell_type": "code",
   "execution_count": 21,
   "id": "d66743ac",
   "metadata": {},
   "outputs": [
    {
     "data": {
      "image/png": "[encoded data removed]",
      "text/plain": [
       "<Figure size 864x720 with 1 Axes>"
      ]
     },
     "metadata": {
      "needs_background": "light"
     },
     "output_type": "display_data"
    }
   ],
   "source": [
    "# Visualize which ratings dominate which opening\n",
    "df_grouped_ratings = df_grouped_ratings.sort_values('totals', ascending=False)\n",
    "fig, ax = plt.subplots(1, figsize=(12,10))\n",
    "\n",
    "ax.bar([0,1,2,3,4], df_grouped_ratings['higher_rated_victory'], \n",
    "       label='Higher Rating Win', \n",
    "       color='purple', \n",
    "       tick_label=df_grouped_ratings.index)\n",
    "ax.bar([0,1,2,3,4], df_grouped_ratings['losses_or_draws'], \n",
    "       label='Draw or Lower Rating Win', \n",
    "       bottom=df_grouped_ratings['higher_rated_victory'], \n",
    "       color='lightblue')\n",
    "\n",
    "ax.set_ylabel('Wins', fontsize=14)\n",
    "ax.set_xlabel('Opening Move', fontsize=14)\n",
    "ax.set_title('Wins by Opening Move', fontsize=18)\n",
    "ax.legend()\n",
    "plt.show()"
   ]
  },
  {
   "cell_type": "code",
   "execution_count": 9,
   "id": "05e46cb4",
   "metadata": {},
   "outputs": [
    {
     "data": {
      "image/png": "[encoded data removed]",
      "text/plain": [
       "<Figure size 432x288 with 1 Axes>"
      ]
     },
     "metadata": {},
     "output_type": "display_data"
    }
   ],
   "source": [
    "# Create df if players under 1100 ELO\n",
    "num = 1100\n",
    "df_under_num = df[(df.white_rating < num) & (df.black_rating < num)]\n",
    "\n",
    "df_under_num_winners = df_under_num.groupby('winner')['game_id'].count()\n",
    "df_under_num_winners\n",
    "\n",
    "plt.pie(x=df_under_num_winners, \n",
    "        autopct=\"%.1f%%\", \n",
    "        labels=df_under_num_winners.keys(), \n",
    "        pctdistance=0.5)\n",
    "plt.title(\"Winning Percentage for Games Under {} ELO\".format(num), fontsize=14)\n",
    "plt.axis('equal')\n",
    "plt.show()"
   ]
  },
  {
   "cell_type": "code",
   "execution_count": 11,
   "id": "7ae8f7a4",
   "metadata": {},
   "outputs": [
    {
     "data": {
      "text/html": [
       "<div>\n",
       "<style scoped>\n",
       "    .dataframe tbody tr th:only-of-type {\n",
       "        vertical-align: middle;\n",
       "    }\n",
       "\n",
       "    .dataframe tbody tr th {\n",
       "        vertical-align: top;\n",
       "    }\n",
       "\n",
       "    .dataframe thead th {\n",
       "        text-align: right;\n",
       "    }\n",
       "</style>\n",
       "<table border=\"1\" class=\"dataframe\">\n",
       "  <thead>\n",
       "    <tr style=\"text-align: right;\">\n",
       "      <th></th>\n",
       "      <th>white_victories</th>\n",
       "      <th>white_games</th>\n",
       "      <th>black_games</th>\n",
       "      <th>black_victories</th>\n",
       "      <th>victories</th>\n",
       "      <th>games_played</th>\n",
       "      <th>win_pct</th>\n",
       "    </tr>\n",
       "    <tr>\n",
       "      <th>white_id</th>\n",
       "      <th></th>\n",
       "      <th></th>\n",
       "      <th></th>\n",
       "      <th></th>\n",
       "      <th></th>\n",
       "      <th></th>\n",
       "      <th></th>\n",
       "    </tr>\n",
       "  </thead>\n",
       "  <tbody>\n",
       "    <tr>\n",
       "      <th>rahza</th>\n",
       "      <td>1</td>\n",
       "      <td>1</td>\n",
       "      <td>0.0</td>\n",
       "      <td>0.0</td>\n",
       "      <td>1.0</td>\n",
       "      <td>1.0</td>\n",
       "      <td>1.0</td>\n",
       "    </tr>\n",
       "    <tr>\n",
       "      <th>houdini1ply</th>\n",
       "      <td>2</td>\n",
       "      <td>2</td>\n",
       "      <td>0.0</td>\n",
       "      <td>0.0</td>\n",
       "      <td>2.0</td>\n",
       "      <td>2.0</td>\n",
       "      <td>1.0</td>\n",
       "    </tr>\n",
       "    <tr>\n",
       "      <th>pakz91</th>\n",
       "      <td>1</td>\n",
       "      <td>1</td>\n",
       "      <td>0.0</td>\n",
       "      <td>0.0</td>\n",
       "      <td>1.0</td>\n",
       "      <td>1.0</td>\n",
       "      <td>1.0</td>\n",
       "    </tr>\n",
       "    <tr>\n",
       "      <th>holger1111</th>\n",
       "      <td>1</td>\n",
       "      <td>1</td>\n",
       "      <td>0.0</td>\n",
       "      <td>0.0</td>\n",
       "      <td>1.0</td>\n",
       "      <td>1.0</td>\n",
       "      <td>1.0</td>\n",
       "    </tr>\n",
       "    <tr>\n",
       "      <th>hola_yehmi</th>\n",
       "      <td>1</td>\n",
       "      <td>1</td>\n",
       "      <td>0.0</td>\n",
       "      <td>0.0</td>\n",
       "      <td>1.0</td>\n",
       "      <td>1.0</td>\n",
       "      <td>1.0</td>\n",
       "    </tr>\n",
       "  </tbody>\n",
       "</table>\n",
       "</div>"
      ],
      "text/plain": [
       "             white_victories  white_games  black_games  black_victories  \\\n",
       "white_id                                                                  \n",
       "rahza                      1            1          0.0              0.0   \n",
       "houdini1ply                2            2          0.0              0.0   \n",
       "pakz91                     1            1          0.0              0.0   \n",
       "holger1111                 1            1          0.0              0.0   \n",
       "hola_yehmi                 1            1          0.0              0.0   \n",
       "\n",
       "             victories  games_played  win_pct  \n",
       "white_id                                       \n",
       "rahza              1.0           1.0      1.0  \n",
       "houdini1ply        2.0           2.0      1.0  \n",
       "pakz91             1.0           1.0      1.0  \n",
       "holger1111         1.0           1.0      1.0  \n",
       "hola_yehmi         1.0           1.0      1.0  "
      ]
     },
     "execution_count": 11,
     "metadata": {},
     "output_type": "execute_result"
    }
   ],
   "source": [
    "# Generate ddf for players playing as white\n",
    "df_users_white = df.groupby('white_id',as_index=False).agg({'white_victory':'sum', 'game_id':'count'})\n",
    "df_users_white.rename(columns={'white_victory':'white_victories', 'game_id':'white_games'}, inplace=True)\n",
    "df_users_white = df_users_white.set_index('white_id')\n",
    "\n",
    "# Generate df for players playing as black\n",
    "df_users_black = df.groupby('black_id',as_index=False).agg({'white_victory':'sum', 'game_id':'count'})\n",
    "df_users_black.rename(columns={'white_victory':'white_victories', 'game_id':'black_games'}, inplace=True)\n",
    "df_users_black = df_users_black.set_index('black_id')\n",
    "\n",
    "# Calculate number of black victories\n",
    "df_users_black['black_victories'] = df_users_black.black_games - df_users_black.white_victories\n",
    "df_users_black.drop('white_victories', axis=1, inplace=True)\n",
    "\n",
    "# Merge the two dataframes, replacing NaN with 0.\n",
    "df_users = df_users_white.join(df_users_black)\n",
    "df_users = df_users.fillna(0)\n",
    "\n",
    "# Calculate win percentage\n",
    "df_users['victories'] = df_users.white_victories + df_users.black_victories\n",
    "df_users['games_played'] = df_users.white_games + df_users.black_games\n",
    "df_users['win_pct'] = df_users.victories / df_users.games_played\n",
    "\n",
    "\n",
    "# Sort by people who have the highest win percentage\n",
    "df_users_sorted = df_users.sort_values(by=['win_pct'], ascending=False)\n",
    "df_users_sorted.head(5)"
   ]
  },
  {
   "cell_type": "code",
   "execution_count": 12,
   "id": "47831466",
   "metadata": {},
   "outputs": [
    {
     "data": {
      "text/html": [
       "<div>\n",
       "<style scoped>\n",
       "    .dataframe tbody tr th:only-of-type {\n",
       "        vertical-align: middle;\n",
       "    }\n",
       "\n",
       "    .dataframe tbody tr th {\n",
       "        vertical-align: top;\n",
       "    }\n",
       "\n",
       "    .dataframe thead th {\n",
       "        text-align: right;\n",
       "    }\n",
       "</style>\n",
       "<table border=\"1\" class=\"dataframe\">\n",
       "  <thead>\n",
       "    <tr style=\"text-align: right;\">\n",
       "      <th></th>\n",
       "      <th>white_victories</th>\n",
       "      <th>white_games</th>\n",
       "      <th>black_games</th>\n",
       "      <th>black_victories</th>\n",
       "      <th>victories</th>\n",
       "      <th>games_played</th>\n",
       "      <th>win_pct</th>\n",
       "    </tr>\n",
       "    <tr>\n",
       "      <th>white_id</th>\n",
       "      <th></th>\n",
       "      <th></th>\n",
       "      <th></th>\n",
       "      <th></th>\n",
       "      <th></th>\n",
       "      <th></th>\n",
       "      <th></th>\n",
       "    </tr>\n",
       "  </thead>\n",
       "  <tbody>\n",
       "    <tr>\n",
       "      <th>chesswithmom</th>\n",
       "      <td>14</td>\n",
       "      <td>14</td>\n",
       "      <td>10.0</td>\n",
       "      <td>10.0</td>\n",
       "      <td>24.0</td>\n",
       "      <td>24.0</td>\n",
       "      <td>1.000000</td>\n",
       "    </tr>\n",
       "    <tr>\n",
       "      <th>siindbad</th>\n",
       "      <td>13</td>\n",
       "      <td>13</td>\n",
       "      <td>13.0</td>\n",
       "      <td>13.0</td>\n",
       "      <td>26.0</td>\n",
       "      <td>26.0</td>\n",
       "      <td>1.000000</td>\n",
       "    </tr>\n",
       "    <tr>\n",
       "      <th>smartduckduckcow</th>\n",
       "      <td>3</td>\n",
       "      <td>3</td>\n",
       "      <td>21.0</td>\n",
       "      <td>21.0</td>\n",
       "      <td>24.0</td>\n",
       "      <td>24.0</td>\n",
       "      <td>1.000000</td>\n",
       "    </tr>\n",
       "    <tr>\n",
       "      <th>chesscarl</th>\n",
       "      <td>18</td>\n",
       "      <td>18</td>\n",
       "      <td>28.0</td>\n",
       "      <td>27.0</td>\n",
       "      <td>45.0</td>\n",
       "      <td>46.0</td>\n",
       "      <td>0.978261</td>\n",
       "    </tr>\n",
       "    <tr>\n",
       "      <th>lzchips</th>\n",
       "      <td>12</td>\n",
       "      <td>13</td>\n",
       "      <td>13.0</td>\n",
       "      <td>13.0</td>\n",
       "      <td>25.0</td>\n",
       "      <td>26.0</td>\n",
       "      <td>0.961538</td>\n",
       "    </tr>\n",
       "    <tr>\n",
       "      <th>christina-a-11</th>\n",
       "      <td>14</td>\n",
       "      <td>15</td>\n",
       "      <td>11.0</td>\n",
       "      <td>11.0</td>\n",
       "      <td>25.0</td>\n",
       "      <td>26.0</td>\n",
       "      <td>0.961538</td>\n",
       "    </tr>\n",
       "    <tr>\n",
       "      <th>smilsydov</th>\n",
       "      <td>15</td>\n",
       "      <td>16</td>\n",
       "      <td>22.0</td>\n",
       "      <td>21.0</td>\n",
       "      <td>36.0</td>\n",
       "      <td>38.0</td>\n",
       "      <td>0.947368</td>\n",
       "    </tr>\n",
       "    <tr>\n",
       "      <th>doraemon61</th>\n",
       "      <td>18</td>\n",
       "      <td>19</td>\n",
       "      <td>23.0</td>\n",
       "      <td>21.0</td>\n",
       "      <td>39.0</td>\n",
       "      <td>42.0</td>\n",
       "      <td>0.928571</td>\n",
       "    </tr>\n",
       "    <tr>\n",
       "      <th>gmanderson</th>\n",
       "      <td>12</td>\n",
       "      <td>12</td>\n",
       "      <td>12.0</td>\n",
       "      <td>10.0</td>\n",
       "      <td>22.0</td>\n",
       "      <td>24.0</td>\n",
       "      <td>0.916667</td>\n",
       "    </tr>\n",
       "    <tr>\n",
       "      <th>laode_syahril</th>\n",
       "      <td>16</td>\n",
       "      <td>20</td>\n",
       "      <td>22.0</td>\n",
       "      <td>22.0</td>\n",
       "      <td>38.0</td>\n",
       "      <td>42.0</td>\n",
       "      <td>0.904762</td>\n",
       "    </tr>\n",
       "  </tbody>\n",
       "</table>\n",
       "</div>"
      ],
      "text/plain": [
       "                  white_victories  white_games  black_games  black_victories  \\\n",
       "white_id                                                                       \n",
       "chesswithmom                   14           14         10.0             10.0   \n",
       "siindbad                       13           13         13.0             13.0   \n",
       "smartduckduckcow                3            3         21.0             21.0   \n",
       "chesscarl                      18           18         28.0             27.0   \n",
       "lzchips                        12           13         13.0             13.0   \n",
       "christina-a-11                 14           15         11.0             11.0   \n",
       "smilsydov                      15           16         22.0             21.0   \n",
       "doraemon61                     18           19         23.0             21.0   \n",
       "gmanderson                     12           12         12.0             10.0   \n",
       "laode_syahril                  16           20         22.0             22.0   \n",
       "\n",
       "                  victories  games_played   win_pct  \n",
       "white_id                                             \n",
       "chesswithmom           24.0          24.0  1.000000  \n",
       "siindbad               26.0          26.0  1.000000  \n",
       "smartduckduckcow       24.0          24.0  1.000000  \n",
       "chesscarl              45.0          46.0  0.978261  \n",
       "lzchips                25.0          26.0  0.961538  \n",
       "christina-a-11         25.0          26.0  0.961538  \n",
       "smilsydov              36.0          38.0  0.947368  \n",
       "doraemon61             39.0          42.0  0.928571  \n",
       "gmanderson             22.0          24.0  0.916667  \n",
       "laode_syahril          38.0          42.0  0.904762  "
      ]
     },
     "execution_count": 12,
     "metadata": {},
     "output_type": "execute_result"
    }
   ],
   "source": [
    "game_threshold = 24\n",
    "df_users_many_games = df_users[(df_users.games_played >= game_threshold)]\n",
    "df_users_many_games_sorted = df_users_many_games.sort_values(by=['win_pct'], ascending=False)\n",
    "df_users_many_games_sorted.head(10)"
   ]
  },
  {
   "cell_type": "code",
   "execution_count": 13,
   "id": "7c51c2f9",
   "metadata": {},
   "outputs": [
    {
     "data": {
      "text/plain": [
       "array([ True])"
      ]
     },
     "execution_count": 13,
     "metadata": {},
     "output_type": "execute_result"
    }
   ],
   "source": [
    "df_carl = df[(df.white_id == 'chesscarl') | (df.black_id == 'chesscarl')]\n",
    "df_carl.rated.unique()"
   ]
  },
  {
   "cell_type": "code",
   "execution_count": 14,
   "id": "5c8a4d69",
   "metadata": {},
   "outputs": [
    {
     "name": "stdout",
     "output_type": "stream",
     "text": [
      "['chilon' 'loebas' 'thelordoftheboard' 'lebbeusz2450' 'chesscarl'\n",
      " 'angel2006' 'aca021' 'rigoberto_22' 'heisenberg3' 'vchess4' 'slobodan7'\n",
      " 'fire_on_the_board' 'rodrigo-sagastegui' 'bdoq' 'hayki34' 'klemi'\n",
      " 'mavrincbor' 'peshkach' 'ibonuribeetxebarria' 'foucheval' 'comped'\n",
      " 'bshma' 'thorfabian' 'oilen1401' 'mahyir35' 'superii']\n",
      "['chesscarl' 'christopho' 'kiterdekel' 'a_b_d_o' 'angel2006'\n",
      " 'mario-panagiotis' 'grosschess' 'danielsor' 'sergey197316' 'anna1605'\n",
      " 'wevertonsoares' 'withouttroble' 'g_king' 'krembrule' 'grewia'\n",
      " 'ratnikmora' 'just_emza' 'gfinch' 'mahyir35']\n"
     ]
    }
   ],
   "source": [
    "# Get all the unique ids in the games chesscarl has played\n",
    "print(df_carl.white_id.unique())\n",
    "print(df_carl.black_id.unique())"
   ]
  },
  {
   "cell_type": "code",
   "execution_count": 15,
   "id": "fe91970e",
   "metadata": {},
   "outputs": [
    {
     "name": "stdout",
     "output_type": "stream",
     "text": [
      "Chesscarl is a higher rating in 43 of their 46 games.\n"
     ]
    },
    {
     "name": "stderr",
     "output_type": "stream",
     "text": [
      "C:\\Users\\meinzecp\\Anaconda3\\lib\\site-packages\\ipykernel_launcher.py:3: SettingWithCopyWarning: \n",
      "A value is trying to be set on a copy of a slice from a DataFrame.\n",
      "Try using .loc[row_indexer,col_indexer] = value instead\n",
      "\n",
      "See the caveats in the documentation: https://pandas.pydata.org/pandas-docs/stable/user_guide/indexing.html#returning-a-view-versus-a-copy\n",
      "  This is separate from the ipykernel package so we can avoid doing imports until\n"
     ]
    }
   ],
   "source": [
    "# Calculate how many games that chesscarl was the higher-rated player\n",
    "df_carl['carl_higher'] = np.where((df_carl['white_id'] == 'chesscarl') & \n",
    "                                  (df_carl['white_rating'] > df_carl['black_rating']) | \n",
    "                                  (df_carl['black_id'] == 'chesscarl') & \n",
    "                                  (df_carl['black_rating'] > df_carl['white_rating']), 1, 0)\n",
    "\n",
    "# number of games that chesscarl was rated higher than their opponents\n",
    "num_carl_higher = df_carl.carl_higher.sum()\n",
    "print('Chesscarl is a higher rating in', num_carl_higher, 'of their', len(df_carl), 'games.')"
   ]
  },
  {
   "cell_type": "code",
   "execution_count": 16,
   "id": "df9ed4c7",
   "metadata": {},
   "outputs": [
    {
     "name": "stdout",
     "output_type": "stream",
     "text": [
      "Average rating above opponents when higher-rated: 355.48837209302326\n",
      "Average rating below opponents when lower-rated: 68.0\n"
     ]
    }
   ],
   "source": [
    "df_carl_is_higher = df_carl[(df_carl.carl_higher == 1)]\n",
    "df_carl_is_lower = df_carl[(df_carl.carl_higher == 0)]\n",
    "\n",
    "print('Average rating above opponents when higher-rated:', df_carl_is_higher.rating_gap.mean())\n",
    "print('Average rating below opponents when lower-rated:', df_carl_is_lower.rating_gap.mean())"
   ]
  },
  {
   "cell_type": "code",
   "execution_count": 17,
   "id": "6d1db53f",
   "metadata": {},
   "outputs": [],
   "source": [
    "def get_engine_similarity(df, username, top_moves_num=3):\n",
    "    # create an empty list to store the similarity between chesscarl's moves and a 2600-rated engine's top 3 moves\n",
    "    engine_pct = []\n",
    "    df_white = df[(df.white_id == username)]\n",
    "    df_black = df[(df.black_id == username)]\n",
    "    \n",
    "    # loop through the moves in each white game, comparing to top engine moves\n",
    "    for index, row in df_white.iterrows():\n",
    "        similar_moves = 0\n",
    "        moves_list = row['moves_list'] # get moves made by specified user\n",
    "        board = chess.Board()\n",
    "        for i in range(len(moves_list)):\n",
    "            if i % 2 == 0:\n",
    "                stockfish = Stockfish('C:/Users/meinzecp/Downloads/stockfish_14.1_win_x64_avx2/stockfish_14.1_win_x64_avx2.exe')\n",
    "                stockfish.set_fen_position(board.fen()) #updates the current board position for stockfish\n",
    "                engine_moves = stockfish.get_top_moves(top_moves_num) #returns a list of dictionaries containing the top moves\n",
    "                \n",
    "                # get the fen notation for the move made by the specified user\n",
    "                board.push_san(moves_list[i])\n",
    "                fen1 = board.fen()\n",
    "                board.pop()\n",
    "                # get the fen notation for all of the top moves and compare it to the fen notation of the move made by the user\n",
    "                for dic in engine_moves:\n",
    "                    board.push_san(dic['Move'])\n",
    "                    fen2 = board.fen()\n",
    "                    board.pop()\n",
    "                    if fen1 == fen2:\n",
    "                        similar_moves = similar_moves + 1 # add 1 to counter if fen position of engine = fen position of user\n",
    "                board.push_san(moves_list[i]) # make white move\n",
    "            else:\n",
    "                board.push_san(moves_list[i]) # make black move (no need to compare these moves to the engine)\n",
    "        similarity_pct = similar_moves / math.ceil(len(moves_list)/2)\n",
    "        engine_pct.append(similarity_pct)\n",
    "    \n",
    "    # loop through the moves in each black game, comparing to top engine moves\n",
    "    for index, row in df_black.iterrows():\n",
    "        similar_moves = 0\n",
    "        moves_list = row['moves_list']\n",
    "        board = chess.Board()\n",
    "        for i in range(len(moves_list)):\n",
    "            if i % 2 == 1:\n",
    "                stockfish = Stockfish('C:/Users/meinzecp/Downloads/stockfish_14.1_win_x64_avx2/stockfish_14.1_win_x64_avx2.exe')\n",
    "                stockfish.set_fen_position(board.fen())\n",
    "                engine_moves = stockfish.get_top_moves(top_moves_num)\n",
    "                board.push_san(moves_list[i])\n",
    "                fen1 = board.fen()\n",
    "                board.pop()\n",
    "                for dic in engine_moves:\n",
    "                    board.push_san(dic['Move'])\n",
    "                    fen2 = board.fen()\n",
    "                    board.pop()\n",
    "                    if fen1 == fen2:\n",
    "                        similar_moves = similar_moves + 1\n",
    "                board.push_san(moves_list[i])\n",
    "            else:\n",
    "                board.push_san(moves_list[i])\n",
    "        similarity_pct = similar_moves / math.floor(len(moves_list)/2)\n",
    "        engine_pct.append(similarity_pct)\n",
    "    \n",
    "    return engine_pct"
   ]
  },
  {
   "cell_type": "code",
   "execution_count": 18,
   "id": "6a90c411",
   "metadata": {},
   "outputs": [
    {
     "name": "stdout",
     "output_type": "stream",
     "text": [
      "[1.0, 0.72, 0.9090909090909091, 1.0, 0.9523809523809523, 1.0, 0.9565217391304348, 0.7096774193548387, 0.9, 0.9047619047619048, 0.8571428571428571, 0.8, 0.8857142857142857, 0.9285714285714286, 0.8620689655172413, 0.9375, 0.9615384615384616, 0.9285714285714286, 0.8837209302325582, 0.896551724137931, 0.96, 0.9354838709677419, 0.9285714285714286, 0.9166666666666666, 1.0, 1.0, 0.7857142857142857, 0.8918918918918919, 0.7916666666666666, 0.8666666666666667, 0.9166666666666666, 0.9230769230769231, 0.9411764705882353, 0.8928571428571429, 0.9722222222222222, 0.7894736842105263, 0.75, 0.9130434782608695, 0.9090909090909091, 0.74, 1.0, 0.9166666666666666, 0.88, 0.8490566037735849, 0.9090909090909091, 0.6666666666666666]\n"
     ]
    }
   ],
   "source": [
    "chesscarl_game_engine_analysis = get_engine_similarity(df, 'chesscarl', 4)\n",
    "print(chesscarl_game_engine_analysis)"
   ]
  },
  {
   "cell_type": "code",
   "execution_count": 22,
   "id": "99a3f11e",
   "metadata": {},
   "outputs": [
    {
     "data": {
      "image/png": "[encoded data removed]",
      "text/plain": [
       "<Figure size 432x288 with 1 Axes>"
      ]
     },
     "metadata": {
      "needs_background": "light"
     },
     "output_type": "display_data"
    }
   ],
   "source": [
    "plt.hist(chesscarl_game_engine_analysis, bins=20, color='green')\n",
    "plt.xlabel('% of Moves Similar to Top 4 Engine Moves')\n",
    "plt.ylabel('# of Occurrences')\n",
    "plt.title(\"Engine Move Similarity to chesscarl's moves\")\n",
    "plt.show()"
   ]
  }
 ],
 "metadata": {
  "kernelspec": {
   "display_name": "Python 3",
   "language": "python",
   "name": "python3"
  },
  "language_info": {
   "codemirror_mode": {
    "name": "ipython",
    "version": 3
   },
   "file_extension": ".py",
   "mimetype": "text/x-python",
   "name": "python",
   "nbconvert_exporter": "python",
   "pygments_lexer": "ipython3",
   "version": "3.7.11"
  }
 },
 "nbformat": 4,
 "nbformat_minor": 5
}
