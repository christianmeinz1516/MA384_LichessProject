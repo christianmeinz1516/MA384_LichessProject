{
 "cells": [
  {
   "cell_type": "code",
   "execution_count": 1,
   "id": "2088e4c6",
   "metadata": {},
   "outputs": [],
   "source": [
    "import pandas as pd"
   ]
  },
  {
   "cell_type": "code",
   "execution_count": 2,
   "id": "f896e2c4",
   "metadata": {},
   "outputs": [
    {
     "data": {
      "text/html": [
       "<div>\n",
       "<style scoped>\n",
       "    .dataframe tbody tr th:only-of-type {\n",
       "        vertical-align: middle;\n",
       "    }\n",
       "\n",
       "    .dataframe tbody tr th {\n",
       "        vertical-align: top;\n",
       "    }\n",
       "\n",
       "    .dataframe thead th {\n",
       "        text-align: right;\n",
       "    }\n",
       "</style>\n",
       "<table border=\"1\" class=\"dataframe\">\n",
       "  <thead>\n",
       "    <tr style=\"text-align: right;\">\n",
       "      <th></th>\n",
       "      <th>Event</th>\n",
       "      <th>Site</th>\n",
       "      <th>White</th>\n",
       "      <th>Black</th>\n",
       "      <th>Result</th>\n",
       "      <th>WhiteElo</th>\n",
       "      <th>BlackElo</th>\n",
       "      <th>WhiteRatingDiff</th>\n",
       "      <th>BlackRatingDiff</th>\n",
       "      <th>ECO</th>\n",
       "      <th>TimeControl</th>\n",
       "      <th>Termination</th>\n",
       "      <th>Moves</th>\n",
       "      <th>WhiteTitle</th>\n",
       "      <th>BlackTitle</th>\n",
       "      <th>LichessId</th>\n",
       "      <th>Date</th>\n",
       "    </tr>\n",
       "  </thead>\n",
       "  <tbody>\n",
       "    <tr>\n",
       "      <th>0</th>\n",
       "      <td>Classical</td>\n",
       "      <td>https://lichess.org/a9tcp02g</td>\n",
       "      <td>Desmond_Wilson</td>\n",
       "      <td>savinka59</td>\n",
       "      <td>White</td>\n",
       "      <td>1654.0</td>\n",
       "      <td>1919.0</td>\n",
       "      <td>19.0</td>\n",
       "      <td>-22.0</td>\n",
       "      <td>D04</td>\n",
       "      <td>480+2</td>\n",
       "      <td>Normal</td>\n",
       "      <td>1. d4 d5 2. Nf3 Nf6 3. e3 Bf5 4. Nh4 Bg6 5. Nx...</td>\n",
       "      <td>NaN</td>\n",
       "      <td>NaN</td>\n",
       "      <td>&lt;NA&gt;</td>\n",
       "      <td>2012-12-31 23:04:12</td>\n",
       "    </tr>\n",
       "    <tr>\n",
       "      <th>1</th>\n",
       "      <td>Classical</td>\n",
       "      <td>https://lichess.org/iclkx584</td>\n",
       "      <td>Voltvolf</td>\n",
       "      <td>Marzinkus</td>\n",
       "      <td>White</td>\n",
       "      <td>1824.0</td>\n",
       "      <td>1811.0</td>\n",
       "      <td>11.0</td>\n",
       "      <td>-11.0</td>\n",
       "      <td>C02</td>\n",
       "      <td>360+6</td>\n",
       "      <td>Normal</td>\n",
       "      <td>1. e4 e6 2. d4 d5 3. e5 c5 4. c3 Ne7 5. f4 cxd...</td>\n",
       "      <td>NaN</td>\n",
       "      <td>NaN</td>\n",
       "      <td>&lt;NA&gt;</td>\n",
       "      <td>2012-12-31 23:10:00</td>\n",
       "    </tr>\n",
       "    <tr>\n",
       "      <th>2</th>\n",
       "      <td>Classical</td>\n",
       "      <td>https://lichess.org/ufcqmfxx</td>\n",
       "      <td>6WX</td>\n",
       "      <td>adamsrj</td>\n",
       "      <td>White</td>\n",
       "      <td>1463.0</td>\n",
       "      <td>1504.0</td>\n",
       "      <td>62.0</td>\n",
       "      <td>-12.0</td>\n",
       "      <td>C44</td>\n",
       "      <td>1560+30</td>\n",
       "      <td>Normal</td>\n",
       "      <td>1. e4 e5 2. Nf3 Nc6 3. Bc4 Be7 4. d4 exd4 5. N...</td>\n",
       "      <td>NaN</td>\n",
       "      <td>NaN</td>\n",
       "      <td>&lt;NA&gt;</td>\n",
       "      <td>2012-12-31 23:16:04</td>\n",
       "    </tr>\n",
       "  </tbody>\n",
       "</table>\n",
       "</div>"
      ],
      "text/plain": [
       "       Event                          Site           White      Black Result  \\\n",
       "0  Classical  https://lichess.org/a9tcp02g  Desmond_Wilson  savinka59  White   \n",
       "1  Classical  https://lichess.org/iclkx584        Voltvolf  Marzinkus  White   \n",
       "2  Classical  https://lichess.org/ufcqmfxx             6WX    adamsrj  White   \n",
       "\n",
       "   WhiteElo  BlackElo  WhiteRatingDiff  BlackRatingDiff  ECO TimeControl  \\\n",
       "0    1654.0    1919.0             19.0            -22.0  D04       480+2   \n",
       "1    1824.0    1811.0             11.0            -11.0  C02       360+6   \n",
       "2    1463.0    1504.0             62.0            -12.0  C44     1560+30   \n",
       "\n",
       "  Termination                                              Moves WhiteTitle  \\\n",
       "0      Normal  1. d4 d5 2. Nf3 Nf6 3. e3 Bf5 4. Nh4 Bg6 5. Nx...        NaN   \n",
       "1      Normal  1. e4 e6 2. d4 d5 3. e5 c5 4. c3 Ne7 5. f4 cxd...        NaN   \n",
       "2      Normal  1. e4 e5 2. Nf3 Nc6 3. Bc4 Be7 4. d4 exd4 5. N...        NaN   \n",
       "\n",
       "  BlackTitle LichessId                Date  \n",
       "0        NaN      <NA> 2012-12-31 23:04:12  \n",
       "1        NaN      <NA> 2012-12-31 23:10:00  \n",
       "2        NaN      <NA> 2012-12-31 23:16:04  "
      ]
     },
     "execution_count": 2,
     "metadata": {},
     "output_type": "execute_result"
    }
   ],
   "source": [
    "dfGames= pd.read_parquet(\"./Data/lichess-sampled.parquet\")\n",
    "dfGames.head(3)"
   ]
  },
  {
   "cell_type": "code",
   "execution_count": 4,
   "id": "47352c0d",
   "metadata": {},
   "outputs": [
    {
     "data": {
      "text/html": [
       "<div>\n",
       "<style scoped>\n",
       "    .dataframe tbody tr th:only-of-type {\n",
       "        vertical-align: middle;\n",
       "    }\n",
       "\n",
       "    .dataframe tbody tr th {\n",
       "        vertical-align: top;\n",
       "    }\n",
       "\n",
       "    .dataframe thead th {\n",
       "        text-align: right;\n",
       "    }\n",
       "</style>\n",
       "<table border=\"1\" class=\"dataframe\">\n",
       "  <thead>\n",
       "    <tr style=\"text-align: right;\">\n",
       "      <th></th>\n",
       "      <th>ELO</th>\n",
       "      <th>Date</th>\n",
       "    </tr>\n",
       "  </thead>\n",
       "  <tbody>\n",
       "    <tr>\n",
       "      <th>0</th>\n",
       "      <td>1654.0</td>\n",
       "      <td>2012-12-31</td>\n",
       "    </tr>\n",
       "    <tr>\n",
       "      <th>1</th>\n",
       "      <td>1824.0</td>\n",
       "      <td>2012-12-31</td>\n",
       "    </tr>\n",
       "    <tr>\n",
       "      <th>2</th>\n",
       "      <td>1463.0</td>\n",
       "      <td>2012-12-31</td>\n",
       "    </tr>\n",
       "  </tbody>\n",
       "</table>\n",
       "</div>"
      ],
      "text/plain": [
       "      ELO        Date\n",
       "0  1654.0  2012-12-31\n",
       "1  1824.0  2012-12-31\n",
       "2  1463.0  2012-12-31"
      ]
     },
     "execution_count": 4,
     "metadata": {},
     "output_type": "execute_result"
    }
   ],
   "source": [
    "dfWhiteElo = pd.DataFrame()\n",
    "dfWhiteElo[\"ELO\"] = dfGames[\"WhiteElo\"]\n",
    "dfWhiteElo[\"Date\"] = dfGames[\"Date\"].dt.date\n",
    "dfWhiteElo.head(3)"
   ]
  },
  {
   "cell_type": "code",
   "execution_count": 5,
   "id": "4794c8e0",
   "metadata": {},
   "outputs": [
    {
     "data": {
      "text/html": [
       "<div>\n",
       "<style scoped>\n",
       "    .dataframe tbody tr th:only-of-type {\n",
       "        vertical-align: middle;\n",
       "    }\n",
       "\n",
       "    .dataframe tbody tr th {\n",
       "        vertical-align: top;\n",
       "    }\n",
       "\n",
       "    .dataframe thead th {\n",
       "        text-align: right;\n",
       "    }\n",
       "</style>\n",
       "<table border=\"1\" class=\"dataframe\">\n",
       "  <thead>\n",
       "    <tr style=\"text-align: right;\">\n",
       "      <th></th>\n",
       "      <th>ELO</th>\n",
       "      <th>Date</th>\n",
       "    </tr>\n",
       "  </thead>\n",
       "  <tbody>\n",
       "    <tr>\n",
       "      <th>0</th>\n",
       "      <td>1919.0</td>\n",
       "      <td>2012-12-31</td>\n",
       "    </tr>\n",
       "    <tr>\n",
       "      <th>1</th>\n",
       "      <td>1811.0</td>\n",
       "      <td>2012-12-31</td>\n",
       "    </tr>\n",
       "    <tr>\n",
       "      <th>2</th>\n",
       "      <td>1504.0</td>\n",
       "      <td>2012-12-31</td>\n",
       "    </tr>\n",
       "  </tbody>\n",
       "</table>\n",
       "</div>"
      ],
      "text/plain": [
       "      ELO        Date\n",
       "0  1919.0  2012-12-31\n",
       "1  1811.0  2012-12-31\n",
       "2  1504.0  2012-12-31"
      ]
     },
     "execution_count": 5,
     "metadata": {},
     "output_type": "execute_result"
    }
   ],
   "source": [
    "dfBlackElo = pd.DataFrame()\n",
    "dfBlackElo[\"ELO\"] = dfGames[\"BlackElo\"]\n",
    "dfBlackElo[\"Date\"] = dfGames[\"Date\"].dt.date\n",
    "dfBlackElo.head(3)"
   ]
  },
  {
   "cell_type": "code",
   "execution_count": 6,
   "id": "00883ef8",
   "metadata": {},
   "outputs": [
    {
     "data": {
      "text/html": [
       "<div>\n",
       "<style scoped>\n",
       "    .dataframe tbody tr th:only-of-type {\n",
       "        vertical-align: middle;\n",
       "    }\n",
       "\n",
       "    .dataframe tbody tr th {\n",
       "        vertical-align: top;\n",
       "    }\n",
       "\n",
       "    .dataframe thead th {\n",
       "        text-align: right;\n",
       "    }\n",
       "</style>\n",
       "<table border=\"1\" class=\"dataframe\">\n",
       "  <thead>\n",
       "    <tr style=\"text-align: right;\">\n",
       "      <th></th>\n",
       "      <th>ELO</th>\n",
       "      <th>Date</th>\n",
       "    </tr>\n",
       "  </thead>\n",
       "  <tbody>\n",
       "    <tr>\n",
       "      <th>0</th>\n",
       "      <td>1654.0</td>\n",
       "      <td>2012-12-31</td>\n",
       "    </tr>\n",
       "    <tr>\n",
       "      <th>1</th>\n",
       "      <td>1824.0</td>\n",
       "      <td>2012-12-31</td>\n",
       "    </tr>\n",
       "    <tr>\n",
       "      <th>2</th>\n",
       "      <td>1463.0</td>\n",
       "      <td>2012-12-31</td>\n",
       "    </tr>\n",
       "  </tbody>\n",
       "</table>\n",
       "</div>"
      ],
      "text/plain": [
       "      ELO        Date\n",
       "0  1654.0  2012-12-31\n",
       "1  1824.0  2012-12-31\n",
       "2  1463.0  2012-12-31"
      ]
     },
     "execution_count": 6,
     "metadata": {},
     "output_type": "execute_result"
    }
   ],
   "source": [
    "dfElo = pd.concat([dfWhiteElo, dfBlackElo])\n",
    "dfElo.head(3)"
   ]
  },
  {
   "cell_type": "code",
   "execution_count": 9,
   "id": "3a6b3853",
   "metadata": {},
   "outputs": [
    {
     "data": {
      "text/html": [
       "<div>\n",
       "<style scoped>\n",
       "    .dataframe tbody tr th:only-of-type {\n",
       "        vertical-align: middle;\n",
       "    }\n",
       "\n",
       "    .dataframe tbody tr th {\n",
       "        vertical-align: top;\n",
       "    }\n",
       "\n",
       "    .dataframe thead th {\n",
       "        text-align: right;\n",
       "    }\n",
       "</style>\n",
       "<table border=\"1\" class=\"dataframe\">\n",
       "  <thead>\n",
       "    <tr style=\"text-align: right;\">\n",
       "      <th></th>\n",
       "      <th>ELO</th>\n",
       "    </tr>\n",
       "    <tr>\n",
       "      <th>Date</th>\n",
       "      <th></th>\n",
       "    </tr>\n",
       "  </thead>\n",
       "  <tbody>\n",
       "    <tr>\n",
       "      <th>2012-12-31</th>\n",
       "      <td>1630.125000</td>\n",
       "    </tr>\n",
       "    <tr>\n",
       "      <th>2013-01-01</th>\n",
       "      <td>1607.607143</td>\n",
       "    </tr>\n",
       "    <tr>\n",
       "      <th>2013-01-02</th>\n",
       "      <td>1583.902439</td>\n",
       "    </tr>\n",
       "  </tbody>\n",
       "</table>\n",
       "</div>"
      ],
      "text/plain": [
       "                    ELO\n",
       "Date                   \n",
       "2012-12-31  1630.125000\n",
       "2013-01-01  1607.607143\n",
       "2013-01-02  1583.902439"
      ]
     },
     "execution_count": 9,
     "metadata": {},
     "output_type": "execute_result"
    }
   ],
   "source": [
    "groupedElos = pd.pivot_table(dfElo, values=\"ELO\", index=\"Date\", aggfunc=\"mean\")\n",
    "groupedElos.head(3)"
   ]
  },
  {
   "cell_type": "code",
   "execution_count": 11,
   "id": "8508f186",
   "metadata": {},
   "outputs": [
    {
     "data": {
      "text/plain": [
       "<AxesSubplot:xlabel='Date'>"
      ]
     },
     "execution_count": 11,
     "metadata": {},
     "output_type": "execute_result"
    },
    {
     "data": {
      "image/png": "[encoded data removed]",
      "text/plain": [
       "<Figure size 432x288 with 1 Axes>"
      ]
     },
     "metadata": {
      "needs_background": "light"
     },
     "output_type": "display_data"
    }
   ],
   "source": [
    "groupedElos.plot()"
   ]
  },
  {
   "cell_type": "code",
   "execution_count": 22,
   "id": "9d188165",
   "metadata": {},
   "outputs": [
    {
     "data": {
      "text/plain": [
       "<AxesSubplot:xlabel='Date'>"
      ]
     },
     "execution_count": 22,
     "metadata": {},
     "output_type": "execute_result"
    },
    {
     "data": {
      "image/png": "[encoded data removed]",
      "text/plain": [
       "<Figure size 432x288 with 1 Axes>"
      ]
     },
     "metadata": {
      "needs_background": "light"
     },
     "output_type": "display_data"
    }
   ],
   "source": [
    "filteredElos = groupedElos.rolling(window=25, center=True).mean()\n",
    "filteredElos.plot()"
   ]
  },
  {
   "cell_type": "code",
   "execution_count": null,
   "id": "8b91142e",
   "metadata": {},
   "outputs": [],
   "source": []
  }
 ],
 "metadata": {
  "kernelspec": {
   "display_name": "Python 3 (ipykernel)",
   "language": "python",
   "name": "python3"
  },
  "language_info": {
   "codemirror_mode": {
    "name": "ipython",
    "version": 3
   },
   "file_extension": ".py",
   "mimetype": "text/x-python",
   "name": "python",
   "nbconvert_exporter": "python",
   "pygments_lexer": "ipython3",
   "version": "3.9.7"
  }
 },
 "nbformat": 4,
 "nbformat_minor": 5
}
