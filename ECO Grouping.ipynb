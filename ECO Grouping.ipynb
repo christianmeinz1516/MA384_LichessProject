{
 "cells": [
  {
   "cell_type": "code",
   "execution_count": 1,
   "id": "d224d2cf",
   "metadata": {},
   "outputs": [],
   "source": [
    "import pandas as pd\n",
    "import matplotlib.pyplot as plt"
   ]
  },
  {
   "cell_type": "code",
   "execution_count": 2,
   "id": "87650260",
   "metadata": {},
   "outputs": [
    {
     "data": {
      "text/html": [
       "<div>\n",
       "<style scoped>\n",
       "    .dataframe tbody tr th:only-of-type {\n",
       "        vertical-align: middle;\n",
       "    }\n",
       "\n",
       "    .dataframe tbody tr th {\n",
       "        vertical-align: top;\n",
       "    }\n",
       "\n",
       "    .dataframe thead th {\n",
       "        text-align: right;\n",
       "    }\n",
       "</style>\n",
       "<table border=\"1\" class=\"dataframe\">\n",
       "  <thead>\n",
       "    <tr style=\"text-align: right;\">\n",
       "      <th></th>\n",
       "      <th>Event</th>\n",
       "      <th>Site</th>\n",
       "      <th>White</th>\n",
       "      <th>Black</th>\n",
       "      <th>Result</th>\n",
       "      <th>WhiteElo</th>\n",
       "      <th>BlackElo</th>\n",
       "      <th>WhiteRatingDiff</th>\n",
       "      <th>BlackRatingDiff</th>\n",
       "      <th>ECO</th>\n",
       "      <th>TimeControl</th>\n",
       "      <th>Termination</th>\n",
       "      <th>Moves</th>\n",
       "      <th>WhiteTitle</th>\n",
       "      <th>BlackTitle</th>\n",
       "      <th>LichessId</th>\n",
       "      <th>Date</th>\n",
       "    </tr>\n",
       "  </thead>\n",
       "  <tbody>\n",
       "    <tr>\n",
       "      <th>0</th>\n",
       "      <td>Classical</td>\n",
       "      <td>https://lichess.org/a9tcp02g</td>\n",
       "      <td>Desmond_Wilson</td>\n",
       "      <td>savinka59</td>\n",
       "      <td>White</td>\n",
       "      <td>1654.0</td>\n",
       "      <td>1919.0</td>\n",
       "      <td>19.0</td>\n",
       "      <td>-22.0</td>\n",
       "      <td>D04</td>\n",
       "      <td>480+2</td>\n",
       "      <td>Normal</td>\n",
       "      <td>1. d4 d5 2. Nf3 Nf6 3. e3 Bf5 4. Nh4 Bg6 5. Nx...</td>\n",
       "      <td>NaN</td>\n",
       "      <td>NaN</td>\n",
       "      <td>&lt;NA&gt;</td>\n",
       "      <td>2012-12-31 23:04:12</td>\n",
       "    </tr>\n",
       "    <tr>\n",
       "      <th>1</th>\n",
       "      <td>Classical</td>\n",
       "      <td>https://lichess.org/iclkx584</td>\n",
       "      <td>Voltvolf</td>\n",
       "      <td>Marzinkus</td>\n",
       "      <td>White</td>\n",
       "      <td>1824.0</td>\n",
       "      <td>1811.0</td>\n",
       "      <td>11.0</td>\n",
       "      <td>-11.0</td>\n",
       "      <td>C02</td>\n",
       "      <td>360+6</td>\n",
       "      <td>Normal</td>\n",
       "      <td>1. e4 e6 2. d4 d5 3. e5 c5 4. c3 Ne7 5. f4 cxd...</td>\n",
       "      <td>NaN</td>\n",
       "      <td>NaN</td>\n",
       "      <td>&lt;NA&gt;</td>\n",
       "      <td>2012-12-31 23:10:00</td>\n",
       "    </tr>\n",
       "    <tr>\n",
       "      <th>2</th>\n",
       "      <td>Classical</td>\n",
       "      <td>https://lichess.org/ufcqmfxx</td>\n",
       "      <td>6WX</td>\n",
       "      <td>adamsrj</td>\n",
       "      <td>White</td>\n",
       "      <td>1463.0</td>\n",
       "      <td>1504.0</td>\n",
       "      <td>62.0</td>\n",
       "      <td>-12.0</td>\n",
       "      <td>C44</td>\n",
       "      <td>1560+30</td>\n",
       "      <td>Normal</td>\n",
       "      <td>1. e4 e5 2. Nf3 Nc6 3. Bc4 Be7 4. d4 exd4 5. N...</td>\n",
       "      <td>NaN</td>\n",
       "      <td>NaN</td>\n",
       "      <td>&lt;NA&gt;</td>\n",
       "      <td>2012-12-31 23:16:04</td>\n",
       "    </tr>\n",
       "  </tbody>\n",
       "</table>\n",
       "</div>"
      ],
      "text/plain": [
       "       Event                          Site           White      Black Result  \\\n",
       "0  Classical  https://lichess.org/a9tcp02g  Desmond_Wilson  savinka59  White   \n",
       "1  Classical  https://lichess.org/iclkx584        Voltvolf  Marzinkus  White   \n",
       "2  Classical  https://lichess.org/ufcqmfxx             6WX    adamsrj  White   \n",
       "\n",
       "   WhiteElo  BlackElo  WhiteRatingDiff  BlackRatingDiff  ECO TimeControl  \\\n",
       "0    1654.0    1919.0             19.0            -22.0  D04       480+2   \n",
       "1    1824.0    1811.0             11.0            -11.0  C02       360+6   \n",
       "2    1463.0    1504.0             62.0            -12.0  C44     1560+30   \n",
       "\n",
       "  Termination                                              Moves WhiteTitle  \\\n",
       "0      Normal  1. d4 d5 2. Nf3 Nf6 3. e3 Bf5 4. Nh4 Bg6 5. Nx...        NaN   \n",
       "1      Normal  1. e4 e6 2. d4 d5 3. e5 c5 4. c3 Ne7 5. f4 cxd...        NaN   \n",
       "2      Normal  1. e4 e5 2. Nf3 Nc6 3. Bc4 Be7 4. d4 exd4 5. N...        NaN   \n",
       "\n",
       "  BlackTitle LichessId                Date  \n",
       "0        NaN      <NA> 2012-12-31 23:04:12  \n",
       "1        NaN      <NA> 2012-12-31 23:10:00  \n",
       "2        NaN      <NA> 2012-12-31 23:16:04  "
      ]
     },
     "execution_count": 2,
     "metadata": {},
     "output_type": "execute_result"
    }
   ],
   "source": [
    "df = pd.read_parquet(\"./lichess-sampled.parquet\")\n",
    "df.head(3)"
   ]
  },
  {
   "cell_type": "markdown",
   "id": "80f009b1",
   "metadata": {},
   "source": [
    "# ECO Volume Split"
   ]
  },
  {
   "cell_type": "code",
   "execution_count": 3,
   "id": "e628a820",
   "metadata": {},
   "outputs": [],
   "source": [
    "df[\"ECO_Volume\"] = df.ECO.apply(lambda x: x[0])"
   ]
  },
  {
   "cell_type": "code",
   "execution_count": 4,
   "id": "3d3d4378",
   "metadata": {},
   "outputs": [
    {
     "data": {
      "text/plain": [
       "C    1829659\n",
       "B    1060188\n",
       "A     767741\n",
       "D     562145\n",
       "E      56457\n",
       "?      10219\n",
       "Name: ECO_Volume, dtype: int64"
      ]
     },
     "execution_count": 4,
     "metadata": {},
     "output_type": "execute_result"
    }
   ],
   "source": [
    "df.ECO_Volume.value_counts()"
   ]
  },
  {
   "cell_type": "markdown",
   "id": "9310caf1",
   "metadata": {},
   "source": [
    "## How the game ends "
   ]
  },
  {
   "cell_type": "code",
   "execution_count": 5,
   "id": "c6e132ce",
   "metadata": {
    "scrolled": false
   },
   "outputs": [
    {
     "data": {
      "text/html": [
       "<div>\n",
       "<style scoped>\n",
       "    .dataframe tbody tr th:only-of-type {\n",
       "        vertical-align: middle;\n",
       "    }\n",
       "\n",
       "    .dataframe tbody tr th {\n",
       "        vertical-align: top;\n",
       "    }\n",
       "\n",
       "    .dataframe thead th {\n",
       "        text-align: right;\n",
       "    }\n",
       "</style>\n",
       "<table border=\"1\" class=\"dataframe\">\n",
       "  <thead>\n",
       "    <tr style=\"text-align: right;\">\n",
       "      <th>ECO_Volume</th>\n",
       "      <th>?</th>\n",
       "      <th>A</th>\n",
       "      <th>B</th>\n",
       "      <th>C</th>\n",
       "      <th>D</th>\n",
       "      <th>E</th>\n",
       "    </tr>\n",
       "    <tr>\n",
       "      <th>Termination</th>\n",
       "      <th></th>\n",
       "      <th></th>\n",
       "      <th></th>\n",
       "      <th></th>\n",
       "      <th></th>\n",
       "      <th></th>\n",
       "    </tr>\n",
       "  </thead>\n",
       "  <tbody>\n",
       "    <tr>\n",
       "      <th>Abandoned</th>\n",
       "      <td>0.709952</td>\n",
       "      <td>0.002783</td>\n",
       "      <td>0.003534</td>\n",
       "      <td>0.000092</td>\n",
       "      <td>0.000094</td>\n",
       "      <td>0.000159</td>\n",
       "    </tr>\n",
       "    <tr>\n",
       "      <th>Normal</th>\n",
       "      <td>0.112340</td>\n",
       "      <td>0.851519</td>\n",
       "      <td>0.858585</td>\n",
       "      <td>0.863862</td>\n",
       "      <td>0.862886</td>\n",
       "      <td>0.872664</td>\n",
       "    </tr>\n",
       "    <tr>\n",
       "      <th>Rules infraction</th>\n",
       "      <td>0.000000</td>\n",
       "      <td>0.000274</td>\n",
       "      <td>0.000314</td>\n",
       "      <td>0.000333</td>\n",
       "      <td>0.000297</td>\n",
       "      <td>0.000567</td>\n",
       "    </tr>\n",
       "    <tr>\n",
       "      <th>Time forfeit</th>\n",
       "      <td>0.177610</td>\n",
       "      <td>0.145424</td>\n",
       "      <td>0.137565</td>\n",
       "      <td>0.135713</td>\n",
       "      <td>0.136723</td>\n",
       "      <td>0.126610</td>\n",
       "    </tr>\n",
       "    <tr>\n",
       "      <th>Unterminated</th>\n",
       "      <td>0.000098</td>\n",
       "      <td>0.000000</td>\n",
       "      <td>0.000001</td>\n",
       "      <td>0.000000</td>\n",
       "      <td>0.000000</td>\n",
       "      <td>0.000000</td>\n",
       "    </tr>\n",
       "  </tbody>\n",
       "</table>\n",
       "</div>"
      ],
      "text/plain": [
       "ECO_Volume               ?         A         B         C         D         E\n",
       "Termination                                                                 \n",
       "Abandoned         0.709952  0.002783  0.003534  0.000092  0.000094  0.000159\n",
       "Normal            0.112340  0.851519  0.858585  0.863862  0.862886  0.872664\n",
       "Rules infraction  0.000000  0.000274  0.000314  0.000333  0.000297  0.000567\n",
       "Time forfeit      0.177610  0.145424  0.137565  0.135713  0.136723  0.126610\n",
       "Unterminated      0.000098  0.000000  0.000001  0.000000  0.000000  0.000000"
      ]
     },
     "execution_count": 5,
     "metadata": {},
     "output_type": "execute_result"
    }
   ],
   "source": [
    "pd.crosstab(df.Termination, df.ECO_Volume, normalize=\"columns\").round(6)"
   ]
  },
  {
   "cell_type": "markdown",
   "id": "c9e26802",
   "metadata": {},
   "source": [
    "Most \"?\" games are abandonend or time forfeited, implying that they might have been ended before the opening could be determined."
   ]
  },
  {
   "cell_type": "code",
   "execution_count": 6,
   "id": "b931c723",
   "metadata": {},
   "outputs": [
    {
     "data": {
      "text/plain": [
       "<AxesSubplot:xlabel='Termination'>"
      ]
     },
     "execution_count": 6,
     "metadata": {},
     "output_type": "execute_result"
    },
    {
     "data": {
      "image/png": "[encoded data removed]",
      "text/plain": [
       "<Figure size 432x288 with 1 Axes>"
      ]
     },
     "metadata": {
      "needs_background": "light"
     },
     "output_type": "display_data"
    }
   ],
   "source": [
    "pd.crosstab(df.Termination, df.ECO_Volume, normalize=\"columns\").plot.bar()"
   ]
  },
  {
   "cell_type": "markdown",
   "id": "b1ebf857",
   "metadata": {},
   "source": [
    "Most games end through a time forfeit or normally, as expected. Later-volumed ECOs are slightly more likely to terminate normally than by time, though not to a significant degree"
   ]
  },
  {
   "cell_type": "code",
   "execution_count": 7,
   "id": "dd0b0d5d",
   "metadata": {
    "scrolled": false
   },
   "outputs": [
    {
     "data": {
      "text/html": [
       "<div>\n",
       "<style scoped>\n",
       "    .dataframe tbody tr th:only-of-type {\n",
       "        vertical-align: middle;\n",
       "    }\n",
       "\n",
       "    .dataframe tbody tr th {\n",
       "        vertical-align: top;\n",
       "    }\n",
       "\n",
       "    .dataframe thead th {\n",
       "        text-align: right;\n",
       "    }\n",
       "</style>\n",
       "<table border=\"1\" class=\"dataframe\">\n",
       "  <thead>\n",
       "    <tr style=\"text-align: right;\">\n",
       "      <th>ECO_Volume</th>\n",
       "      <th>?</th>\n",
       "      <th>A</th>\n",
       "      <th>B</th>\n",
       "      <th>C</th>\n",
       "      <th>D</th>\n",
       "      <th>E</th>\n",
       "    </tr>\n",
       "    <tr>\n",
       "      <th>Result</th>\n",
       "      <th></th>\n",
       "      <th></th>\n",
       "      <th></th>\n",
       "      <th></th>\n",
       "      <th></th>\n",
       "      <th></th>\n",
       "    </tr>\n",
       "  </thead>\n",
       "  <tbody>\n",
       "    <tr>\n",
       "      <th>Black</th>\n",
       "      <td>0.911733</td>\n",
       "      <td>0.474371</td>\n",
       "      <td>0.466712</td>\n",
       "      <td>0.447702</td>\n",
       "      <td>0.444947</td>\n",
       "      <td>0.460598</td>\n",
       "    </tr>\n",
       "    <tr>\n",
       "      <th>Draw</th>\n",
       "      <td>0.000098</td>\n",
       "      <td>0.045278</td>\n",
       "      <td>0.043825</td>\n",
       "      <td>0.041699</td>\n",
       "      <td>0.046814</td>\n",
       "      <td>0.055635</td>\n",
       "    </tr>\n",
       "    <tr>\n",
       "      <th>Unknown</th>\n",
       "      <td>0.051277</td>\n",
       "      <td>0.000287</td>\n",
       "      <td>0.000307</td>\n",
       "      <td>0.000091</td>\n",
       "      <td>0.000094</td>\n",
       "      <td>0.000124</td>\n",
       "    </tr>\n",
       "    <tr>\n",
       "      <th>White</th>\n",
       "      <td>0.036892</td>\n",
       "      <td>0.480064</td>\n",
       "      <td>0.489156</td>\n",
       "      <td>0.510508</td>\n",
       "      <td>0.508145</td>\n",
       "      <td>0.483642</td>\n",
       "    </tr>\n",
       "  </tbody>\n",
       "</table>\n",
       "</div>"
      ],
      "text/plain": [
       "ECO_Volume         ?         A         B         C         D         E\n",
       "Result                                                                \n",
       "Black       0.911733  0.474371  0.466712  0.447702  0.444947  0.460598\n",
       "Draw        0.000098  0.045278  0.043825  0.041699  0.046814  0.055635\n",
       "Unknown     0.051277  0.000287  0.000307  0.000091  0.000094  0.000124\n",
       "White       0.036892  0.480064  0.489156  0.510508  0.508145  0.483642"
      ]
     },
     "execution_count": 7,
     "metadata": {},
     "output_type": "execute_result"
    }
   ],
   "source": [
    "pd.crosstab(df.Result, df.ECO_Volume, normalize=\"columns\").round(6)"
   ]
  },
  {
   "cell_type": "code",
   "execution_count": 8,
   "id": "300c5106",
   "metadata": {},
   "outputs": [
    {
     "data": {
      "text/plain": [
       "<AxesSubplot:xlabel='Result'>"
      ]
     },
     "execution_count": 8,
     "metadata": {},
     "output_type": "execute_result"
    },
    {
     "data": {
      "image/png": "[encoded data removed]",
      "text/plain": [
       "<Figure size 432x288 with 1 Axes>"
      ]
     },
     "metadata": {
      "needs_background": "light"
     },
     "output_type": "display_data"
    }
   ],
   "source": [
    "pd.crosstab(df.Result, df.ECO_Volume, normalize=\"columns\").plot.bar()"
   ]
  },
  {
   "cell_type": "markdown",
   "id": "e0458024",
   "metadata": {},
   "source": [
    "? games tend to go to Black or be marked as unknown, supporting the earlier theory. Let's remove it from the graph to make any trend more clear."
   ]
  },
  {
   "cell_type": "code",
   "execution_count": 9,
   "id": "69a1f009",
   "metadata": {},
   "outputs": [
    {
     "data": {
      "text/plain": [
       "<AxesSubplot:xlabel='Result'>"
      ]
     },
     "execution_count": 9,
     "metadata": {},
     "output_type": "execute_result"
    },
    {
     "data": {
      "image/png": "[encoded data removed]",
      "text/plain": [
       "<Figure size 432x288 with 1 Axes>"
      ]
     },
     "metadata": {
      "needs_background": "light"
     },
     "output_type": "display_data"
    }
   ],
   "source": [
    "pd.crosstab(df.Result, df.ECO_Volume, normalize=\"columns\")[[\"A\", \"B\", \"C\", \"D\", \"E\"]].plot.bar()"
   ]
  },
  {
   "cell_type": "markdown",
   "id": "00411616",
   "metadata": {},
   "source": [
    "In general, E volume openings favor draws the most (but they are still infrequent), and C/D volume openings favor white the most. Let's take a look at the comparisons without draws/unknown taken into account so that the odds of victory are more clear."
   ]
  },
  {
   "cell_type": "code",
   "execution_count": 10,
   "id": "f44723a2",
   "metadata": {},
   "outputs": [],
   "source": [
    "victories_only = df[(df.Result == \"Black\") | (df.Result == \"White\")][[\"Result\", \"ECO_Volume\"]]"
   ]
  },
  {
   "cell_type": "code",
   "execution_count": 11,
   "id": "587e5a0f",
   "metadata": {
    "scrolled": true
   },
   "outputs": [
    {
     "data": {
      "text/plain": [
       "<AxesSubplot:xlabel='ECO_Volume'>"
      ]
     },
     "execution_count": 11,
     "metadata": {},
     "output_type": "execute_result"
    },
    {
     "data": {
      "image/png": "[encoded data removed]",
      "text/plain": [
       "<Figure size 432x288 with 1 Axes>"
      ]
     },
     "metadata": {
      "needs_background": "light"
     },
     "output_type": "display_data"
    }
   ],
   "source": [
    "pd.crosstab(victories_only.ECO_Volume, victories_only.Result, normalize=\"index\").plot.bar()"
   ]
  },
  {
   "cell_type": "markdown",
   "id": "30f7fc69",
   "metadata": {},
   "source": [
    "The game is in white's favor, which matches with general opinion on chess. C and D are the best openings for them to be playing, in terms of likelihood to win. ? games fall in black's favor for the same reasons as above. Black has its best odds with A and E openings."
   ]
  },
  {
   "cell_type": "code",
   "execution_count": 12,
   "id": "ad3dce45",
   "metadata": {},
   "outputs": [
    {
     "data": {
      "text/html": [
       "<div>\n",
       "<style scoped>\n",
       "    .dataframe tbody tr th:only-of-type {\n",
       "        vertical-align: middle;\n",
       "    }\n",
       "\n",
       "    .dataframe tbody tr th {\n",
       "        vertical-align: top;\n",
       "    }\n",
       "\n",
       "    .dataframe thead th {\n",
       "        text-align: right;\n",
       "    }\n",
       "</style>\n",
       "<table border=\"1\" class=\"dataframe\">\n",
       "  <thead>\n",
       "    <tr style=\"text-align: right;\">\n",
       "      <th>ECO_Volume</th>\n",
       "      <th>?</th>\n",
       "      <th>A</th>\n",
       "      <th>B</th>\n",
       "      <th>C</th>\n",
       "      <th>D</th>\n",
       "      <th>E</th>\n",
       "    </tr>\n",
       "    <tr>\n",
       "      <th>WhiteElo</th>\n",
       "      <th></th>\n",
       "      <th></th>\n",
       "      <th></th>\n",
       "      <th></th>\n",
       "      <th></th>\n",
       "      <th></th>\n",
       "    </tr>\n",
       "  </thead>\n",
       "  <tbody>\n",
       "    <tr>\n",
       "      <th>(599.999, 1212.0]</th>\n",
       "      <td>0.002451</td>\n",
       "      <td>0.219081</td>\n",
       "      <td>0.206097</td>\n",
       "      <td>0.452649</td>\n",
       "      <td>0.116816</td>\n",
       "      <td>0.002906</td>\n",
       "    </tr>\n",
       "    <tr>\n",
       "      <th>(1212.0, 1336.0]</th>\n",
       "      <td>0.002204</td>\n",
       "      <td>0.182164</td>\n",
       "      <td>0.218177</td>\n",
       "      <td>0.470492</td>\n",
       "      <td>0.123167</td>\n",
       "      <td>0.003795</td>\n",
       "    </tr>\n",
       "    <tr>\n",
       "      <th>(1336.0, 1426.0]</th>\n",
       "      <td>0.002074</td>\n",
       "      <td>0.169765</td>\n",
       "      <td>0.224031</td>\n",
       "      <td>0.472092</td>\n",
       "      <td>0.126855</td>\n",
       "      <td>0.005184</td>\n",
       "    </tr>\n",
       "    <tr>\n",
       "      <th>(1426.0, 1500.0]</th>\n",
       "      <td>0.002658</td>\n",
       "      <td>0.176385</td>\n",
       "      <td>0.226202</td>\n",
       "      <td>0.457750</td>\n",
       "      <td>0.129932</td>\n",
       "      <td>0.007073</td>\n",
       "    </tr>\n",
       "    <tr>\n",
       "      <th>(1500.0, 1560.0]</th>\n",
       "      <td>0.002071</td>\n",
       "      <td>0.163149</td>\n",
       "      <td>0.237130</td>\n",
       "      <td>0.459409</td>\n",
       "      <td>0.129410</td>\n",
       "      <td>0.008830</td>\n",
       "    </tr>\n",
       "    <tr>\n",
       "      <th>(1560.0, 1630.0]</th>\n",
       "      <td>0.002184</td>\n",
       "      <td>0.164224</td>\n",
       "      <td>0.246762</td>\n",
       "      <td>0.445787</td>\n",
       "      <td>0.130427</td>\n",
       "      <td>0.010617</td>\n",
       "    </tr>\n",
       "    <tr>\n",
       "      <th>(1630.0, 1702.0]</th>\n",
       "      <td>0.002303</td>\n",
       "      <td>0.166931</td>\n",
       "      <td>0.257151</td>\n",
       "      <td>0.427232</td>\n",
       "      <td>0.132786</td>\n",
       "      <td>0.013598</td>\n",
       "    </tr>\n",
       "    <tr>\n",
       "      <th>(1702.0, 1783.0]</th>\n",
       "      <td>0.002310</td>\n",
       "      <td>0.171902</td>\n",
       "      <td>0.269359</td>\n",
       "      <td>0.401894</td>\n",
       "      <td>0.136684</td>\n",
       "      <td>0.017851</td>\n",
       "    </tr>\n",
       "    <tr>\n",
       "      <th>(1783.0, 1893.0]</th>\n",
       "      <td>0.002558</td>\n",
       "      <td>0.179433</td>\n",
       "      <td>0.285795</td>\n",
       "      <td>0.368914</td>\n",
       "      <td>0.138986</td>\n",
       "      <td>0.024313</td>\n",
       "    </tr>\n",
       "    <tr>\n",
       "      <th>(1893.0, 3358.0]</th>\n",
       "      <td>0.002919</td>\n",
       "      <td>0.196101</td>\n",
       "      <td>0.304698</td>\n",
       "      <td>0.311884</td>\n",
       "      <td>0.146456</td>\n",
       "      <td>0.037941</td>\n",
       "    </tr>\n",
       "  </tbody>\n",
       "</table>\n",
       "</div>"
      ],
      "text/plain": [
       "ECO_Volume                ?         A         B         C         D         E\n",
       "WhiteElo                                                                     \n",
       "(599.999, 1212.0]  0.002451  0.219081  0.206097  0.452649  0.116816  0.002906\n",
       "(1212.0, 1336.0]   0.002204  0.182164  0.218177  0.470492  0.123167  0.003795\n",
       "(1336.0, 1426.0]   0.002074  0.169765  0.224031  0.472092  0.126855  0.005184\n",
       "(1426.0, 1500.0]   0.002658  0.176385  0.226202  0.457750  0.129932  0.007073\n",
       "(1500.0, 1560.0]   0.002071  0.163149  0.237130  0.459409  0.129410  0.008830\n",
       "(1560.0, 1630.0]   0.002184  0.164224  0.246762  0.445787  0.130427  0.010617\n",
       "(1630.0, 1702.0]   0.002303  0.166931  0.257151  0.427232  0.132786  0.013598\n",
       "(1702.0, 1783.0]   0.002310  0.171902  0.269359  0.401894  0.136684  0.017851\n",
       "(1783.0, 1893.0]   0.002558  0.179433  0.285795  0.368914  0.138986  0.024313\n",
       "(1893.0, 3358.0]   0.002919  0.196101  0.304698  0.311884  0.146456  0.037941"
      ]
     },
     "execution_count": 12,
     "metadata": {},
     "output_type": "execute_result"
    }
   ],
   "source": [
    "pd.crosstab(pd.qcut(df.WhiteElo, q=10), df.ECO_Volume, normalize=\"index\")"
   ]
  },
  {
   "cell_type": "code",
   "execution_count": 13,
   "id": "e175a608",
   "metadata": {},
   "outputs": [
    {
     "data": {
      "text/plain": [
       "<AxesSubplot:xlabel='WhiteElo'>"
      ]
     },
     "execution_count": 13,
     "metadata": {},
     "output_type": "execute_result"
    },
    {
     "data": {
      "image/png": "[encoded data removed]",
      "text/plain": [
       "<Figure size 432x288 with 1 Axes>"
      ]
     },
     "metadata": {
      "needs_background": "light"
     },
     "output_type": "display_data"
    }
   ],
   "source": [
    "pd.crosstab(pd.qcut(df.WhiteElo, q=10), df.ECO_Volume, normalize=\"index\").plot.bar().legend(loc='center left',bbox_to_anchor=(1.0, 0.5))"
   ]
  },
  {
   "cell_type": "code",
   "execution_count": 14,
   "id": "cb9448ef",
   "metadata": {},
   "outputs": [
    {
     "data": {
      "text/plain": [
       "<AxesSubplot:xlabel='BlackElo'>"
      ]
     },
     "execution_count": 14,
     "metadata": {},
     "output_type": "execute_result"
    },
    {
     "data": {
      "image/png": "[encoded data removed]",
      "text/plain": [
       "<Figure size 432x288 with 1 Axes>"
      ]
     },
     "metadata": {
      "needs_background": "light"
     },
     "output_type": "display_data"
    }
   ],
   "source": [
    "pd.crosstab(pd.qcut(df.BlackElo, q=10), df.ECO_Volume, normalize=\"index\").plot.bar().legend(loc='center left',bbox_to_anchor=(1.0, 0.5))"
   ]
  },
  {
   "cell_type": "markdown",
   "id": "5375f1ed",
   "metadata": {},
   "source": [
    "C openings are by far the most common, but fall in popularity in higher elos. Better black players tend to play in games that have more B openings than better white players. This implies that better black players tend to force Semi-Open games as opposed to playing Open Games (since the choice of playing one or the other is the Black player's after White plays e4)."
   ]
  },
  {
   "cell_type": "markdown",
   "id": "f3196ce7",
   "metadata": {},
   "source": [
    "## A different Categorization Method"
   ]
  },
  {
   "cell_type": "code",
   "execution_count": 15,
   "id": "36f410e2",
   "metadata": {},
   "outputs": [],
   "source": [
    "def get_opening_type(opening):\n",
    "    if(opening[0] == \"A\" and int(opening[1:]) not in range(53,56)):\n",
    "        return \"Flank Opening\"\n",
    "    if(opening[0] == \"B\" or opening[0] == \"C\" and int(opening[1:]) <= 19):\n",
    "        return \"Semi-Open Game\"\n",
    "    if(opening[0] == \"C\"):\n",
    "        return \"Open Game\" #already covered edge case with French Defense\n",
    "    if(opening[0] == \"D\" and int(opening[1:]) < 70):\n",
    "        return \"Closed or Semi-Closed Game\"\n",
    "    if((opening[0] == \"D\" and int(opening[1:]) >= 70) or opening[0] == \"E\" or (opening[0] == \"A\" and int(opening[1:])  in range(53,56))):\n",
    "        return \"Indian Defense\"\n",
    "    return \"Unknown\""
   ]
  },
  {
   "cell_type": "code",
   "execution_count": 16,
   "id": "cc52a6c6",
   "metadata": {},
   "outputs": [
    {
     "data": {
      "text/html": [
       "<div>\n",
       "<style scoped>\n",
       "    .dataframe tbody tr th:only-of-type {\n",
       "        vertical-align: middle;\n",
       "    }\n",
       "\n",
       "    .dataframe tbody tr th {\n",
       "        vertical-align: top;\n",
       "    }\n",
       "\n",
       "    .dataframe thead th {\n",
       "        text-align: right;\n",
       "    }\n",
       "</style>\n",
       "<table border=\"1\" class=\"dataframe\">\n",
       "  <thead>\n",
       "    <tr style=\"text-align: right;\">\n",
       "      <th></th>\n",
       "      <th>Event</th>\n",
       "      <th>Site</th>\n",
       "      <th>White</th>\n",
       "      <th>Black</th>\n",
       "      <th>Result</th>\n",
       "      <th>WhiteElo</th>\n",
       "      <th>BlackElo</th>\n",
       "      <th>WhiteRatingDiff</th>\n",
       "      <th>BlackRatingDiff</th>\n",
       "      <th>ECO</th>\n",
       "      <th>TimeControl</th>\n",
       "      <th>Termination</th>\n",
       "      <th>Moves</th>\n",
       "      <th>WhiteTitle</th>\n",
       "      <th>BlackTitle</th>\n",
       "      <th>LichessId</th>\n",
       "      <th>Date</th>\n",
       "      <th>ECO_Volume</th>\n",
       "      <th>Opening_Category</th>\n",
       "    </tr>\n",
       "  </thead>\n",
       "  <tbody>\n",
       "    <tr>\n",
       "      <th>0</th>\n",
       "      <td>Classical</td>\n",
       "      <td>https://lichess.org/a9tcp02g</td>\n",
       "      <td>Desmond_Wilson</td>\n",
       "      <td>savinka59</td>\n",
       "      <td>White</td>\n",
       "      <td>1654.0</td>\n",
       "      <td>1919.0</td>\n",
       "      <td>19.0</td>\n",
       "      <td>-22.0</td>\n",
       "      <td>D04</td>\n",
       "      <td>480+2</td>\n",
       "      <td>Normal</td>\n",
       "      <td>1. d4 d5 2. Nf3 Nf6 3. e3 Bf5 4. Nh4 Bg6 5. Nx...</td>\n",
       "      <td>NaN</td>\n",
       "      <td>NaN</td>\n",
       "      <td>&lt;NA&gt;</td>\n",
       "      <td>2012-12-31 23:04:12</td>\n",
       "      <td>D</td>\n",
       "      <td>Closed or Semi-Closed Game</td>\n",
       "    </tr>\n",
       "    <tr>\n",
       "      <th>1</th>\n",
       "      <td>Classical</td>\n",
       "      <td>https://lichess.org/iclkx584</td>\n",
       "      <td>Voltvolf</td>\n",
       "      <td>Marzinkus</td>\n",
       "      <td>White</td>\n",
       "      <td>1824.0</td>\n",
       "      <td>1811.0</td>\n",
       "      <td>11.0</td>\n",
       "      <td>-11.0</td>\n",
       "      <td>C02</td>\n",
       "      <td>360+6</td>\n",
       "      <td>Normal</td>\n",
       "      <td>1. e4 e6 2. d4 d5 3. e5 c5 4. c3 Ne7 5. f4 cxd...</td>\n",
       "      <td>NaN</td>\n",
       "      <td>NaN</td>\n",
       "      <td>&lt;NA&gt;</td>\n",
       "      <td>2012-12-31 23:10:00</td>\n",
       "      <td>C</td>\n",
       "      <td>Semi-Open Game</td>\n",
       "    </tr>\n",
       "    <tr>\n",
       "      <th>2</th>\n",
       "      <td>Classical</td>\n",
       "      <td>https://lichess.org/ufcqmfxx</td>\n",
       "      <td>6WX</td>\n",
       "      <td>adamsrj</td>\n",
       "      <td>White</td>\n",
       "      <td>1463.0</td>\n",
       "      <td>1504.0</td>\n",
       "      <td>62.0</td>\n",
       "      <td>-12.0</td>\n",
       "      <td>C44</td>\n",
       "      <td>1560+30</td>\n",
       "      <td>Normal</td>\n",
       "      <td>1. e4 e5 2. Nf3 Nc6 3. Bc4 Be7 4. d4 exd4 5. N...</td>\n",
       "      <td>NaN</td>\n",
       "      <td>NaN</td>\n",
       "      <td>&lt;NA&gt;</td>\n",
       "      <td>2012-12-31 23:16:04</td>\n",
       "      <td>C</td>\n",
       "      <td>Open Game</td>\n",
       "    </tr>\n",
       "  </tbody>\n",
       "</table>\n",
       "</div>"
      ],
      "text/plain": [
       "       Event                          Site           White      Black Result  \\\n",
       "0  Classical  https://lichess.org/a9tcp02g  Desmond_Wilson  savinka59  White   \n",
       "1  Classical  https://lichess.org/iclkx584        Voltvolf  Marzinkus  White   \n",
       "2  Classical  https://lichess.org/ufcqmfxx             6WX    adamsrj  White   \n",
       "\n",
       "   WhiteElo  BlackElo  WhiteRatingDiff  BlackRatingDiff  ECO TimeControl  \\\n",
       "0    1654.0    1919.0             19.0            -22.0  D04       480+2   \n",
       "1    1824.0    1811.0             11.0            -11.0  C02       360+6   \n",
       "2    1463.0    1504.0             62.0            -12.0  C44     1560+30   \n",
       "\n",
       "  Termination                                              Moves WhiteTitle  \\\n",
       "0      Normal  1. d4 d5 2. Nf3 Nf6 3. e3 Bf5 4. Nh4 Bg6 5. Nx...        NaN   \n",
       "1      Normal  1. e4 e6 2. d4 d5 3. e5 c5 4. c3 Ne7 5. f4 cxd...        NaN   \n",
       "2      Normal  1. e4 e5 2. Nf3 Nc6 3. Bc4 Be7 4. d4 exd4 5. N...        NaN   \n",
       "\n",
       "  BlackTitle LichessId                Date ECO_Volume  \\\n",
       "0        NaN      <NA> 2012-12-31 23:04:12          D   \n",
       "1        NaN      <NA> 2012-12-31 23:10:00          C   \n",
       "2        NaN      <NA> 2012-12-31 23:16:04          C   \n",
       "\n",
       "             Opening_Category  \n",
       "0  Closed or Semi-Closed Game  \n",
       "1              Semi-Open Game  \n",
       "2                   Open Game  "
      ]
     },
     "execution_count": 16,
     "metadata": {},
     "output_type": "execute_result"
    }
   ],
   "source": [
    "df[\"Opening_Category\"] = df.ECO.apply(get_opening_type).astype(\"category\")\n",
    "df.head(3)"
   ]
  },
  {
   "cell_type": "code",
   "execution_count": 17,
   "id": "247a190d",
   "metadata": {},
   "outputs": [
    {
     "data": {
      "text/plain": [
       "<AxesSubplot:xlabel='Termination'>"
      ]
     },
     "execution_count": 17,
     "metadata": {},
     "output_type": "execute_result"
    },
    {
     "data": {
      "image/png": "[encoded data removed]",
      "text/plain": [
       "<Figure size 432x288 with 1 Axes>"
      ]
     },
     "metadata": {
      "needs_background": "light"
     },
     "output_type": "display_data"
    }
   ],
   "source": [
    "pd.crosstab(df.Termination, df.Opening_Category, normalize=\"columns\").plot.bar()"
   ]
  },
  {
   "cell_type": "markdown",
   "id": "00e176c3",
   "metadata": {},
   "source": [
    "Similar to as seen with categorization by volume."
   ]
  },
  {
   "cell_type": "code",
   "execution_count": 20,
   "id": "d9c6f977",
   "metadata": {},
   "outputs": [
    {
     "data": {
      "text/html": [
       "<div>\n",
       "<style scoped>\n",
       "    .dataframe tbody tr th:only-of-type {\n",
       "        vertical-align: middle;\n",
       "    }\n",
       "\n",
       "    .dataframe tbody tr th {\n",
       "        vertical-align: top;\n",
       "    }\n",
       "\n",
       "    .dataframe thead th {\n",
       "        text-align: right;\n",
       "    }\n",
       "</style>\n",
       "<table border=\"1\" class=\"dataframe\">\n",
       "  <thead>\n",
       "    <tr style=\"text-align: right;\">\n",
       "      <th>Opening_Category</th>\n",
       "      <th>Closed or Semi-Closed Game</th>\n",
       "      <th>Flank Opening</th>\n",
       "      <th>Indian Defense</th>\n",
       "      <th>Open Game</th>\n",
       "      <th>Semi-Open Game</th>\n",
       "      <th>Unknown</th>\n",
       "    </tr>\n",
       "    <tr>\n",
       "      <th>Result</th>\n",
       "      <th></th>\n",
       "      <th></th>\n",
       "      <th></th>\n",
       "      <th></th>\n",
       "      <th></th>\n",
       "      <th></th>\n",
       "    </tr>\n",
       "  </thead>\n",
       "  <tbody>\n",
       "    <tr>\n",
       "      <th>Black</th>\n",
       "      <td>0.444577</td>\n",
       "      <td>0.474560</td>\n",
       "      <td>0.460781</td>\n",
       "      <td>0.443214</td>\n",
       "      <td>0.467848</td>\n",
       "      <td>0.911733</td>\n",
       "    </tr>\n",
       "    <tr>\n",
       "      <th>Draw</th>\n",
       "      <td>0.046568</td>\n",
       "      <td>0.045268</td>\n",
       "      <td>0.056218</td>\n",
       "      <td>0.041227</td>\n",
       "      <td>0.043918</td>\n",
       "      <td>0.000098</td>\n",
       "    </tr>\n",
       "    <tr>\n",
       "      <th>Unknown</th>\n",
       "      <td>0.000095</td>\n",
       "      <td>0.000288</td>\n",
       "      <td>0.000104</td>\n",
       "      <td>0.000080</td>\n",
       "      <td>0.000275</td>\n",
       "      <td>0.051277</td>\n",
       "    </tr>\n",
       "    <tr>\n",
       "      <th>White</th>\n",
       "      <td>0.508760</td>\n",
       "      <td>0.479884</td>\n",
       "      <td>0.482898</td>\n",
       "      <td>0.515479</td>\n",
       "      <td>0.487958</td>\n",
       "      <td>0.036892</td>\n",
       "    </tr>\n",
       "  </tbody>\n",
       "</table>\n",
       "</div>"
      ],
      "text/plain": [
       "Opening_Category  Closed or Semi-Closed Game  Flank Opening  Indian Defense  \\\n",
       "Result                                                                        \n",
       "Black                               0.444577       0.474560        0.460781   \n",
       "Draw                                0.046568       0.045268        0.056218   \n",
       "Unknown                             0.000095       0.000288        0.000104   \n",
       "White                               0.508760       0.479884        0.482898   \n",
       "\n",
       "Opening_Category  Open Game  Semi-Open Game   Unknown  \n",
       "Result                                                 \n",
       "Black              0.443214        0.467848  0.911733  \n",
       "Draw               0.041227        0.043918  0.000098  \n",
       "Unknown            0.000080        0.000275  0.051277  \n",
       "White              0.515479        0.487958  0.036892  "
      ]
     },
     "execution_count": 20,
     "metadata": {},
     "output_type": "execute_result"
    }
   ],
   "source": [
    "pd.crosstab(df.Result, df.Opening_Category, normalize=\"columns\").round(6)"
   ]
  },
  {
   "cell_type": "code",
   "execution_count": 21,
   "id": "450faa0f",
   "metadata": {},
   "outputs": [
    {
     "data": {
      "text/plain": [
       "<AxesSubplot:xlabel='Result'>"
      ]
     },
     "execution_count": 21,
     "metadata": {},
     "output_type": "execute_result"
    },
    {
     "data": {
      "image/png": "[encoded data removed]",
      "text/plain": [
       "<Figure size 432x288 with 1 Axes>"
      ]
     },
     "metadata": {
      "needs_background": "light"
     },
     "output_type": "display_data"
    }
   ],
   "source": [
    "pd.crosstab(df.Result, df.Opening_Category, normalize=\"columns\").plot.bar()"
   ]
  },
  {
   "cell_type": "code",
   "execution_count": 22,
   "id": "d1073803",
   "metadata": {},
   "outputs": [],
   "source": [
    "victories_only = df[(df.Result == \"Black\") | (df.Result == \"White\")][[\"Result\", \"Opening_Category\"]]"
   ]
  },
  {
   "cell_type": "code",
   "execution_count": 23,
   "id": "aa6b888a",
   "metadata": {
    "scrolled": false
   },
   "outputs": [
    {
     "data": {
      "text/plain": [
       "<AxesSubplot:xlabel='Opening_Category'>"
      ]
     },
     "execution_count": 23,
     "metadata": {},
     "output_type": "execute_result"
    },
    {
     "data": {
      "image/png": "[encoded data removed]",
      "text/plain": [
       "<Figure size 432x288 with 1 Axes>"
      ]
     },
     "metadata": {
      "needs_background": "light"
     },
     "output_type": "display_data"
    }
   ],
   "source": [
    "pd.crosstab(victories_only.Opening_Category, victories_only.Result, normalize=\"index\").plot.bar()"
   ]
  },
  {
   "cell_type": "markdown",
   "id": "5d03d0a3",
   "metadata": {},
   "source": [
    "Flank openings, roughly corresponding to volume A, are the best for Black. e4 is a strong pick for a first move for white, since it leads to Closed/Semi-Closed or Open Games. Overall, little difference from the ECO volumes."
   ]
  },
  {
   "cell_type": "code",
   "execution_count": 25,
   "id": "7f3bebf6",
   "metadata": {},
   "outputs": [
    {
     "data": {
      "text/plain": [
       "<matplotlib.legend.Legend at 0x2abacb76c70>"
      ]
     },
     "execution_count": 25,
     "metadata": {},
     "output_type": "execute_result"
    },
    {
     "data": {
      "image/png": "[encoded data removed]",
      "text/plain": [
       "<Figure size 432x288 with 1 Axes>"
      ]
     },
     "metadata": {
      "needs_background": "light"
     },
     "output_type": "display_data"
    }
   ],
   "source": [
    "pd.crosstab(pd.qcut(df.WhiteElo, q=10), df.Opening_Category, normalize=\"index\").plot.bar().legend(loc='center left',bbox_to_anchor=(1.0, 0.5))"
   ]
  },
  {
   "cell_type": "code",
   "execution_count": 26,
   "id": "b369fd32",
   "metadata": {},
   "outputs": [
    {
     "data": {
      "text/plain": [
       "<matplotlib.legend.Legend at 0x2abaceda100>"
      ]
     },
     "execution_count": 26,
     "metadata": {},
     "output_type": "execute_result"
    },
    {
     "data": {
      "image/png": "[encoded data removed]",
      "text/plain": [
       "<Figure size 432x288 with 1 Axes>"
      ]
     },
     "metadata": {
      "needs_background": "light"
     },
     "output_type": "display_data"
    }
   ],
   "source": [
    "pd.crosstab(pd.qcut(df.BlackElo, q=10), df.Opening_Category, normalize=\"index\").plot.bar().legend(loc='center left',bbox_to_anchor=(1.0, 0.5))"
   ]
  },
  {
   "cell_type": "markdown",
   "id": "bab84b27",
   "metadata": {},
   "source": [
    "Higher ranked Black players usually pick Semi-Open games over Open Games, which is consistent with the Volumes. Having the French Defense represented in the Semi-Open category instead of C shows that the decision is much more skewed, with Black most frequently not mirroring White's e4."
   ]
  }
 ],
 "metadata": {
  "kernelspec": {
   "display_name": "Python 3 (ipykernel)",
   "language": "python",
   "name": "python3"
  },
  "language_info": {
   "codemirror_mode": {
    "name": "ipython",
    "version": 3
   },
   "file_extension": ".py",
   "mimetype": "text/x-python",
   "name": "python",
   "nbconvert_exporter": "python",
   "pygments_lexer": "ipython3",
   "version": "3.9.7"
  }
 },
 "nbformat": 4,
 "nbformat_minor": 5
}
