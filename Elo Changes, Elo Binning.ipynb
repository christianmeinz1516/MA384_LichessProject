{
 "cells": [
  {
   "cell_type": "code",
   "execution_count": 1,
   "id": "e9a9fd39",
   "metadata": {},
   "outputs": [],
   "source": [
    "import pandas as pd\n",
    "import matplotlib.pyplot as plt"
   ]
  },
  {
   "cell_type": "code",
   "execution_count": 2,
   "id": "e2b27868",
   "metadata": {},
   "outputs": [
    {
     "data": {
      "text/html": [
       "<div>\n",
       "<style scoped>\n",
       "    .dataframe tbody tr th:only-of-type {\n",
       "        vertical-align: middle;\n",
       "    }\n",
       "\n",
       "    .dataframe tbody tr th {\n",
       "        vertical-align: top;\n",
       "    }\n",
       "\n",
       "    .dataframe thead th {\n",
       "        text-align: right;\n",
       "    }\n",
       "</style>\n",
       "<table border=\"1\" class=\"dataframe\">\n",
       "  <thead>\n",
       "    <tr style=\"text-align: right;\">\n",
       "      <th></th>\n",
       "      <th>Event</th>\n",
       "      <th>Site</th>\n",
       "      <th>White</th>\n",
       "      <th>Black</th>\n",
       "      <th>Result</th>\n",
       "      <th>WhiteElo</th>\n",
       "      <th>BlackElo</th>\n",
       "      <th>WhiteRatingDiff</th>\n",
       "      <th>BlackRatingDiff</th>\n",
       "      <th>ECO</th>\n",
       "      <th>TimeControl</th>\n",
       "      <th>Termination</th>\n",
       "      <th>Moves</th>\n",
       "      <th>WhiteTitle</th>\n",
       "      <th>BlackTitle</th>\n",
       "      <th>LichessId</th>\n",
       "      <th>Date</th>\n",
       "    </tr>\n",
       "  </thead>\n",
       "  <tbody>\n",
       "    <tr>\n",
       "      <th>0</th>\n",
       "      <td>Classical</td>\n",
       "      <td>https://lichess.org/a9tcp02g</td>\n",
       "      <td>Desmond_Wilson</td>\n",
       "      <td>savinka59</td>\n",
       "      <td>White</td>\n",
       "      <td>1654.0</td>\n",
       "      <td>1919.0</td>\n",
       "      <td>19.0</td>\n",
       "      <td>-22.0</td>\n",
       "      <td>D04</td>\n",
       "      <td>480+2</td>\n",
       "      <td>Normal</td>\n",
       "      <td>1. d4 d5 2. Nf3 Nf6 3. e3 Bf5 4. Nh4 Bg6 5. Nx...</td>\n",
       "      <td>NaN</td>\n",
       "      <td>NaN</td>\n",
       "      <td>&lt;NA&gt;</td>\n",
       "      <td>2012-12-31 23:04:12</td>\n",
       "    </tr>\n",
       "    <tr>\n",
       "      <th>1</th>\n",
       "      <td>Classical</td>\n",
       "      <td>https://lichess.org/iclkx584</td>\n",
       "      <td>Voltvolf</td>\n",
       "      <td>Marzinkus</td>\n",
       "      <td>White</td>\n",
       "      <td>1824.0</td>\n",
       "      <td>1811.0</td>\n",
       "      <td>11.0</td>\n",
       "      <td>-11.0</td>\n",
       "      <td>C02</td>\n",
       "      <td>360+6</td>\n",
       "      <td>Normal</td>\n",
       "      <td>1. e4 e6 2. d4 d5 3. e5 c5 4. c3 Ne7 5. f4 cxd...</td>\n",
       "      <td>NaN</td>\n",
       "      <td>NaN</td>\n",
       "      <td>&lt;NA&gt;</td>\n",
       "      <td>2012-12-31 23:10:00</td>\n",
       "    </tr>\n",
       "    <tr>\n",
       "      <th>2</th>\n",
       "      <td>Classical</td>\n",
       "      <td>https://lichess.org/ufcqmfxx</td>\n",
       "      <td>6WX</td>\n",
       "      <td>adamsrj</td>\n",
       "      <td>White</td>\n",
       "      <td>1463.0</td>\n",
       "      <td>1504.0</td>\n",
       "      <td>62.0</td>\n",
       "      <td>-12.0</td>\n",
       "      <td>C44</td>\n",
       "      <td>1560+30</td>\n",
       "      <td>Normal</td>\n",
       "      <td>1. e4 e5 2. Nf3 Nc6 3. Bc4 Be7 4. d4 exd4 5. N...</td>\n",
       "      <td>NaN</td>\n",
       "      <td>NaN</td>\n",
       "      <td>&lt;NA&gt;</td>\n",
       "      <td>2012-12-31 23:16:04</td>\n",
       "    </tr>\n",
       "    <tr>\n",
       "      <th>3</th>\n",
       "      <td>Classical</td>\n",
       "      <td>https://lichess.org/qwuudn2s</td>\n",
       "      <td>sebastian44</td>\n",
       "      <td>jtkjtkful</td>\n",
       "      <td>Black</td>\n",
       "      <td>1347.0</td>\n",
       "      <td>1519.0</td>\n",
       "      <td>-6.0</td>\n",
       "      <td>23.0</td>\n",
       "      <td>B01</td>\n",
       "      <td>300+5</td>\n",
       "      <td>Time forfeit</td>\n",
       "      <td>1. e4 d5 2. e5 d4 3. Nf3 Nc6 4. c3 d3 5. Na3 f...</td>\n",
       "      <td>NaN</td>\n",
       "      <td>NaN</td>\n",
       "      <td>&lt;NA&gt;</td>\n",
       "      <td>2012-12-31 23:24:11</td>\n",
       "    </tr>\n",
       "    <tr>\n",
       "      <th>4</th>\n",
       "      <td>Classical</td>\n",
       "      <td>https://lichess.org/c9qfp8es</td>\n",
       "      <td>peter2</td>\n",
       "      <td>Killi</td>\n",
       "      <td>Black</td>\n",
       "      <td>1519.0</td>\n",
       "      <td>1572.0</td>\n",
       "      <td>-9.0</td>\n",
       "      <td>9.0</td>\n",
       "      <td>C28</td>\n",
       "      <td>480+0</td>\n",
       "      <td>Normal</td>\n",
       "      <td>1. e4 Nc6 2. Nc3 e5 3. Bc4 Nf6 4. d3 h6 5. f3 ...</td>\n",
       "      <td>NaN</td>\n",
       "      <td>NaN</td>\n",
       "      <td>&lt;NA&gt;</td>\n",
       "      <td>2013-01-01 00:51:20</td>\n",
       "    </tr>\n",
       "  </tbody>\n",
       "</table>\n",
       "</div>"
      ],
      "text/plain": [
       "       Event                          Site           White      Black Result  \\\n",
       "0  Classical  https://lichess.org/a9tcp02g  Desmond_Wilson  savinka59  White   \n",
       "1  Classical  https://lichess.org/iclkx584        Voltvolf  Marzinkus  White   \n",
       "2  Classical  https://lichess.org/ufcqmfxx             6WX    adamsrj  White   \n",
       "3  Classical  https://lichess.org/qwuudn2s     sebastian44  jtkjtkful  Black   \n",
       "4  Classical  https://lichess.org/c9qfp8es          peter2      Killi  Black   \n",
       "\n",
       "   WhiteElo  BlackElo  WhiteRatingDiff  BlackRatingDiff  ECO TimeControl  \\\n",
       "0    1654.0    1919.0             19.0            -22.0  D04       480+2   \n",
       "1    1824.0    1811.0             11.0            -11.0  C02       360+6   \n",
       "2    1463.0    1504.0             62.0            -12.0  C44     1560+30   \n",
       "3    1347.0    1519.0             -6.0             23.0  B01       300+5   \n",
       "4    1519.0    1572.0             -9.0              9.0  C28       480+0   \n",
       "\n",
       "    Termination                                              Moves WhiteTitle  \\\n",
       "0        Normal  1. d4 d5 2. Nf3 Nf6 3. e3 Bf5 4. Nh4 Bg6 5. Nx...        NaN   \n",
       "1        Normal  1. e4 e6 2. d4 d5 3. e5 c5 4. c3 Ne7 5. f4 cxd...        NaN   \n",
       "2        Normal  1. e4 e5 2. Nf3 Nc6 3. Bc4 Be7 4. d4 exd4 5. N...        NaN   \n",
       "3  Time forfeit  1. e4 d5 2. e5 d4 3. Nf3 Nc6 4. c3 d3 5. Na3 f...        NaN   \n",
       "4        Normal  1. e4 Nc6 2. Nc3 e5 3. Bc4 Nf6 4. d3 h6 5. f3 ...        NaN   \n",
       "\n",
       "  BlackTitle LichessId                Date  \n",
       "0        NaN      <NA> 2012-12-31 23:04:12  \n",
       "1        NaN      <NA> 2012-12-31 23:10:00  \n",
       "2        NaN      <NA> 2012-12-31 23:16:04  \n",
       "3        NaN      <NA> 2012-12-31 23:24:11  \n",
       "4        NaN      <NA> 2013-01-01 00:51:20  "
      ]
     },
     "execution_count": 2,
     "metadata": {},
     "output_type": "execute_result"
    }
   ],
   "source": [
    "df = pd.read_parquet(\"./lichess-sampled.parquet\")\n",
    "df.head()"
   ]
  },
  {
   "cell_type": "markdown",
   "id": "6cdf1585",
   "metadata": {},
   "source": [
    "# Counts of Games by Elo"
   ]
  },
  {
   "cell_type": "code",
   "execution_count": 12,
   "id": "88203378",
   "metadata": {},
   "outputs": [],
   "source": [
    "elos = pd.concat([df.WhiteElo, df.BlackElo])\n",
    "elo_counts = elos.value_counts().sort_index()"
   ]
  },
  {
   "cell_type": "code",
   "execution_count": 13,
   "id": "6454f4ed",
   "metadata": {},
   "outputs": [
    {
     "data": {
      "text/plain": [
       "<AxesSubplot:>"
      ]
     },
     "execution_count": 13,
     "metadata": {},
     "output_type": "execute_result"
    },
    {
     "data": {
      "image/png": "[encoded data removed]",
      "text/plain": [
       "<Figure size 432x288 with 1 Axes>"
      ]
     },
     "metadata": {
      "needs_background": "light"
     },
     "output_type": "display_data"
    }
   ],
   "source": [
    "elo_counts.plot()"
   ]
  },
  {
   "cell_type": "markdown",
   "id": "06d4e40d",
   "metadata": {},
   "source": [
    "This appears to be a normal distribution, but with a spike right around 1500, the most likely cause of which is that new accounts start with 1500 elo on lichess. The normal distribution follows from the definition of elo."
   ]
  },
  {
   "cell_type": "code",
   "execution_count": 15,
   "id": "687359ec",
   "metadata": {
    "scrolled": true
   },
   "outputs": [
    {
     "data": {
      "text/plain": [
       "<AxesSubplot:>"
      ]
     },
     "execution_count": 15,
     "metadata": {},
     "output_type": "execute_result"
    },
    {
     "data": {
      "image/png": "[encoded data removed]",
      "text/plain": [
       "<Figure size 432x288 with 1 Axes>"
      ]
     },
     "metadata": {
      "needs_background": "light"
     },
     "output_type": "display_data"
    }
   ],
   "source": [
    "elo_counts.rolling(window=20, center=True).mean().plot()"
   ]
  },
  {
   "cell_type": "markdown",
   "id": "67f9e983",
   "metadata": {},
   "source": [
    "Smoothing it makes the normal distribution more apparent, but reduces the severity of the spike."
   ]
  },
  {
   "cell_type": "code",
   "execution_count": 20,
   "id": "b7ca2725",
   "metadata": {},
   "outputs": [
    {
     "data": {
      "text/plain": [
       "<AxesSubplot:>"
      ]
     },
     "execution_count": 20,
     "metadata": {},
     "output_type": "execute_result"
    },
    {
     "data": {
      "image/png": "[encoded data removed]",
      "text/plain": [
       "<Figure size 432x288 with 1 Axes>"
      ]
     },
     "metadata": {
      "needs_background": "light"
     },
     "output_type": "display_data"
    }
   ],
   "source": [
    "elo_counts[1485:1515].plot()"
   ]
  },
  {
   "cell_type": "markdown",
   "id": "5f728989",
   "metadata": {},
   "source": [
    "The spike is right at 1500, and not around it, which implies many people playing one game and not a second."
   ]
  },
  {
   "cell_type": "markdown",
   "id": "1234934c",
   "metadata": {},
   "source": [
    "# Change to the net elo in the system?"
   ]
  },
  {
   "cell_type": "code",
   "execution_count": 21,
   "id": "98ace2ca",
   "metadata": {},
   "outputs": [],
   "source": [
    "df[\"NetElo\"] = df.WhiteRatingDiff + df.BlackRatingDiff"
   ]
  },
  {
   "cell_type": "code",
   "execution_count": 22,
   "id": "47451556",
   "metadata": {},
   "outputs": [
    {
     "data": {
      "text/plain": [
       "-7629488.0"
      ]
     },
     "execution_count": 22,
     "metadata": {},
     "output_type": "execute_result"
    }
   ],
   "source": [
    "df.NetElo.sum()"
   ]
  },
  {
   "cell_type": "markdown",
   "id": "61f04202",
   "metadata": {},
   "source": [
    "Amongst these games, we have a net loss of elo, even though elo \"should be\" zero-sum. In reality there are developmental factors (new players move around faster, veterans move around slower as they settle)."
   ]
  },
  {
   "cell_type": "code",
   "execution_count": 25,
   "id": "696a4e7a",
   "metadata": {
    "scrolled": true
   },
   "outputs": [
    {
     "data": {
      "text/plain": [
       "<AxesSubplot:>"
      ]
     },
     "execution_count": 25,
     "metadata": {},
     "output_type": "execute_result"
    },
    {
     "data": {
      "image/png": "[encoded data removed]",
      "text/plain": [
       "<Figure size 432x288 with 1 Axes>"
      ]
     },
     "metadata": {
      "needs_background": "light"
     },
     "output_type": "display_data"
    }
   ],
   "source": [
    "df.NetElo.value_counts().sort_index().plot()"
   ]
  },
  {
   "cell_type": "markdown",
   "id": "c1562a77",
   "metadata": {},
   "source": [
    "Though in most cases, the net for the system will be zero.\n",
    "\n",
    "Let's look at some of the anomalies."
   ]
  },
  {
   "cell_type": "code",
   "execution_count": 31,
   "id": "83bf3e84",
   "metadata": {},
   "outputs": [
    {
     "data": {
      "text/html": [
       "<div>\n",
       "<style scoped>\n",
       "    .dataframe tbody tr th:only-of-type {\n",
       "        vertical-align: middle;\n",
       "    }\n",
       "\n",
       "    .dataframe tbody tr th {\n",
       "        vertical-align: top;\n",
       "    }\n",
       "\n",
       "    .dataframe thead th {\n",
       "        text-align: right;\n",
       "    }\n",
       "</style>\n",
       "<table border=\"1\" class=\"dataframe\">\n",
       "  <thead>\n",
       "    <tr style=\"text-align: right;\">\n",
       "      <th></th>\n",
       "      <th>Event</th>\n",
       "      <th>Site</th>\n",
       "      <th>White</th>\n",
       "      <th>Black</th>\n",
       "      <th>Result</th>\n",
       "      <th>WhiteElo</th>\n",
       "      <th>BlackElo</th>\n",
       "      <th>WhiteRatingDiff</th>\n",
       "      <th>BlackRatingDiff</th>\n",
       "      <th>ECO</th>\n",
       "      <th>TimeControl</th>\n",
       "      <th>Termination</th>\n",
       "      <th>Moves</th>\n",
       "      <th>WhiteTitle</th>\n",
       "      <th>BlackTitle</th>\n",
       "      <th>LichessId</th>\n",
       "      <th>Date</th>\n",
       "      <th>NetElo</th>\n",
       "    </tr>\n",
       "  </thead>\n",
       "  <tbody>\n",
       "    <tr>\n",
       "      <th>98737</th>\n",
       "      <td>Classical</td>\n",
       "      <td>https://lichess.org/BQ5QIGv9</td>\n",
       "      <td>DevinWhoo</td>\n",
       "      <td>nik2147</td>\n",
       "      <td>White</td>\n",
       "      <td>836.0</td>\n",
       "      <td>1500.0</td>\n",
       "      <td>17.0</td>\n",
       "      <td>-619.0</td>\n",
       "      <td>C41</td>\n",
       "      <td>900+0</td>\n",
       "      <td>Time forfeit</td>\n",
       "      <td>1. e4 { [%clk 0:15:00] } e5 { [%clk 0:15:00] }...</td>\n",
       "      <td>NaN</td>\n",
       "      <td>NaN</td>\n",
       "      <td>&lt;NA&gt;</td>\n",
       "      <td>2017-04-27 07:55:26</td>\n",
       "      <td>-602.0</td>\n",
       "    </tr>\n",
       "    <tr>\n",
       "      <th>17480</th>\n",
       "      <td>Classical</td>\n",
       "      <td>https://lichess.org/Z7FyYxCG</td>\n",
       "      <td>MK-2013</td>\n",
       "      <td>Rashmithareddy</td>\n",
       "      <td>White</td>\n",
       "      <td>1050.0</td>\n",
       "      <td>1500.0</td>\n",
       "      <td>17.0</td>\n",
       "      <td>-900.0</td>\n",
       "      <td>C41</td>\n",
       "      <td>1200+15</td>\n",
       "      <td>Normal</td>\n",
       "      <td>1. e4 { [%clk 0:17:20] } e5 { [%clk 0:20:06] }...</td>\n",
       "      <td>NaN</td>\n",
       "      <td>NaN</td>\n",
       "      <td>&lt;NA&gt;</td>\n",
       "      <td>2020-09-23 12:30:00</td>\n",
       "      <td>-883.0</td>\n",
       "    </tr>\n",
       "    <tr>\n",
       "      <th>17955</th>\n",
       "      <td>Classical</td>\n",
       "      <td>https://lichess.org/se0DUwp4</td>\n",
       "      <td>nanang_7</td>\n",
       "      <td>luan_ribeiro</td>\n",
       "      <td>Black</td>\n",
       "      <td>1500.0</td>\n",
       "      <td>1223.0</td>\n",
       "      <td>-626.0</td>\n",
       "      <td>16.0</td>\n",
       "      <td>C44</td>\n",
       "      <td>180+180</td>\n",
       "      <td>Normal</td>\n",
       "      <td>1. e4 { [%eval 0.0] [%clk 0:03:00] } 1... e5 {...</td>\n",
       "      <td>NaN</td>\n",
       "      <td>NaN</td>\n",
       "      <td>&lt;NA&gt;</td>\n",
       "      <td>2020-09-23 23:30:38</td>\n",
       "      <td>-610.0</td>\n",
       "    </tr>\n",
       "    <tr>\n",
       "      <th>17996</th>\n",
       "      <td>Classical</td>\n",
       "      <td>https://lichess.org/izAtowVM</td>\n",
       "      <td>chesslover2016</td>\n",
       "      <td>pico007</td>\n",
       "      <td>White</td>\n",
       "      <td>1880.0</td>\n",
       "      <td>2425.0</td>\n",
       "      <td>16.0</td>\n",
       "      <td>-769.0</td>\n",
       "      <td>A40</td>\n",
       "      <td>900+15</td>\n",
       "      <td>Normal</td>\n",
       "      <td>1. d4 { [%clk 0:15:00] } e6 { [%clk 0:15:00] }...</td>\n",
       "      <td>NaN</td>\n",
       "      <td>NaN</td>\n",
       "      <td>&lt;NA&gt;</td>\n",
       "      <td>2020-09-24 01:42:57</td>\n",
       "      <td>-753.0</td>\n",
       "    </tr>\n",
       "    <tr>\n",
       "      <th>21604</th>\n",
       "      <td>Classical</td>\n",
       "      <td>https://lichess.org/0H22jNhH</td>\n",
       "      <td>RICEMA</td>\n",
       "      <td>dawipa</td>\n",
       "      <td>White</td>\n",
       "      <td>1160.0</td>\n",
       "      <td>1500.0</td>\n",
       "      <td>5.0</td>\n",
       "      <td>-658.0</td>\n",
       "      <td>C41</td>\n",
       "      <td>1800+8</td>\n",
       "      <td>Normal</td>\n",
       "      <td>1. e4 { [%clk 0:30:00] } e5 { [%clk 0:30:00] }...</td>\n",
       "      <td>NaN</td>\n",
       "      <td>NaN</td>\n",
       "      <td>&lt;NA&gt;</td>\n",
       "      <td>2020-09-28 14:45:51</td>\n",
       "      <td>-653.0</td>\n",
       "    </tr>\n",
       "    <tr>\n",
       "      <th>...</th>\n",
       "      <td>...</td>\n",
       "      <td>...</td>\n",
       "      <td>...</td>\n",
       "      <td>...</td>\n",
       "      <td>...</td>\n",
       "      <td>...</td>\n",
       "      <td>...</td>\n",
       "      <td>...</td>\n",
       "      <td>...</td>\n",
       "      <td>...</td>\n",
       "      <td>...</td>\n",
       "      <td>...</td>\n",
       "      <td>...</td>\n",
       "      <td>...</td>\n",
       "      <td>...</td>\n",
       "      <td>...</td>\n",
       "      <td>...</td>\n",
       "      <td>...</td>\n",
       "    </tr>\n",
       "    <tr>\n",
       "      <th>22096</th>\n",
       "      <td>Classical</td>\n",
       "      <td>https://lichess.org/aIcY1P6d</td>\n",
       "      <td>KirillMamaev</td>\n",
       "      <td>Lochachech</td>\n",
       "      <td>Black</td>\n",
       "      <td>1500.0</td>\n",
       "      <td>1051.0</td>\n",
       "      <td>-700.0</td>\n",
       "      <td>10.0</td>\n",
       "      <td>B01</td>\n",
       "      <td>10800+180</td>\n",
       "      <td>Normal</td>\n",
       "      <td>1. e4 { [%clk 3:00:00] } 1... d5 { [%clk 3:00:...</td>\n",
       "      <td>NaN</td>\n",
       "      <td>NaN</td>\n",
       "      <td>&lt;NA&gt;</td>\n",
       "      <td>2021-11-25 17:39:09</td>\n",
       "      <td>-690.0</td>\n",
       "    </tr>\n",
       "    <tr>\n",
       "      <th>24476</th>\n",
       "      <td>Classical</td>\n",
       "      <td>https://lichess.org/LP2XAeoy</td>\n",
       "      <td>padfootlupin</td>\n",
       "      <td>AyanshVerma2021</td>\n",
       "      <td>Black</td>\n",
       "      <td>1500.0</td>\n",
       "      <td>865.0</td>\n",
       "      <td>-700.0</td>\n",
       "      <td>39.0</td>\n",
       "      <td>D00</td>\n",
       "      <td>1500+5</td>\n",
       "      <td>Normal</td>\n",
       "      <td>1. d4 { [%eval 0.0] [%clk 0:25:00] } 1... d5 {...</td>\n",
       "      <td>NaN</td>\n",
       "      <td>NaN</td>\n",
       "      <td>&lt;NA&gt;</td>\n",
       "      <td>2021-11-28 10:30:15</td>\n",
       "      <td>-661.0</td>\n",
       "    </tr>\n",
       "    <tr>\n",
       "      <th>26038</th>\n",
       "      <td>Classical</td>\n",
       "      <td>https://lichess.org/2kH6eGqI</td>\n",
       "      <td>MP_theorema</td>\n",
       "      <td>Sarwo74_BC</td>\n",
       "      <td>White</td>\n",
       "      <td>1180.0</td>\n",
       "      <td>1500.0</td>\n",
       "      <td>6.0</td>\n",
       "      <td>-620.0</td>\n",
       "      <td>B00</td>\n",
       "      <td>900+20</td>\n",
       "      <td>Normal</td>\n",
       "      <td>1. e4 { [%clk 0:15:00] } 1... Nc6 { [%clk 0:15...</td>\n",
       "      <td>NaN</td>\n",
       "      <td>NaN</td>\n",
       "      <td>&lt;NA&gt;</td>\n",
       "      <td>2021-11-29 23:09:27</td>\n",
       "      <td>-614.0</td>\n",
       "    </tr>\n",
       "    <tr>\n",
       "      <th>26196</th>\n",
       "      <td>Classical</td>\n",
       "      <td>https://lichess.org/hoMP4oCZ</td>\n",
       "      <td>Andrey_Uralov</td>\n",
       "      <td>pumlurbuml</td>\n",
       "      <td>White</td>\n",
       "      <td>1149.0</td>\n",
       "      <td>1500.0</td>\n",
       "      <td>5.0</td>\n",
       "      <td>-677.0</td>\n",
       "      <td>C42</td>\n",
       "      <td>1800+10</td>\n",
       "      <td>Normal</td>\n",
       "      <td>1. e4 { [%clk 0:30:00] } 1... e5 { [%clk 0:30:...</td>\n",
       "      <td>NaN</td>\n",
       "      <td>NaN</td>\n",
       "      <td>&lt;NA&gt;</td>\n",
       "      <td>2021-11-30 06:43:04</td>\n",
       "      <td>-672.0</td>\n",
       "    </tr>\n",
       "    <tr>\n",
       "      <th>26694</th>\n",
       "      <td>Classical</td>\n",
       "      <td>https://lichess.org/tsVdzAWu</td>\n",
       "      <td>Puzzledski</td>\n",
       "      <td>RV_11</td>\n",
       "      <td>White</td>\n",
       "      <td>1163.0</td>\n",
       "      <td>1500.0</td>\n",
       "      <td>6.0</td>\n",
       "      <td>-650.0</td>\n",
       "      <td>A41</td>\n",
       "      <td>1800+0</td>\n",
       "      <td>Time forfeit</td>\n",
       "      <td>1. d4 { [%clk 0:30:00] } 1... d6 { [%clk 0:30:...</td>\n",
       "      <td>NaN</td>\n",
       "      <td>NaN</td>\n",
       "      <td>&lt;NA&gt;</td>\n",
       "      <td>2021-11-30 17:44:48</td>\n",
       "      <td>-644.0</td>\n",
       "    </tr>\n",
       "  </tbody>\n",
       "</table>\n",
       "<p>566 rows × 18 columns</p>\n",
       "</div>"
      ],
      "text/plain": [
       "           Event                          Site           White  \\\n",
       "98737  Classical  https://lichess.org/BQ5QIGv9       DevinWhoo   \n",
       "17480  Classical  https://lichess.org/Z7FyYxCG         MK-2013   \n",
       "17955  Classical  https://lichess.org/se0DUwp4        nanang_7   \n",
       "17996  Classical  https://lichess.org/izAtowVM  chesslover2016   \n",
       "21604  Classical  https://lichess.org/0H22jNhH          RICEMA   \n",
       "...          ...                           ...             ...   \n",
       "22096  Classical  https://lichess.org/aIcY1P6d    KirillMamaev   \n",
       "24476  Classical  https://lichess.org/LP2XAeoy    padfootlupin   \n",
       "26038  Classical  https://lichess.org/2kH6eGqI     MP_theorema   \n",
       "26196  Classical  https://lichess.org/hoMP4oCZ   Andrey_Uralov   \n",
       "26694  Classical  https://lichess.org/tsVdzAWu      Puzzledski   \n",
       "\n",
       "                 Black Result  WhiteElo  BlackElo  WhiteRatingDiff  \\\n",
       "98737          nik2147  White     836.0    1500.0             17.0   \n",
       "17480   Rashmithareddy  White    1050.0    1500.0             17.0   \n",
       "17955     luan_ribeiro  Black    1500.0    1223.0           -626.0   \n",
       "17996          pico007  White    1880.0    2425.0             16.0   \n",
       "21604           dawipa  White    1160.0    1500.0              5.0   \n",
       "...                ...    ...       ...       ...              ...   \n",
       "22096       Lochachech  Black    1500.0    1051.0           -700.0   \n",
       "24476  AyanshVerma2021  Black    1500.0     865.0           -700.0   \n",
       "26038       Sarwo74_BC  White    1180.0    1500.0              6.0   \n",
       "26196       pumlurbuml  White    1149.0    1500.0              5.0   \n",
       "26694            RV_11  White    1163.0    1500.0              6.0   \n",
       "\n",
       "       BlackRatingDiff  ECO TimeControl   Termination  \\\n",
       "98737           -619.0  C41       900+0  Time forfeit   \n",
       "17480           -900.0  C41     1200+15        Normal   \n",
       "17955             16.0  C44     180+180        Normal   \n",
       "17996           -769.0  A40      900+15        Normal   \n",
       "21604           -658.0  C41      1800+8        Normal   \n",
       "...                ...  ...         ...           ...   \n",
       "22096             10.0  B01   10800+180        Normal   \n",
       "24476             39.0  D00      1500+5        Normal   \n",
       "26038           -620.0  B00      900+20        Normal   \n",
       "26196           -677.0  C42     1800+10        Normal   \n",
       "26694           -650.0  A41      1800+0  Time forfeit   \n",
       "\n",
       "                                                   Moves WhiteTitle  \\\n",
       "98737  1. e4 { [%clk 0:15:00] } e5 { [%clk 0:15:00] }...        NaN   \n",
       "17480  1. e4 { [%clk 0:17:20] } e5 { [%clk 0:20:06] }...        NaN   \n",
       "17955  1. e4 { [%eval 0.0] [%clk 0:03:00] } 1... e5 {...        NaN   \n",
       "17996  1. d4 { [%clk 0:15:00] } e6 { [%clk 0:15:00] }...        NaN   \n",
       "21604  1. e4 { [%clk 0:30:00] } e5 { [%clk 0:30:00] }...        NaN   \n",
       "...                                                  ...        ...   \n",
       "22096  1. e4 { [%clk 3:00:00] } 1... d5 { [%clk 3:00:...        NaN   \n",
       "24476  1. d4 { [%eval 0.0] [%clk 0:25:00] } 1... d5 {...        NaN   \n",
       "26038  1. e4 { [%clk 0:15:00] } 1... Nc6 { [%clk 0:15...        NaN   \n",
       "26196  1. e4 { [%clk 0:30:00] } 1... e5 { [%clk 0:30:...        NaN   \n",
       "26694  1. d4 { [%clk 0:30:00] } 1... d6 { [%clk 0:30:...        NaN   \n",
       "\n",
       "      BlackTitle LichessId                Date  NetElo  \n",
       "98737        NaN      <NA> 2017-04-27 07:55:26  -602.0  \n",
       "17480        NaN      <NA> 2020-09-23 12:30:00  -883.0  \n",
       "17955        NaN      <NA> 2020-09-23 23:30:38  -610.0  \n",
       "17996        NaN      <NA> 2020-09-24 01:42:57  -753.0  \n",
       "21604        NaN      <NA> 2020-09-28 14:45:51  -653.0  \n",
       "...          ...       ...                 ...     ...  \n",
       "22096        NaN      <NA> 2021-11-25 17:39:09  -690.0  \n",
       "24476        NaN      <NA> 2021-11-28 10:30:15  -661.0  \n",
       "26038        NaN      <NA> 2021-11-29 23:09:27  -614.0  \n",
       "26196        NaN      <NA> 2021-11-30 06:43:04  -672.0  \n",
       "26694        NaN      <NA> 2021-11-30 17:44:48  -644.0  \n",
       "\n",
       "[566 rows x 18 columns]"
      ]
     },
     "execution_count": 31,
     "metadata": {},
     "output_type": "execute_result"
    }
   ],
   "source": [
    "df[df.NetElo < -600]"
   ]
  },
  {
   "cell_type": "markdown",
   "id": "48adadc9",
   "metadata": {},
   "source": [
    "It looks like the anomalies are between players with 1500 ratings (new players) and another player, or otherwise have a large disparity. Manually checking some of the games in question shows those players had \"provisional\" ratings, ones that were not very set in stone."
   ]
  },
  {
   "cell_type": "code",
   "execution_count": 41,
   "id": "45c8e7ad",
   "metadata": {},
   "outputs": [
    {
     "data": {
      "text/plain": [
       "<AxesSubplot:>"
      ]
     },
     "execution_count": 41,
     "metadata": {},
     "output_type": "execute_result"
    },
    {
     "data": {
      "image/png": "[encoded data removed]",
      "text/plain": [
       "<Figure size 432x288 with 1 Axes>"
      ]
     },
     "metadata": {
      "needs_background": "light"
     },
     "output_type": "display_data"
    }
   ],
   "source": [
    "pd.qcut(df.NetElo, q=6).value_counts().sort_index().plot.bar()"
   ]
  },
  {
   "cell_type": "markdown",
   "id": "5eb4aa08",
   "metadata": {},
   "source": [
    "Binning the data into six bins shows us that the most common occurance is for there to be no net change, or a net change slightly negative. Positive outcomes are less likely overall."
   ]
  },
  {
   "cell_type": "markdown",
   "id": "6967d8ae",
   "metadata": {},
   "source": [
    "# Elo and Opening Frequency"
   ]
  },
  {
   "cell_type": "code",
   "execution_count": 54,
   "id": "c0fca3c9",
   "metadata": {},
   "outputs": [
    {
     "data": {
      "text/html": [
       "<div>\n",
       "<style scoped>\n",
       "    .dataframe tbody tr th:only-of-type {\n",
       "        vertical-align: middle;\n",
       "    }\n",
       "\n",
       "    .dataframe tbody tr th {\n",
       "        vertical-align: top;\n",
       "    }\n",
       "\n",
       "    .dataframe thead th {\n",
       "        text-align: right;\n",
       "    }\n",
       "</style>\n",
       "<table border=\"1\" class=\"dataframe\">\n",
       "  <thead>\n",
       "    <tr style=\"text-align: right;\">\n",
       "      <th></th>\n",
       "      <th>Color</th>\n",
       "      <th>Elo</th>\n",
       "      <th>Opening</th>\n",
       "    </tr>\n",
       "  </thead>\n",
       "  <tbody>\n",
       "    <tr>\n",
       "      <th>0</th>\n",
       "      <td>White</td>\n",
       "      <td>High-Mid</td>\n",
       "      <td>D04</td>\n",
       "    </tr>\n",
       "    <tr>\n",
       "      <th>1</th>\n",
       "      <td>White</td>\n",
       "      <td>High</td>\n",
       "      <td>C02</td>\n",
       "    </tr>\n",
       "    <tr>\n",
       "      <th>2</th>\n",
       "      <td>White</td>\n",
       "      <td>Low-Mid</td>\n",
       "      <td>C44</td>\n",
       "    </tr>\n",
       "    <tr>\n",
       "      <th>3</th>\n",
       "      <td>White</td>\n",
       "      <td>Low</td>\n",
       "      <td>B01</td>\n",
       "    </tr>\n",
       "    <tr>\n",
       "      <th>4</th>\n",
       "      <td>White</td>\n",
       "      <td>Low-Mid</td>\n",
       "      <td>C28</td>\n",
       "    </tr>\n",
       "  </tbody>\n",
       "</table>\n",
       "</div>"
      ],
      "text/plain": [
       "   Color       Elo Opening\n",
       "0  White  High-Mid     D04\n",
       "1  White      High     C02\n",
       "2  White   Low-Mid     C44\n",
       "3  White       Low     B01\n",
       "4  White   Low-Mid     C28"
      ]
     },
     "execution_count": 54,
     "metadata": {},
     "output_type": "execute_result"
    }
   ],
   "source": [
    "EloOpenings = pd.DataFrame()\n",
    "EloOpenings[\"Color\"] = [\"White\"] * len(df) + [\"Black\"] * len(df)\n",
    "EloOpenings[\"Elo\"] = df.WhiteElo.append(df.BlackElo).reset_index(drop=True)\n",
    "EloOpenings.Elo = pd.qcut(EloOpenings.Elo, q=4, labels=[\"Low\", \"Low-Mid\", \"High-Mid\", \"High\"])\n",
    "EloOpenings[\"Opening\"] = df.ECO.append(df.ECO).reset_index(drop=True)\n",
    "EloOpenings.head()"
   ]
  },
  {
   "cell_type": "code",
   "execution_count": 65,
   "id": "6f8204dd",
   "metadata": {},
   "outputs": [
    {
     "data": {
      "text/html": [
       "<div>\n",
       "<style scoped>\n",
       "    .dataframe tbody tr th:only-of-type {\n",
       "        vertical-align: middle;\n",
       "    }\n",
       "\n",
       "    .dataframe tbody tr th {\n",
       "        vertical-align: top;\n",
       "    }\n",
       "\n",
       "    .dataframe thead th {\n",
       "        text-align: right;\n",
       "    }\n",
       "</style>\n",
       "<table border=\"1\" class=\"dataframe\">\n",
       "  <thead>\n",
       "    <tr style=\"text-align: right;\">\n",
       "      <th>Color</th>\n",
       "      <th>Black</th>\n",
       "      <th>White</th>\n",
       "    </tr>\n",
       "    <tr>\n",
       "      <th>Elo</th>\n",
       "      <th></th>\n",
       "      <th></th>\n",
       "    </tr>\n",
       "  </thead>\n",
       "  <tbody>\n",
       "    <tr>\n",
       "      <th>Low</th>\n",
       "      <td>0.252689</td>\n",
       "      <td>0.248708</td>\n",
       "    </tr>\n",
       "    <tr>\n",
       "      <th>Low-Mid</th>\n",
       "      <td>0.249817</td>\n",
       "      <td>0.251569</td>\n",
       "    </tr>\n",
       "    <tr>\n",
       "      <th>High-Mid</th>\n",
       "      <td>0.249336</td>\n",
       "      <td>0.249333</td>\n",
       "    </tr>\n",
       "    <tr>\n",
       "      <th>High</th>\n",
       "      <td>0.248158</td>\n",
       "      <td>0.250391</td>\n",
       "    </tr>\n",
       "  </tbody>\n",
       "</table>\n",
       "</div>"
      ],
      "text/plain": [
       "Color        Black     White\n",
       "Elo                         \n",
       "Low       0.252689  0.248708\n",
       "Low-Mid   0.249817  0.251569\n",
       "High-Mid  0.249336  0.249333\n",
       "High      0.248158  0.250391"
      ]
     },
     "execution_count": 65,
     "metadata": {},
     "output_type": "execute_result"
    }
   ],
   "source": [
    "pd.crosstab(EloOpenings.Elo, EloOpenings.Color, normalize=\"columns\")"
   ]
  },
  {
   "cell_type": "code",
   "execution_count": 69,
   "id": "760766b9",
   "metadata": {},
   "outputs": [
    {
     "data": {
      "text/html": [
       "<div>\n",
       "<style scoped>\n",
       "    .dataframe tbody tr th:only-of-type {\n",
       "        vertical-align: middle;\n",
       "    }\n",
       "\n",
       "    .dataframe tbody tr th {\n",
       "        vertical-align: top;\n",
       "    }\n",
       "\n",
       "    .dataframe thead th {\n",
       "        text-align: right;\n",
       "    }\n",
       "</style>\n",
       "<table border=\"1\" class=\"dataframe\">\n",
       "  <thead>\n",
       "    <tr style=\"text-align: right;\">\n",
       "      <th></th>\n",
       "      <th></th>\n",
       "      <th>Opening</th>\n",
       "    </tr>\n",
       "    <tr>\n",
       "      <th>Color</th>\n",
       "      <th>Elo</th>\n",
       "      <th></th>\n",
       "    </tr>\n",
       "  </thead>\n",
       "  <tbody>\n",
       "    <tr>\n",
       "      <th rowspan=\"4\" valign=\"top\">Black</th>\n",
       "      <th>Low</th>\n",
       "      <td>['C20', 'A00', 'D00', 'B01', 'B00', 'C40', 'A4...</td>\n",
       "    </tr>\n",
       "    <tr>\n",
       "      <th>Low-Mid</th>\n",
       "      <td>['C20', 'A00', 'D00', 'C41', 'B01', 'C00', 'B0...</td>\n",
       "    </tr>\n",
       "    <tr>\n",
       "      <th>High-Mid</th>\n",
       "      <td>['C41', 'A00', 'D00', 'C00', 'B01', 'C20', 'B2...</td>\n",
       "    </tr>\n",
       "    <tr>\n",
       "      <th>High</th>\n",
       "      <td>['C00', 'A00', 'D00', 'B01', 'B20', 'C41', 'A4...</td>\n",
       "    </tr>\n",
       "    <tr>\n",
       "      <th rowspan=\"4\" valign=\"top\">White</th>\n",
       "      <th>Low</th>\n",
       "      <td>['C20', 'A00', 'D00', 'B01', 'B00', 'C00', 'A4...</td>\n",
       "    </tr>\n",
       "    <tr>\n",
       "      <th>Low-Mid</th>\n",
       "      <td>['C20', 'A00', 'D00', 'C41', 'B01', 'C00', 'B0...</td>\n",
       "    </tr>\n",
       "    <tr>\n",
       "      <th>High-Mid</th>\n",
       "      <td>['C41', 'C00', 'D00', 'A00', 'B01', 'B00', 'B2...</td>\n",
       "    </tr>\n",
       "    <tr>\n",
       "      <th>High</th>\n",
       "      <td>['C00', 'B01', 'C41', 'D00', 'A40', 'B00', 'A0...</td>\n",
       "    </tr>\n",
       "  </tbody>\n",
       "</table>\n",
       "</div>"
      ],
      "text/plain": [
       "                                                          Opening\n",
       "Color Elo                                                        \n",
       "Black Low       ['C20', 'A00', 'D00', 'B01', 'B00', 'C40', 'A4...\n",
       "      Low-Mid   ['C20', 'A00', 'D00', 'C41', 'B01', 'C00', 'B0...\n",
       "      High-Mid  ['C41', 'A00', 'D00', 'C00', 'B01', 'C20', 'B2...\n",
       "      High      ['C00', 'A00', 'D00', 'B01', 'B20', 'C41', 'A4...\n",
       "White Low       ['C20', 'A00', 'D00', 'B01', 'B00', 'C00', 'A4...\n",
       "      Low-Mid   ['C20', 'A00', 'D00', 'C41', 'B01', 'C00', 'B0...\n",
       "      High-Mid  ['C41', 'C00', 'D00', 'A00', 'B01', 'B00', 'B2...\n",
       "      High      ['C00', 'B01', 'C41', 'D00', 'A40', 'B00', 'A0..."
      ]
     },
     "execution_count": 69,
     "metadata": {},
     "output_type": "execute_result"
    }
   ],
   "source": [
    "EloOpenings.groupby([\"Color\", \"Elo\"]).agg(lambda x:x.value_counts().index[:10])"
   ]
  },
  {
   "cell_type": "code",
   "execution_count": null,
   "id": "ccbcb2b2",
   "metadata": {},
   "outputs": [],
   "source": []
  }
 ],
 "metadata": {
  "kernelspec": {
   "display_name": "Python 3 (ipykernel)",
   "language": "python",
   "name": "python3"
  },
  "language_info": {
   "codemirror_mode": {
    "name": "ipython",
    "version": 3
   },
   "file_extension": ".py",
   "mimetype": "text/x-python",
   "name": "python",
   "nbconvert_exporter": "python",
   "pygments_lexer": "ipython3",
   "version": "3.9.7"
  }
 },
 "nbformat": 4,
 "nbformat_minor": 5
}
